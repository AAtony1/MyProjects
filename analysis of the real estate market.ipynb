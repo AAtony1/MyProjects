{
  "cells": [
    {
      "cell_type": "markdown",
      "metadata": {
        "id": "mPVBseqRiu7_"
      },
      "source": [
        "# Исследовательский анализ данных"
      ]
    },
    {
      "cell_type": "markdown",
      "metadata": {
        "id": "BhjpVdTZiu7_"
      },
      "source": [
        "### Анализ первичной информации"
      ]
    },
    {
      "cell_type": "code",
      "execution_count": null,
      "metadata": {
        "id": "5XTva-vBiu7_"
      },
      "outputs": [],
      "source": [
        "#Открываем файл с данными\n",
        "import pandas as pd\n",
        "data = pd.read_csv('/datasets/real_estate_data.csv', sep ='\\t')\n",
        "old_data = pd.read_csv('/datasets/real_estate_data.csv', sep ='\\t')\n",
        "#Импортируем библиотеку matpotlib для создания графиков\n",
        "import matplotlib.pyplot as plt"
      ]
    },
    {
      "cell_type": "code",
      "execution_count": null,
      "metadata": {
        "id": "AuXeuviciu8B",
        "outputId": "42c0e2c6-63c4-4dea-9dd6-04d4cdbe0554"
      },
      "outputs": [
        {
          "data": {
            "text/html": [
              "<div>\n",
              "<style scoped>\n",
              "    .dataframe tbody tr th:only-of-type {\n",
              "        vertical-align: middle;\n",
              "    }\n",
              "\n",
              "    .dataframe tbody tr th {\n",
              "        vertical-align: top;\n",
              "    }\n",
              "\n",
              "    .dataframe thead th {\n",
              "        text-align: right;\n",
              "    }\n",
              "</style>\n",
              "<table border=\"1\" class=\"dataframe\">\n",
              "  <thead>\n",
              "    <tr style=\"text-align: right;\">\n",
              "      <th></th>\n",
              "      <th>total_images</th>\n",
              "      <th>last_price</th>\n",
              "      <th>total_area</th>\n",
              "      <th>first_day_exposition</th>\n",
              "      <th>rooms</th>\n",
              "      <th>ceiling_height</th>\n",
              "      <th>floors_total</th>\n",
              "      <th>living_area</th>\n",
              "      <th>floor</th>\n",
              "      <th>is_apartment</th>\n",
              "      <th>...</th>\n",
              "      <th>kitchen_area</th>\n",
              "      <th>balcony</th>\n",
              "      <th>locality_name</th>\n",
              "      <th>airports_nearest</th>\n",
              "      <th>cityCenters_nearest</th>\n",
              "      <th>parks_around3000</th>\n",
              "      <th>parks_nearest</th>\n",
              "      <th>ponds_around3000</th>\n",
              "      <th>ponds_nearest</th>\n",
              "      <th>days_exposition</th>\n",
              "    </tr>\n",
              "  </thead>\n",
              "  <tbody>\n",
              "    <tr>\n",
              "      <th>0</th>\n",
              "      <td>20</td>\n",
              "      <td>13000000.0</td>\n",
              "      <td>108.00</td>\n",
              "      <td>2019-03-07T00:00:00</td>\n",
              "      <td>3</td>\n",
              "      <td>2.70</td>\n",
              "      <td>16.0</td>\n",
              "      <td>51.00</td>\n",
              "      <td>8</td>\n",
              "      <td>NaN</td>\n",
              "      <td>...</td>\n",
              "      <td>25.00</td>\n",
              "      <td>NaN</td>\n",
              "      <td>Санкт-Петербург</td>\n",
              "      <td>18863.0</td>\n",
              "      <td>16028.0</td>\n",
              "      <td>1.0</td>\n",
              "      <td>482.0</td>\n",
              "      <td>2.0</td>\n",
              "      <td>755.0</td>\n",
              "      <td>NaN</td>\n",
              "    </tr>\n",
              "    <tr>\n",
              "      <th>1</th>\n",
              "      <td>7</td>\n",
              "      <td>3350000.0</td>\n",
              "      <td>40.40</td>\n",
              "      <td>2018-12-04T00:00:00</td>\n",
              "      <td>1</td>\n",
              "      <td>NaN</td>\n",
              "      <td>11.0</td>\n",
              "      <td>18.60</td>\n",
              "      <td>1</td>\n",
              "      <td>NaN</td>\n",
              "      <td>...</td>\n",
              "      <td>11.00</td>\n",
              "      <td>2.0</td>\n",
              "      <td>посёлок Шушары</td>\n",
              "      <td>12817.0</td>\n",
              "      <td>18603.0</td>\n",
              "      <td>0.0</td>\n",
              "      <td>NaN</td>\n",
              "      <td>0.0</td>\n",
              "      <td>NaN</td>\n",
              "      <td>81.0</td>\n",
              "    </tr>\n",
              "    <tr>\n",
              "      <th>2</th>\n",
              "      <td>10</td>\n",
              "      <td>5196000.0</td>\n",
              "      <td>56.00</td>\n",
              "      <td>2015-08-20T00:00:00</td>\n",
              "      <td>2</td>\n",
              "      <td>NaN</td>\n",
              "      <td>5.0</td>\n",
              "      <td>34.30</td>\n",
              "      <td>4</td>\n",
              "      <td>NaN</td>\n",
              "      <td>...</td>\n",
              "      <td>8.30</td>\n",
              "      <td>0.0</td>\n",
              "      <td>Санкт-Петербург</td>\n",
              "      <td>21741.0</td>\n",
              "      <td>13933.0</td>\n",
              "      <td>1.0</td>\n",
              "      <td>90.0</td>\n",
              "      <td>2.0</td>\n",
              "      <td>574.0</td>\n",
              "      <td>558.0</td>\n",
              "    </tr>\n",
              "    <tr>\n",
              "      <th>3</th>\n",
              "      <td>0</td>\n",
              "      <td>64900000.0</td>\n",
              "      <td>159.00</td>\n",
              "      <td>2015-07-24T00:00:00</td>\n",
              "      <td>3</td>\n",
              "      <td>NaN</td>\n",
              "      <td>14.0</td>\n",
              "      <td>NaN</td>\n",
              "      <td>9</td>\n",
              "      <td>NaN</td>\n",
              "      <td>...</td>\n",
              "      <td>NaN</td>\n",
              "      <td>0.0</td>\n",
              "      <td>Санкт-Петербург</td>\n",
              "      <td>28098.0</td>\n",
              "      <td>6800.0</td>\n",
              "      <td>2.0</td>\n",
              "      <td>84.0</td>\n",
              "      <td>3.0</td>\n",
              "      <td>234.0</td>\n",
              "      <td>424.0</td>\n",
              "    </tr>\n",
              "    <tr>\n",
              "      <th>4</th>\n",
              "      <td>2</td>\n",
              "      <td>10000000.0</td>\n",
              "      <td>100.00</td>\n",
              "      <td>2018-06-19T00:00:00</td>\n",
              "      <td>2</td>\n",
              "      <td>3.03</td>\n",
              "      <td>14.0</td>\n",
              "      <td>32.00</td>\n",
              "      <td>13</td>\n",
              "      <td>NaN</td>\n",
              "      <td>...</td>\n",
              "      <td>41.00</td>\n",
              "      <td>NaN</td>\n",
              "      <td>Санкт-Петербург</td>\n",
              "      <td>31856.0</td>\n",
              "      <td>8098.0</td>\n",
              "      <td>2.0</td>\n",
              "      <td>112.0</td>\n",
              "      <td>1.0</td>\n",
              "      <td>48.0</td>\n",
              "      <td>121.0</td>\n",
              "    </tr>\n",
              "    <tr>\n",
              "      <th>5</th>\n",
              "      <td>10</td>\n",
              "      <td>2890000.0</td>\n",
              "      <td>30.40</td>\n",
              "      <td>2018-09-10T00:00:00</td>\n",
              "      <td>1</td>\n",
              "      <td>NaN</td>\n",
              "      <td>12.0</td>\n",
              "      <td>14.40</td>\n",
              "      <td>5</td>\n",
              "      <td>NaN</td>\n",
              "      <td>...</td>\n",
              "      <td>9.10</td>\n",
              "      <td>NaN</td>\n",
              "      <td>городской посёлок Янино-1</td>\n",
              "      <td>NaN</td>\n",
              "      <td>NaN</td>\n",
              "      <td>NaN</td>\n",
              "      <td>NaN</td>\n",
              "      <td>NaN</td>\n",
              "      <td>NaN</td>\n",
              "      <td>55.0</td>\n",
              "    </tr>\n",
              "    <tr>\n",
              "      <th>6</th>\n",
              "      <td>6</td>\n",
              "      <td>3700000.0</td>\n",
              "      <td>37.30</td>\n",
              "      <td>2017-11-02T00:00:00</td>\n",
              "      <td>1</td>\n",
              "      <td>NaN</td>\n",
              "      <td>26.0</td>\n",
              "      <td>10.60</td>\n",
              "      <td>6</td>\n",
              "      <td>NaN</td>\n",
              "      <td>...</td>\n",
              "      <td>14.40</td>\n",
              "      <td>1.0</td>\n",
              "      <td>посёлок Парголово</td>\n",
              "      <td>52996.0</td>\n",
              "      <td>19143.0</td>\n",
              "      <td>0.0</td>\n",
              "      <td>NaN</td>\n",
              "      <td>0.0</td>\n",
              "      <td>NaN</td>\n",
              "      <td>155.0</td>\n",
              "    </tr>\n",
              "    <tr>\n",
              "      <th>7</th>\n",
              "      <td>5</td>\n",
              "      <td>7915000.0</td>\n",
              "      <td>71.60</td>\n",
              "      <td>2019-04-18T00:00:00</td>\n",
              "      <td>2</td>\n",
              "      <td>NaN</td>\n",
              "      <td>24.0</td>\n",
              "      <td>NaN</td>\n",
              "      <td>22</td>\n",
              "      <td>NaN</td>\n",
              "      <td>...</td>\n",
              "      <td>18.90</td>\n",
              "      <td>2.0</td>\n",
              "      <td>Санкт-Петербург</td>\n",
              "      <td>23982.0</td>\n",
              "      <td>11634.0</td>\n",
              "      <td>0.0</td>\n",
              "      <td>NaN</td>\n",
              "      <td>0.0</td>\n",
              "      <td>NaN</td>\n",
              "      <td>NaN</td>\n",
              "    </tr>\n",
              "    <tr>\n",
              "      <th>8</th>\n",
              "      <td>20</td>\n",
              "      <td>2900000.0</td>\n",
              "      <td>33.16</td>\n",
              "      <td>2018-05-23T00:00:00</td>\n",
              "      <td>1</td>\n",
              "      <td>NaN</td>\n",
              "      <td>27.0</td>\n",
              "      <td>15.43</td>\n",
              "      <td>26</td>\n",
              "      <td>NaN</td>\n",
              "      <td>...</td>\n",
              "      <td>8.81</td>\n",
              "      <td>NaN</td>\n",
              "      <td>посёлок Мурино</td>\n",
              "      <td>NaN</td>\n",
              "      <td>NaN</td>\n",
              "      <td>NaN</td>\n",
              "      <td>NaN</td>\n",
              "      <td>NaN</td>\n",
              "      <td>NaN</td>\n",
              "      <td>189.0</td>\n",
              "    </tr>\n",
              "    <tr>\n",
              "      <th>9</th>\n",
              "      <td>18</td>\n",
              "      <td>5400000.0</td>\n",
              "      <td>61.00</td>\n",
              "      <td>2017-02-26T00:00:00</td>\n",
              "      <td>3</td>\n",
              "      <td>2.50</td>\n",
              "      <td>9.0</td>\n",
              "      <td>43.60</td>\n",
              "      <td>7</td>\n",
              "      <td>NaN</td>\n",
              "      <td>...</td>\n",
              "      <td>6.50</td>\n",
              "      <td>2.0</td>\n",
              "      <td>Санкт-Петербург</td>\n",
              "      <td>50898.0</td>\n",
              "      <td>15008.0</td>\n",
              "      <td>0.0</td>\n",
              "      <td>NaN</td>\n",
              "      <td>0.0</td>\n",
              "      <td>NaN</td>\n",
              "      <td>289.0</td>\n",
              "    </tr>\n",
              "  </tbody>\n",
              "</table>\n",
              "<p>10 rows × 22 columns</p>\n",
              "</div>"
            ],
            "text/plain": [
              "   total_images  last_price  total_area first_day_exposition  rooms  \\\n",
              "0            20  13000000.0      108.00  2019-03-07T00:00:00      3   \n",
              "1             7   3350000.0       40.40  2018-12-04T00:00:00      1   \n",
              "2            10   5196000.0       56.00  2015-08-20T00:00:00      2   \n",
              "3             0  64900000.0      159.00  2015-07-24T00:00:00      3   \n",
              "4             2  10000000.0      100.00  2018-06-19T00:00:00      2   \n",
              "5            10   2890000.0       30.40  2018-09-10T00:00:00      1   \n",
              "6             6   3700000.0       37.30  2017-11-02T00:00:00      1   \n",
              "7             5   7915000.0       71.60  2019-04-18T00:00:00      2   \n",
              "8            20   2900000.0       33.16  2018-05-23T00:00:00      1   \n",
              "9            18   5400000.0       61.00  2017-02-26T00:00:00      3   \n",
              "\n",
              "   ceiling_height  floors_total  living_area  floor is_apartment  ...  \\\n",
              "0            2.70          16.0        51.00      8          NaN  ...   \n",
              "1             NaN          11.0        18.60      1          NaN  ...   \n",
              "2             NaN           5.0        34.30      4          NaN  ...   \n",
              "3             NaN          14.0          NaN      9          NaN  ...   \n",
              "4            3.03          14.0        32.00     13          NaN  ...   \n",
              "5             NaN          12.0        14.40      5          NaN  ...   \n",
              "6             NaN          26.0        10.60      6          NaN  ...   \n",
              "7             NaN          24.0          NaN     22          NaN  ...   \n",
              "8             NaN          27.0        15.43     26          NaN  ...   \n",
              "9            2.50           9.0        43.60      7          NaN  ...   \n",
              "\n",
              "   kitchen_area  balcony              locality_name  airports_nearest  \\\n",
              "0         25.00      NaN            Санкт-Петербург           18863.0   \n",
              "1         11.00      2.0             посёлок Шушары           12817.0   \n",
              "2          8.30      0.0            Санкт-Петербург           21741.0   \n",
              "3           NaN      0.0            Санкт-Петербург           28098.0   \n",
              "4         41.00      NaN            Санкт-Петербург           31856.0   \n",
              "5          9.10      NaN  городской посёлок Янино-1               NaN   \n",
              "6         14.40      1.0          посёлок Парголово           52996.0   \n",
              "7         18.90      2.0            Санкт-Петербург           23982.0   \n",
              "8          8.81      NaN             посёлок Мурино               NaN   \n",
              "9          6.50      2.0            Санкт-Петербург           50898.0   \n",
              "\n",
              "  cityCenters_nearest  parks_around3000  parks_nearest  ponds_around3000  \\\n",
              "0             16028.0               1.0          482.0               2.0   \n",
              "1             18603.0               0.0            NaN               0.0   \n",
              "2             13933.0               1.0           90.0               2.0   \n",
              "3              6800.0               2.0           84.0               3.0   \n",
              "4              8098.0               2.0          112.0               1.0   \n",
              "5                 NaN               NaN            NaN               NaN   \n",
              "6             19143.0               0.0            NaN               0.0   \n",
              "7             11634.0               0.0            NaN               0.0   \n",
              "8                 NaN               NaN            NaN               NaN   \n",
              "9             15008.0               0.0            NaN               0.0   \n",
              "\n",
              "   ponds_nearest  days_exposition  \n",
              "0          755.0              NaN  \n",
              "1            NaN             81.0  \n",
              "2          574.0            558.0  \n",
              "3          234.0            424.0  \n",
              "4           48.0            121.0  \n",
              "5            NaN             55.0  \n",
              "6            NaN            155.0  \n",
              "7            NaN              NaN  \n",
              "8            NaN            189.0  \n",
              "9            NaN            289.0  \n",
              "\n",
              "[10 rows x 22 columns]"
            ]
          },
          "execution_count": 158,
          "metadata": {},
          "output_type": "execute_result"
        }
      ],
      "source": [
        "data.head(10)"
      ]
    },
    {
      "cell_type": "code",
      "execution_count": null,
      "metadata": {
        "id": "BBB4MHO7iu8C",
        "outputId": "ead1486f-ffb2-4c85-eae7-1070c5ac536c"
      },
      "outputs": [
        {
          "name": "stdout",
          "output_type": "stream",
          "text": [
            "<class 'pandas.core.frame.DataFrame'>\n",
            "RangeIndex: 23699 entries, 0 to 23698\n",
            "Data columns (total 22 columns):\n",
            " #   Column                Non-Null Count  Dtype  \n",
            "---  ------                --------------  -----  \n",
            " 0   total_images          23699 non-null  int64  \n",
            " 1   last_price            23699 non-null  float64\n",
            " 2   total_area            23699 non-null  float64\n",
            " 3   first_day_exposition  23699 non-null  object \n",
            " 4   rooms                 23699 non-null  int64  \n",
            " 5   ceiling_height        14504 non-null  float64\n",
            " 6   floors_total          23613 non-null  float64\n",
            " 7   living_area           21796 non-null  float64\n",
            " 8   floor                 23699 non-null  int64  \n",
            " 9   is_apartment          2775 non-null   object \n",
            " 10  studio                23699 non-null  bool   \n",
            " 11  open_plan             23699 non-null  bool   \n",
            " 12  kitchen_area          21421 non-null  float64\n",
            " 13  balcony               12180 non-null  float64\n",
            " 14  locality_name         23650 non-null  object \n",
            " 15  airports_nearest      18157 non-null  float64\n",
            " 16  cityCenters_nearest   18180 non-null  float64\n",
            " 17  parks_around3000      18181 non-null  float64\n",
            " 18  parks_nearest         8079 non-null   float64\n",
            " 19  ponds_around3000      18181 non-null  float64\n",
            " 20  ponds_nearest         9110 non-null   float64\n",
            " 21  days_exposition       20518 non-null  float64\n",
            "dtypes: bool(2), float64(14), int64(3), object(3)\n",
            "memory usage: 3.7+ MB\n"
          ]
        }
      ],
      "source": [
        "#Смотрим общую информацию\n",
        "data.info()"
      ]
    },
    {
      "cell_type": "code",
      "execution_count": null,
      "metadata": {
        "id": "UeCvHiYbiu8C",
        "outputId": "307dc220-b95c-4e9e-97b3-94c6b1e8a702"
      },
      "outputs": [
        {
          "data": {
            "image/png": "[encoded data removed]",
            "text/plain": [
              "<Figure size 1080x1440 with 20 Axes>"
            ]
          },
          "metadata": {
            "needs_background": "light"
          },
          "output_type": "display_data"
        }
      ],
      "source": [
        "#строим общую гистограмму для всех числовых столбцов таблицы.\n",
        "\n",
        "data.hist(figsize=(15, 20), bins=20)\n",
        "plt.show()"
      ]
    },
    {
      "cell_type": "markdown",
      "metadata": {
        "id": "HMqYm_iziu8D"
      },
      "source": [
        "### Предобработка данных"
      ]
    },
    {
      "cell_type": "code",
      "execution_count": null,
      "metadata": {
        "scrolled": true,
        "id": "fv_3TmQliu8D",
        "outputId": "12e360c6-96d2-46f3-e069-52169f1dcd1d"
      },
      "outputs": [
        {
          "data": {
            "text/plain": [
              "total_images                0\n",
              "last_price                  0\n",
              "total_area                  0\n",
              "first_day_exposition        0\n",
              "rooms                       0\n",
              "ceiling_height           9195\n",
              "floors_total               86\n",
              "living_area              1903\n",
              "floor                       0\n",
              "is_apartment            20924\n",
              "studio                      0\n",
              "open_plan                   0\n",
              "kitchen_area             2278\n",
              "balcony                 11519\n",
              "locality_name              49\n",
              "airports_nearest         5542\n",
              "cityCenters_nearest      5519\n",
              "parks_around3000         5518\n",
              "parks_nearest           15620\n",
              "ponds_around3000         5518\n",
              "ponds_nearest           14589\n",
              "days_exposition          3181\n",
              "dtype: int64"
            ]
          },
          "execution_count": 161,
          "metadata": {},
          "output_type": "execute_result"
        }
      ],
      "source": [
        "#Определяем, в каких столбцах есть пропуски.\n",
        "data.isna().sum()\n"
      ]
    },
    {
      "cell_type": "code",
      "execution_count": null,
      "metadata": {
        "id": "QRjuAMyZiu8E"
      },
      "outputs": [],
      "source": [
        "#Заполните пропущенные значения там, где это возможно.\n",
        "data['balcony'] = data['balcony'].fillna(0)"
      ]
    },
    {
      "cell_type": "markdown",
      "metadata": {
        "id": "YzSEgaG2iu8E"
      },
      "source": [
        "Заменяем все пропуски балконов, на 0, так скорее всего если их нет, то не указали."
      ]
    },
    {
      "cell_type": "code",
      "execution_count": null,
      "metadata": {
        "id": "vpf6jm9niu8E"
      },
      "outputs": [],
      "source": [
        "#Заполните пропущенные значения там, где это возможно.\n",
        "data['is_apartment'] = data['is_apartment'].fillna(False)\n"
      ]
    },
    {
      "cell_type": "markdown",
      "metadata": {
        "id": "Mj2yuFLMiu8E"
      },
      "source": [
        "Заменяем все пропуски апартаментов, на False, так скорее всего если их нет, то не указали."
      ]
    },
    {
      "cell_type": "code",
      "execution_count": null,
      "metadata": {
        "id": "ZV-xgH5Tiu8E",
        "outputId": "9fb96a43-1faa-475c-fd89-2ecec14bc7f2"
      },
      "outputs": [
        {
          "data": {
            "text/plain": [
              "array(['село Шум', 'село Старая Ладога', 'село Русско-Высоцкое',\n",
              "       'село Рождествено', 'село Путилово', 'село Паша', 'село Павлово',\n",
              "       'село Никольское', 'село Копорье', 'садовое товарищество Садко',\n",
              "       'садовое товарищество Рахья', 'садовое товарищество Приладожский',\n",
              "       'садовое товарищество Новая Ропша',\n",
              "       'садоводческое некоммерческое товарищество Лесная Поляна',\n",
              "       'посёлок станции Свирь', 'посёлок станции Громово',\n",
              "       'посёлок при железнодорожной станции Приветнинское',\n",
              "       'посёлок при железнодорожной станции Вещево',\n",
              "       'посёлок городского типа имени Свердлова',\n",
              "       'посёлок городского типа имени Морозова',\n",
              "       'посёлок городского типа Форносово',\n",
              "       'посёлок городского типа Ульяновка',\n",
              "       'посёлок городского типа Токсово', 'посёлок городского типа Тайцы',\n",
              "       'посёлок городского типа Сиверский',\n",
              "       'посёлок городского типа Рябово', 'посёлок городского типа Рощино',\n",
              "       'посёлок городского типа Павлово', 'посёлок городского типа Мга',\n",
              "       'посёлок городского типа Лебяжье',\n",
              "       'посёлок городского типа Кузьмоловский',\n",
              "       'посёлок городского типа Кузнечное',\n",
              "       'посёлок городского типа Красный Бор',\n",
              "       'посёлок городского типа Вырица',\n",
              "       'посёлок городского типа Вознесенье',\n",
              "       'посёлок городского типа Важины', 'посёлок Щеглово',\n",
              "       'посёлок Шушары', 'посёлок Шугозеро', 'посёлок Форт Красная Горка',\n",
              "       'посёлок Усть-Луга', 'посёлок Усть-Ижора', 'посёлок Торфяное',\n",
              "       'посёлок Терволово', 'посёлок Тельмана', 'посёлок Сумино',\n",
              "       'посёлок Суйда', 'посёлок Стрельна', 'посёлок Стеклянный',\n",
              "       'посёлок Старая Малукса', 'посёлок Сосново', 'посёлок Сапёрный',\n",
              "       'посёлок Сапёрное', 'посёлок Ропша', 'посёлок Репино',\n",
              "       'посёлок Пудость', 'посёлок Пригородный', 'посёлок Понтонный',\n",
              "       'посёлок Поляны', 'посёлок Победа', 'посёлок Плоское',\n",
              "       'посёлок Плодовое', 'посёлок Платформа 69-й километр',\n",
              "       'посёлок Петровское', 'посёлок Петро-Славянка', 'посёлок Песочный',\n",
              "       'посёлок Перово', 'посёлок Парголово',\n",
              "       'посёлок Пансионат Зелёный Бор', 'посёлок Новый Свет',\n",
              "       'посёлок Новогорелово', 'посёлок Мыза-Ивановка', 'посёлок Мурино',\n",
              "       'посёлок Молодёжное', 'посёлок Мичуринское',\n",
              "       'посёлок Металлострой', 'посёлок Мельниково', 'посёлок Лисий Нос',\n",
              "       'посёлок Ленинское', 'посёлок Левашово', 'посёлок Коробицыно',\n",
              "       'посёлок Кобралово', 'посёлок Кикерино', 'посёлок Ильичёво',\n",
              "       'посёлок Жилгородок', 'посёлок Дзержинского', 'посёлок Гаврилово',\n",
              "       'посёлок Высокоключевой', 'посёлок Войскорово',\n",
              "       'посёлок Возрождение', 'посёлок Бугры', 'посёлок Белоостров',\n",
              "       'посёлок Аннино', 'посёлок Алексеевка', 'посёлок Александровская',\n",
              "       'поселок станции Приветнинское', 'поселок станции Лужайка',\n",
              "       'поселок станции Корнево', 'поселок станции Вещево',\n",
              "       'поселок городского типа имени Свердлова',\n",
              "       'поселок городского типа Форносово',\n",
              "       'поселок городского типа Токсово',\n",
              "       'поселок городского типа Советский',\n",
              "       'поселок городского типа Синявино',\n",
              "       'поселок городского типа Рябово', 'поселок городского типа Рощино',\n",
              "       'поселок городского типа Рахья',\n",
              "       'поселок городского типа Приладожский',\n",
              "       'поселок городского типа Никольский',\n",
              "       'поселок городского типа Назия',\n",
              "       'поселок городского типа Лесогорский',\n",
              "       'поселок городского типа Лебяжье',\n",
              "       'поселок городского типа Кузьмоловский',\n",
              "       'поселок городского типа Красный Бор',\n",
              "       'поселок городского типа Кондратьево',\n",
              "       'поселок городского типа Ефимовский',\n",
              "       'поселок городского типа Дубровка',\n",
              "       'поселок городского типа Дружная Горка',\n",
              "       'поселок городского типа Вырица',\n",
              "       'поселок городского типа Большая Ижора', 'поселок Цвылёво',\n",
              "       'поселок Цвелодубово', 'поселок Ушаки', 'поселок Усть-Луга',\n",
              "       'поселок Углово', 'поселок Тёсово-4', 'поселок Торковичи',\n",
              "       'поселок Терволово', 'поселок Тельмана', 'поселок Суходолье',\n",
              "       'поселок Сумино', 'поселок Стеклянный', 'поселок Старая Малукса',\n",
              "       'поселок Совхозный', 'поселок Серебрянский', 'поселок Семрино',\n",
              "       'поселок Семиозерье', 'поселок Сельцо', 'поселок Селезнёво',\n",
              "       'поселок Севастьяново', 'поселок Рябово', 'поселок Ромашки',\n",
              "       'поселок Романовка', 'поселок Рабитицы', 'поселок Пчевжа',\n",
              "       'поселок Пушное', 'поселок Починок', 'поселок Почап',\n",
              "       'поселок Поляны', 'поселок Победа', 'поселок Петровское',\n",
              "       'поселок Перово', 'поселок Первомайское',\n",
              "       'поселок Пансионат Зелёный Бор', 'поселок Оредеж',\n",
              "       'поселок Новый Учхоз', 'поселок Новый Свет', 'поселок Мурино',\n",
              "       'поселок Молодцово', 'поселок Мичуринское', 'поселок Мельниково',\n",
              "       'поселок Любань', 'поселок Лукаши', 'поселок Лисий Нос',\n",
              "       'поселок Лесное', 'поселок Красносельское',\n",
              "       'поселок Красная Долина', 'поселок Котельский',\n",
              "       'поселок Коробицыно', 'поселок Коммунары', 'поселок Кобринское',\n",
              "       'поселок Кобралово', 'поселок Кирпичное', 'поселок Кингисеппский',\n",
              "       'поселок Каложицы', 'поселок Калитино', 'поселок Ильичёво',\n",
              "       'поселок Зимитицы', 'поселок Запорожское', 'поселок Заводской',\n",
              "       'поселок Житково', 'поселок Жилпосёлок', 'поселок Жилгородок',\n",
              "       'поселок Елизаветино', 'поселок Дружноселье', 'поселок Громово',\n",
              "       'поселок Гончарово', 'поселок Глебычево', 'поселок Глажево',\n",
              "       'поселок Гладкое', 'поселок Гарболово', 'поселок Гаврилово',\n",
              "       'поселок Володарское', 'поселок Войсковицы', 'поселок Возрождение',\n",
              "       'поселок Бугры', 'поселок Барышево', 'поселок Аннино',\n",
              "       'коттеджный посёлок Лесное', 'коттеджный поселок Счастье',\n",
              "       'коттеджный поселок Кивеннапа Север', 'деревня Ям-Тесово',\n",
              "       'деревня Яльгелево', 'деревня Ялгино', 'деревня Юкки',\n",
              "       'деревня Щеглово', 'деревня Шпаньково', 'деревня Чудской Бор',\n",
              "       'деревня Хязельки', 'деревня Хапо-Ое', 'деревня Фёдоровское',\n",
              "       'деревня Фалилеево', 'деревня Трубников Бор',\n",
              "       'деревня Торошковичи', 'деревня Торосово', 'деревня Тойворово',\n",
              "       'деревня Тихковицы', 'деревня Терпилицы', 'деревня Тарасово',\n",
              "       'деревня Сяськелево', 'деревня Суоранда',\n",
              "       'деревня Старые Бегуницы', 'деревня Старосиверская',\n",
              "       'деревня Старополье', 'деревня Старое Хинколово',\n",
              "       'деревня Старая Пустошь', 'деревня Старая', 'деревня Снегирёвка',\n",
              "       'деревня Сижно', 'деревня Русско', 'деревня Реброво',\n",
              "       'деревня Рапполово', 'деревня Разметелево', 'деревня Раздолье',\n",
              "       'деревня Разбегаево', 'деревня Рабитицы', 'деревня Пчева',\n",
              "       'деревня Пустынка', 'деревня Пудомяги', 'деревня Пикколово',\n",
              "       'деревня Пижма', 'деревня Пеники', 'деревня Пельгора',\n",
              "       'деревня Парицы', 'деревня Оржицы', 'деревня Нурма',\n",
              "       'деревня Новолисино', 'деревня Новое Девяткино', 'деревня Низино',\n",
              "       'деревня Нижняя', 'деревня Нижние Осельки', 'деревня Ненимяки',\n",
              "       'деревня Мистолово', 'деревня Мины', 'деревня Меньково',\n",
              "       'деревня Мануйлово', 'деревня Малые Колпаны',\n",
              "       'деревня Малое Карлино', 'деревня Малое Верево',\n",
              "       'деревня Малая Романовка', 'деревня Лупполово',\n",
              "       'деревня Лопухинка', 'деревня Лесколово', 'деревня Лампово',\n",
              "       'деревня Лаголово', 'деревня Лаврики', 'деревня Куттузи',\n",
              "       'деревня Куровицы', 'деревня Курковицы', 'деревня Кузьмолово',\n",
              "       'деревня Кудрово', 'деревня Кривко', 'деревня Котлы',\n",
              "       'деревня Коркино', 'деревня Колтуши', 'деревня Кисельня',\n",
              "       'деревня Кипень', 'деревня Келози', 'деревня Каськово',\n",
              "       'деревня Камышовка', 'деревня Кальтино', 'деревня Калитино',\n",
              "       'деревня Иссад', 'деревня Извара', 'деревня Зимитицы',\n",
              "       'деревня Заневка', 'деревня Заклинье', 'деревня Гостилицы',\n",
              "       'деревня Горбунки', 'деревня Глинка', 'деревня Гарболово',\n",
              "       'деревня Выскатка', 'деревня Вахнова Кара', 'деревня Вартемяги',\n",
              "       'деревня Ваганово', 'деревня Борисова Грива', 'деревня Бор',\n",
              "       'деревня Большой Сабск', 'деревня Большое Рейзино',\n",
              "       'деревня Большие Колпаны', 'деревня Большая Пустомержа',\n",
              "       'деревня Большая Вруда', 'деревня Белогорка', 'деревня Бегуницы',\n",
              "       'деревня Батово', 'деревня Аро', 'деревня Агалатово',\n",
              "       'городской посёлок Янино-1', 'городской посёлок Фёдоровское',\n",
              "       'городской посёлок Советский', 'городской посёлок Свирьстрой',\n",
              "       'городской посёлок Рощино', 'городской посёлок Павлово',\n",
              "       'городской посёлок Новоселье', 'городской посёлок Назия',\n",
              "       'городской посёлок Мга', 'городской посёлок Лесогорский',\n",
              "       'городской посёлок Виллози', 'городской посёлок Будогощь',\n",
              "       'городской поселок Янино-1', 'городской поселок Большая Ижора',\n",
              "       'Шлиссельбург', 'Тосно', 'Тихвин', 'Сясьстрой', 'Сосновый Бор',\n",
              "       'Сланцы', 'Сестрорецк', 'Сертолово', 'Светогорск',\n",
              "       'Санкт-Петербург', 'Пушкин', 'Приозерск', 'Приморск', 'Подпорожье',\n",
              "       'Пикалёво', 'Петергоф', 'Павловск', 'Отрадное', 'Новая Ладога',\n",
              "       'Никольское', 'Мурино', 'Любань', 'Луга', 'Ломоносов',\n",
              "       'Лодейное Поле', 'Кудрово', 'Кронштадт', 'Красное Село',\n",
              "       'Коммунар', 'Колпино', 'Кировск', 'Кириши', 'Кингисепп',\n",
              "       'Каменногорск', 'Ивангород', 'Зеленогорск', 'Гатчина', 'Высоцк',\n",
              "       'Выборг', 'Всеволожск', 'Волхов', 'Волосово', 'Бокситогорск', nan],\n",
              "      dtype=object)"
            ]
          },
          "execution_count": 164,
          "metadata": {},
          "output_type": "execute_result"
        }
      ],
      "source": [
        "#Смотрим дубликаты в locality_name\n",
        "data['locality_name'].sort_values(ascending=False).unique()\n",
        "\n"
      ]
    },
    {
      "cell_type": "markdown",
      "metadata": {
        "id": "17MX9X7yiu8F"
      },
      "source": [
        "В данных присутсвтует различное написание схожих значений, например посёлок указан в нескольких вариантах:городской посёлок, поселок городского типа итд. Такое написание обсуловлено человеческих фактором, так как люди указывают привычных для них образом."
      ]
    },
    {
      "cell_type": "code",
      "execution_count": null,
      "metadata": {
        "id": "gvG5RO22iu8F",
        "outputId": "1c0acaa7-1ff7-4f7c-bb2f-d6a908c5b453"
      },
      "outputs": [
        {
          "data": {
            "text/plain": [
              "array(['Санкт-Петербург', 'посёлок Шушары', 'посёлок Янино-1',\n",
              "       'посёлок Парголово', 'посёлок Мурино', 'Ломоносов', 'Сертолово',\n",
              "       'Петергоф', 'Пушкин', 'деревня Кудрово', 'Коммунар', 'Колпино',\n",
              "       'посёлок Красный Бор', 'Гатчина', 'деревня Фёдоровское', 'Выборг',\n",
              "       'Кронштадт', 'Кировск', 'деревня Новое Девяткино',\n",
              "       'посёлок Металлострой', 'посёлок городского типа Лебяжье',\n",
              "       'посёлок городского типа Сиверский', 'посёлок Молодцово',\n",
              "       'посёлок Кузьмоловский', 'садовое товарищество Новая Ропша',\n",
              "       'Павловск', 'деревня Пикколово', 'Всеволожск', 'Волхов',\n",
              "       'Кингисепп', 'Приозерск', 'Сестрорецк', 'деревня Куттузи',\n",
              "       'посёлок Аннино', 'посёлок Ефимовский', 'посёлок Плодовое',\n",
              "       'деревня Заклинье', 'посёлок Торковичи', 'посёлок Первомайское',\n",
              "       'Красное Село', 'посёлок Понтонный', 'Сясьстрой', 'деревня Старая',\n",
              "       'деревня Лесколово', 'посёлок Новый Свет', 'Сланцы',\n",
              "       'село Путилово', 'Ивангород', 'Мурино', 'Шлиссельбург',\n",
              "       'Никольское', 'Зеленогорск', 'Сосновый Бор', 'деревня Оржицы',\n",
              "       'деревня Кальтино', 'Кудрово', 'посёлок Романовка',\n",
              "       'посёлок Бугры', 'посёлок Рощино', 'Кириши', 'Луга', 'Волосово',\n",
              "       'Отрадное', 'село Павлово', 'посёлок Оредеж', 'село Копорье',\n",
              "       'посёлок городского типа Красный Бор', 'посёлок Молодёжное',\n",
              "       'Тихвин', 'посёлок Победа', 'деревня Нурма', 'посёлок Синявино',\n",
              "       'Тосно', 'посёлок городского типа Кузьмоловский',\n",
              "       'посёлок Стрельна', 'Бокситогорск', 'посёлок Александровская',\n",
              "       'деревня Лопухинка', 'Пикалёво', 'посёлок Терволово',\n",
              "       'посёлок Советский', 'Подпорожье', 'посёлок Петровское',\n",
              "       'посёлок городского типа Токсово', 'посёлок Сельцо',\n",
              "       'посёлок городского типа Вырица', 'деревня Кипень',\n",
              "       'деревня Келози', 'деревня Вартемяги', 'посёлок Тельмана',\n",
              "       'посёлок Севастьяново', 'городской посёлок Большая Ижора', nan,\n",
              "       'посёлок Павлово', 'деревня Агалатово', 'посёлок Новогорелово',\n",
              "       'посёлок Лесогорский', 'деревня Лаголово', 'посёлок Цвелодубово',\n",
              "       'посёлок Рахья', 'посёлок Вырица', 'деревня Белогорка',\n",
              "       'посёлок Заводской', 'посёлок Новоселье',\n",
              "       'деревня Большие Колпаны', 'деревня Горбунки', 'деревня Батово',\n",
              "       'деревня Заневка', 'деревня Иссад', 'Приморск',\n",
              "       'посёлок Фёдоровское', 'деревня Мистолово', 'Новая Ладога',\n",
              "       'посёлок Зимитицы', 'посёлок Барышево', 'деревня Разметелево',\n",
              "       'посёлок имени Свердлова', 'деревня Пеники', 'посёлок Рябово',\n",
              "       'деревня Пудомяги', 'посёлок станции Корнево', 'деревня Низино',\n",
              "       'деревня Бегуницы', 'посёлок Поляны', 'посёлок Мга',\n",
              "       'посёлок Елизаветино', 'посёлок городского типа Кузнечное',\n",
              "       'деревня Колтуши', 'посёлок Запорожское',\n",
              "       'посёлок городского типа Рощино', 'деревня Гостилицы',\n",
              "       'деревня Малое Карлино', 'посёлок Мичуринское',\n",
              "       'посёлок городского типа имени Морозова', 'посёлок Песочный',\n",
              "       'посёлок Сосново', 'деревня Аро', 'посёлок Ильичёво',\n",
              "       'посёлок городского типа Тайцы', 'деревня Малое Верево',\n",
              "       'деревня Извара', 'посёлок станции Вещево', 'село Паша',\n",
              "       'деревня Калитино', 'посёлок городского типа Ульяновка',\n",
              "       'деревня Чудской Бор', 'посёлок Дубровка', 'деревня Мины',\n",
              "       'посёлок Войсковицы', 'посёлок городского типа имени Свердлова',\n",
              "       'деревня Коркино', 'посёлок Ропша', 'посёлок Приладожский',\n",
              "       'посёлок Щеглово', 'посёлок Гаврилово', 'Лодейное Поле',\n",
              "       'деревня Рабитицы', 'посёлок Никольский', 'деревня Кузьмолово',\n",
              "       'деревня Малые Колпаны', 'посёлок Петро-Славянка', 'посёлок Назия',\n",
              "       'посёлок Репино', 'посёлок Углово', 'посёлок Старая Малукса',\n",
              "       'садовое товарищество Рахья', 'деревня Меньково',\n",
              "       'деревня Старые Бегуницы', 'посёлок Сапёрный', 'посёлок Семрино',\n",
              "       'посёлок Глажево', 'посёлок Кобринское', 'деревня Гарболово',\n",
              "       'деревня Юкки', 'посёлок станции Приветнинское',\n",
              "       'деревня Мануйлово', 'деревня Пчева', 'посёлок Цвылёво',\n",
              "       'посёлок Мельниково', 'посёлок Пудость', 'посёлок Усть-Луга',\n",
              "       'Светогорск', 'Любань', 'посёлок Селезнёво', 'Каменногорск',\n",
              "       'деревня Кривко', 'посёлок Глебычево', 'деревня Парицы',\n",
              "       'посёлок Жилпосёлок', 'посёлок городского типа Мга',\n",
              "       'городской посёлок Янино-1', 'посёлок Войскорово',\n",
              "       'село Никольское', 'посёлок Стеклянный',\n",
              "       'посёлок городского типа Важины', 'посёлок Мыза-Ивановка',\n",
              "       'село Русско-Высоцкое', 'посёлок Лебяжье', 'посёлок Форносово',\n",
              "       'село Старая Ладога', 'посёлок Житково', 'посёлок Виллози',\n",
              "       'деревня Лампово', 'деревня Шпаньково', 'деревня Лаврики',\n",
              "       'посёлок Сумино', 'посёлок Возрождение', 'деревня Старосиверская',\n",
              "       'посёлок Кикерино', 'деревня Старое Хинколово',\n",
              "       'посёлок Пригородный', 'посёлок Торфяное', 'посёлок Будогощь',\n",
              "       'посёлок Суходолье', 'посёлок Красная Долина', 'деревня Хапо-Ое',\n",
              "       'посёлок Дружная Горка', 'посёлок Лисий Нос', 'деревня Яльгелево',\n",
              "       'село Рождествено', 'деревня Старополье', 'посёлок Левашово',\n",
              "       'деревня Сяськелево', 'деревня Камышовка',\n",
              "       'садоводческое некоммерческое товарищество Лесная Поляна',\n",
              "       'деревня Хязельки', 'посёлок Жилгородок',\n",
              "       'посёлок городского типа Павлово', 'деревня Ялгино',\n",
              "       'посёлок Новый Учхоз', 'посёлок Гончарово', 'посёлок Почап',\n",
              "       'посёлок Сапёрное', 'посёлок Платформа 69-й километр',\n",
              "       'посёлок Каложицы', 'деревня Фалилеево', 'деревня Пельгора',\n",
              "       'деревня Торошковичи', 'посёлок Белоостров', 'посёлок Алексеевка',\n",
              "       'посёлок Серебрянский', 'посёлок Лукаши', 'деревня Щеглово',\n",
              "       'деревня Тарасово', 'посёлок Кингисеппский',\n",
              "       'посёлок при железнодорожной станции Вещево', 'посёлок Ушаки',\n",
              "       'деревня Котлы', 'деревня Сижно', 'деревня Торосово',\n",
              "       'посёлок Форт Красная Горка', 'посёлок Токсово',\n",
              "       'деревня Новолисино', 'посёлок станции Громово', 'деревня Глинка',\n",
              "       'деревня Старая Пустошь', 'посёлок Коммунары', 'посёлок Починок',\n",
              "       'посёлок городского типа Вознесенье', 'деревня Разбегаево',\n",
              "       'посёлок городского типа Рябово', 'посёлок Гладкое',\n",
              "       'посёлок при железнодорожной станции Приветнинское',\n",
              "       'посёлок Тёсово-4', 'деревня Бор', 'посёлок Коробицыно',\n",
              "       'деревня Большая Вруда', 'деревня Курковицы', 'посёлок Кобралово',\n",
              "       'деревня Суоранда', 'посёлок Кондратьево', 'посёлок Счастье',\n",
              "       'посёлок Любань', 'деревня Реброво', 'деревня Зимитицы',\n",
              "       'деревня Тойворово', 'посёлок Семиозерье', 'посёлок Лесное',\n",
              "       'посёлок Совхозный', 'посёлок Ленинское', 'посёлок Суйда',\n",
              "       'посёлок городского типа Форносово', 'деревня Нижние Осельки',\n",
              "       'посёлок станции Свирь', 'посёлок Перово', 'Высоцк',\n",
              "       'посёлок Гарболово', 'село Шум', 'посёлок Котельский',\n",
              "       'посёлок станции Лужайка', 'деревня Большая Пустомержа',\n",
              "       'посёлок Красносельское', 'деревня Вахнова Кара', 'деревня Пижма',\n",
              "       'посёлок Кивеннапа Север', 'посёлок Ромашки', 'деревня Каськово',\n",
              "       'деревня Куровицы', 'посёлок Плоское', 'посёлок Большая Ижора',\n",
              "       'посёлок Кирпичное', 'деревня Ям-Тесово', 'деревня Раздолье',\n",
              "       'деревня Терпилицы', 'посёлок Шугозеро', 'деревня Ваганово',\n",
              "       'посёлок Пушное', 'садовое товарищество Садко',\n",
              "       'посёлок Усть-Ижора', 'деревня Выскатка', 'посёлок Свирьстрой',\n",
              "       'посёлок Громово', 'деревня Кисельня', 'деревня Трубников Бор',\n",
              "       'посёлок Калитино', 'посёлок Высокоключевой',\n",
              "       'садовое товарищество Приладожский',\n",
              "       'посёлок Пансионат Зелёный Бор', 'деревня Ненимяки',\n",
              "       'деревня Снегирёвка', 'деревня Рапполово', 'деревня Пустынка',\n",
              "       'посёлок Рабитицы', 'деревня Большой Сабск', 'деревня Русско',\n",
              "       'деревня Лупполово', 'деревня Большое Рейзино',\n",
              "       'деревня Малая Романовка', 'посёлок Дружноселье', 'посёлок Пчевжа',\n",
              "       'посёлок Володарское', 'деревня Нижняя', 'деревня Тихковицы',\n",
              "       'деревня Борисова Грива', 'посёлок Дзержинского'], dtype=object)"
            ]
          },
          "execution_count": 165,
          "metadata": {},
          "output_type": "execute_result"
        }
      ],
      "source": [
        "#чистим неявные дубликаты через список и цикл\n",
        "to_replace = [\"городской посёлок\", \"поселок городского типа\", \"поселок\", \\\n",
        "              \"городской поселок\", \"коттеджный посёлок\", \"коттеджный поселок\", \"поселокгородского типа\"   ]\n",
        "replacement = 'посёлок'\n",
        "for i in to_replace:\n",
        "    data['locality_name'] = data['locality_name'].str.replace(i, replacement)\n",
        "\n",
        "data['locality_name'].unique()\n"
      ]
    },
    {
      "cell_type": "code",
      "execution_count": null,
      "metadata": {
        "id": "lMWLgDxLiu8F"
      },
      "outputs": [],
      "source": [
        "#удаляем 49 неопределенных локаций\n",
        "data = data.dropna(subset=['locality_name'])"
      ]
    },
    {
      "cell_type": "code",
      "execution_count": null,
      "metadata": {
        "scrolled": true,
        "id": "H0Cz9yomiu8G",
        "outputId": "613c51fd-2d1c-4a6e-cd44-ff9ff5da38f1"
      },
      "outputs": [
        {
          "data": {
            "text/plain": [
              "array([  2.7 ,    nan,   3.03,   2.5 ,   2.67,   2.56,   3.05,   2.75,\n",
              "         2.6 ,   2.9 ,   2.8 ,   2.55,   3.  ,   2.65,   3.2 ,   2.61,\n",
              "         3.25,   3.45,   2.77,   2.85,   2.64,   2.57,   4.15,   3.5 ,\n",
              "         3.3 ,   2.71,   4.  ,   2.47,   2.73,   2.84,   3.1 ,   2.34,\n",
              "         3.4 ,   3.06,   2.72,   2.54,   2.51,   2.78,   2.76,  25.  ,\n",
              "         2.58,   3.7 ,   2.52,   5.2 ,   2.87,   2.66,   2.59,   2.  ,\n",
              "         2.45,   3.6 ,   2.92,   3.11,   3.13,   3.8 ,   3.15,   3.55,\n",
              "         3.16,   3.62,   3.12,   2.53,   2.74,   2.96,   2.46,   5.3 ,\n",
              "         5.  ,   2.79,   2.95,   4.06,   2.94,   3.82,   3.54,   3.53,\n",
              "         2.83,   4.7 ,   2.4 ,   3.38,   3.01,   5.6 ,   3.65,   3.9 ,\n",
              "         3.18,   3.35,   2.3 ,   3.57,   2.48,   2.62,   2.82,   3.98,\n",
              "         2.63,   3.83,   3.52,   3.95,   3.75,   2.88,   3.67,   3.87,\n",
              "         3.66,   3.85,   3.86,   4.19,   3.24,   4.8 ,   4.5 ,   4.2 ,\n",
              "         3.36,  32.  ,   3.08,   3.68,   3.07,   3.37,   3.09,   8.  ,\n",
              "         3.26,   3.34,   2.81,   3.44,   2.97,   3.14,   4.37,   2.68,\n",
              "         3.22,   3.27,  27.  ,   4.1 ,   2.93,   3.46,  24.  ,   3.47,\n",
              "         3.33,   3.63,   3.32,  26.  ,   1.2 ,   8.3 ,   2.98,   2.86,\n",
              "         3.17,   4.4 ,   3.28,   3.04,   4.45,   5.5 ,   3.84,   3.23,\n",
              "         3.02,   3.21,   3.43,   3.78,   4.3 ,   3.39,   2.69,   3.31,\n",
              "         4.65,   3.56,   2.2 ,   3.51,   3.93,   3.42,   2.99,   3.49,\n",
              "        14.  ,   4.14,   2.91,   3.88,   1.75,   4.25,   3.29,  20.  ,\n",
              "         2.25,   3.76,   3.69,   6.  ,  22.6 ,   2.89,   3.58,   5.8 ,\n",
              "        27.5 ,   2.49,   4.9 ,   3.48,  10.3 ,   1.  , 100.  ,   3.59])"
            ]
          },
          "execution_count": 167,
          "metadata": {},
          "output_type": "execute_result"
        }
      ],
      "source": [
        "#есть потолки с анамальным значением 24,25,27 и т.д. метров, скорее всего это ошибка формата\n",
        "data['ceiling_height'].unique()"
      ]
    },
    {
      "cell_type": "markdown",
      "metadata": {
        "id": "4UiiZi0hiu8G"
      },
      "source": [
        "Есть потолки которые привышают 10 метров, скокорее всего это ошибка вводна данных"
      ]
    },
    {
      "cell_type": "code",
      "execution_count": null,
      "metadata": {
        "id": "QjexQWh4iu8G",
        "outputId": "643987d7-ef3b-41ba-ebe1-0d270fb118e8"
      },
      "outputs": [
        {
          "data": {
            "text/plain": [
              "array([ 1.  ,  1.03,  1.2 ,  1.4 ,  1.75,  2.  ,  2.2 ,  2.25,  2.26,\n",
              "        2.3 ,  2.34,  2.4 ,  2.45,  2.46,  2.47,  2.48,  2.49,  2.5 ,\n",
              "        2.51,  2.52,  2.53,  2.54,  2.55,  2.56,  2.57,  2.58,  2.59,\n",
              "        2.6 ,  2.61,  2.62,  2.63,  2.64,  2.65,  2.66,  2.67,  2.68,\n",
              "        2.69,  2.7 ,  2.71,  2.72,  2.73,  2.74,  2.75,  2.76,  2.77,\n",
              "        2.78,  2.79,  2.8 ,  2.81,  2.82,  2.83,  2.84,  2.85,  2.86,\n",
              "        2.87,  2.88,  2.89,  2.9 ,  2.91,  2.92,  2.93,  2.94,  2.95,\n",
              "        2.96,  2.97,  2.98,  2.99,  3.  ,  3.01,  3.02,  3.03,  3.04,\n",
              "        3.05,  3.06,  3.07,  3.08,  3.09,  3.1 ,  3.11,  3.12,  3.13,\n",
              "        3.14,  3.15,  3.16,  3.17,  3.18,  3.2 ,  3.21,  3.22,  3.23,\n",
              "        3.24,  3.25,  3.26,  3.27,  3.28,  3.29,  3.3 ,  3.31,  3.32,\n",
              "        3.33,  3.34,  3.35,  3.36,  3.37,  3.38,  3.39,  3.4 ,  3.42,\n",
              "        3.43,  3.44,  3.45,  3.46,  3.47,  3.48,  3.49,  3.5 ,  3.51,\n",
              "        3.52,  3.53,  3.54,  3.55,  3.56,  3.57,  3.58,  3.59,  3.6 ,\n",
              "        3.62,  3.63,  3.65,  3.66,  3.67,  3.68,  3.69,  3.7 ,  3.75,\n",
              "        3.76,  3.78,  3.8 ,  3.82,  3.83,  3.84,  3.85,  3.86,  3.87,\n",
              "        3.88,  3.9 ,  3.93,  3.95,  3.98,  4.  ,  4.06,  4.1 ,  4.14,\n",
              "        4.15,  4.19,  4.2 ,  4.25,  4.3 ,  4.37,  4.4 ,  4.45,  4.5 ,\n",
              "        4.65,  4.7 ,  4.8 ,  4.9 ,  5.  ,  5.2 ,  5.3 ,  5.5 ,  5.6 ,\n",
              "        5.8 ,  6.  ,  8.  ,  8.3 , 10.  ,   nan])"
            ]
          },
          "execution_count": 168,
          "metadata": {},
          "output_type": "execute_result"
        }
      ],
      "source": [
        "#с помощью функции loc извлекаем данные по потолкам более 10 метров и приводим их к нормальному виду за счет деления на 10\n",
        "data.loc[data['ceiling_height'] > 10, 'ceiling_height'] = data['ceiling_height']/10\n",
        "data['ceiling_height'].sort_values().unique()"
      ]
    },
    {
      "cell_type": "code",
      "execution_count": null,
      "metadata": {
        "id": "qXYRLLZliu8G"
      },
      "outputs": [],
      "source": [
        "#правим все потолки менее 2 метров на медианное значение\n",
        "data.loc[(data['ceiling_height'] <= 2) , 'ceiling_height' ] = data['ceiling_height'].median()"
      ]
    },
    {
      "cell_type": "code",
      "execution_count": null,
      "metadata": {
        "id": "pONDmIXQiu8G",
        "outputId": "1b0cff0d-51fd-4e58-9fde-c99bd117da08"
      },
      "outputs": [
        {
          "data": {
            "text/plain": [
              "array([ 2.2 ,  2.25,  2.26,  2.3 ,  2.34,  2.4 ,  2.45,  2.46,  2.47,\n",
              "        2.48,  2.49,  2.5 ,  2.51,  2.52,  2.53,  2.54,  2.55,  2.56,\n",
              "        2.57,  2.58,  2.59,  2.6 ,  2.61,  2.62,  2.63,  2.64,  2.65,\n",
              "        2.66,  2.67,  2.68,  2.69,  2.7 ,  2.71,  2.72,  2.73,  2.74,\n",
              "        2.75,  2.76,  2.77,  2.78,  2.79,  2.8 ,  2.81,  2.82,  2.83,\n",
              "        2.84,  2.85,  2.86,  2.87,  2.88,  2.89,  2.9 ,  2.91,  2.92,\n",
              "        2.93,  2.94,  2.95,  2.96,  2.97,  2.98,  2.99,  3.  ,  3.01,\n",
              "        3.02,  3.03,  3.04,  3.05,  3.06,  3.07,  3.08,  3.09,  3.1 ,\n",
              "        3.11,  3.12,  3.13,  3.14,  3.15,  3.16,  3.17,  3.18,  3.2 ,\n",
              "        3.21,  3.22,  3.23,  3.24,  3.25,  3.26,  3.27,  3.28,  3.29,\n",
              "        3.3 ,  3.31,  3.32,  3.33,  3.34,  3.35,  3.36,  3.37,  3.38,\n",
              "        3.39,  3.4 ,  3.42,  3.43,  3.44,  3.45,  3.46,  3.47,  3.48,\n",
              "        3.49,  3.5 ,  3.51,  3.52,  3.53,  3.54,  3.55,  3.56,  3.57,\n",
              "        3.58,  3.59,  3.6 ,  3.62,  3.63,  3.65,  3.66,  3.67,  3.68,\n",
              "        3.69,  3.7 ,  3.75,  3.76,  3.78,  3.8 ,  3.82,  3.83,  3.84,\n",
              "        3.85,  3.86,  3.87,  3.88,  3.9 ,  3.93,  3.95,  3.98,  4.  ,\n",
              "        4.06,  4.1 ,  4.14,  4.15,  4.19,  4.2 ,  4.25,  4.3 ,  4.37,\n",
              "        4.4 ,  4.45,  4.5 ,  4.65,  4.7 ,  4.8 ,  4.9 ,  5.  ,  5.2 ,\n",
              "        5.3 ,  5.5 ,  5.6 ,  5.8 ,  6.  ,  8.  ,  8.3 , 10.  ])"
            ]
          },
          "execution_count": 170,
          "metadata": {},
          "output_type": "execute_result"
        }
      ],
      "source": [
        "#Заменяем все пропуски высоты потолка, на медианное значение\n",
        "data['ceiling_height'] = data['ceiling_height'].fillna(data['ceiling_height'].median())\n",
        "data['ceiling_height'].sort_values().unique()"
      ]
    },
    {
      "cell_type": "code",
      "execution_count": null,
      "metadata": {
        "scrolled": true,
        "id": "MmxEMqNgiu8H"
      },
      "outputs": [],
      "source": [
        "#display(data[data['floors_total'].isna()])\n",
        "#было предположение, что количество этажей не указано в загородной недвижимости, но это не подтвердилось,\n",
        "#так как в данных есть этаж самого объекта и это в большинстве случаев не 1 или 2 этаж"
      ]
    },
    {
      "cell_type": "code",
      "execution_count": null,
      "metadata": {
        "id": "ZH0UWhEUiu8H"
      },
      "outputs": [],
      "source": [
        "#Переводим данные из столбца first_day_exposition в формат даты и времени,\n",
        "#для последующего создания столбцов по дням недели,месяцам и годам\n",
        "data['first_day_exposition'] = pd.to_datetime(data['first_day_exposition'], format='%Y-%m-%dT%H:%M:%S')"
      ]
    },
    {
      "cell_type": "markdown",
      "metadata": {
        "id": "V2-s6-JViu8H"
      },
      "source": [
        "Данные first_day_exposition указаны в офрмате oject, для дальнейшей работы их необходимо перевести в datetime"
      ]
    },
    {
      "cell_type": "code",
      "execution_count": null,
      "metadata": {
        "scrolled": true,
        "id": "vpYUanVziu8H",
        "outputId": "fa6168a5-2ffe-41af-b0a9-cd2fcd023d2f"
      },
      "outputs": [
        {
          "data": {
            "text/html": [
              "<div>\n",
              "<style scoped>\n",
              "    .dataframe tbody tr th:only-of-type {\n",
              "        vertical-align: middle;\n",
              "    }\n",
              "\n",
              "    .dataframe tbody tr th {\n",
              "        vertical-align: top;\n",
              "    }\n",
              "\n",
              "    .dataframe thead th {\n",
              "        text-align: right;\n",
              "    }\n",
              "</style>\n",
              "<table border=\"1\" class=\"dataframe\">\n",
              "  <thead>\n",
              "    <tr style=\"text-align: right;\">\n",
              "      <th></th>\n",
              "      <th>total_images</th>\n",
              "      <th>last_price</th>\n",
              "      <th>total_area</th>\n",
              "      <th>first_day_exposition</th>\n",
              "      <th>rooms</th>\n",
              "      <th>ceiling_height</th>\n",
              "      <th>floors_total</th>\n",
              "      <th>living_area</th>\n",
              "      <th>floor</th>\n",
              "      <th>is_apartment</th>\n",
              "      <th>...</th>\n",
              "      <th>kitchen_area</th>\n",
              "      <th>balcony</th>\n",
              "      <th>locality_name</th>\n",
              "      <th>airports_nearest</th>\n",
              "      <th>cityCenters_nearest</th>\n",
              "      <th>parks_around3000</th>\n",
              "      <th>parks_nearest</th>\n",
              "      <th>ponds_around3000</th>\n",
              "      <th>ponds_nearest</th>\n",
              "      <th>days_exposition</th>\n",
              "    </tr>\n",
              "  </thead>\n",
              "  <tbody>\n",
              "  </tbody>\n",
              "</table>\n",
              "<p>0 rows × 22 columns</p>\n",
              "</div>"
            ],
            "text/plain": [
              "Empty DataFrame\n",
              "Columns: [total_images, last_price, total_area, first_day_exposition, rooms, ceiling_height, floors_total, living_area, floor, is_apartment, studio, open_plan, kitchen_area, balcony, locality_name, airports_nearest, cityCenters_nearest, parks_around3000, parks_nearest, ponds_around3000, ponds_nearest, days_exposition]\n",
              "Index: []\n",
              "\n",
              "[0 rows x 22 columns]"
            ]
          },
          "metadata": {},
          "output_type": "display_data"
        }
      ],
      "source": [
        "#проверяем наличие дубликатов\n",
        "display(data[data.duplicated()])"
      ]
    },
    {
      "cell_type": "code",
      "execution_count": null,
      "metadata": {
        "id": "VozI2Nj2iu8I",
        "outputId": "4d32997c-9290-48d0-ed61-e17f916ffecf"
      },
      "outputs": [
        {
          "data": {
            "text/plain": [
              "2269"
            ]
          },
          "execution_count": 174,
          "metadata": {},
          "output_type": "execute_result"
        }
      ],
      "source": [
        "data['kitchen_area'].isna().sum()"
      ]
    },
    {
      "cell_type": "code",
      "execution_count": null,
      "metadata": {
        "id": "ovcr0kGJiu8I",
        "outputId": "84d3ea6e-0ea9-48ca-c977-98c89409ca02"
      },
      "outputs": [
        {
          "data": {
            "text/html": [
              "<div>\n",
              "<style scoped>\n",
              "    .dataframe tbody tr th:only-of-type {\n",
              "        vertical-align: middle;\n",
              "    }\n",
              "\n",
              "    .dataframe tbody tr th {\n",
              "        vertical-align: top;\n",
              "    }\n",
              "\n",
              "    .dataframe thead th {\n",
              "        text-align: right;\n",
              "    }\n",
              "</style>\n",
              "<table border=\"1\" class=\"dataframe\">\n",
              "  <thead>\n",
              "    <tr style=\"text-align: right;\">\n",
              "      <th></th>\n",
              "      <th>total_images</th>\n",
              "      <th>last_price</th>\n",
              "      <th>total_area</th>\n",
              "      <th>first_day_exposition</th>\n",
              "      <th>rooms</th>\n",
              "      <th>ceiling_height</th>\n",
              "      <th>floors_total</th>\n",
              "      <th>living_area</th>\n",
              "      <th>floor</th>\n",
              "      <th>is_apartment</th>\n",
              "      <th>...</th>\n",
              "      <th>kitchen_area</th>\n",
              "      <th>balcony</th>\n",
              "      <th>locality_name</th>\n",
              "      <th>airports_nearest</th>\n",
              "      <th>cityCenters_nearest</th>\n",
              "      <th>parks_around3000</th>\n",
              "      <th>parks_nearest</th>\n",
              "      <th>ponds_around3000</th>\n",
              "      <th>ponds_nearest</th>\n",
              "      <th>days_exposition</th>\n",
              "    </tr>\n",
              "  </thead>\n",
              "  <tbody>\n",
              "    <tr>\n",
              "      <th>144</th>\n",
              "      <td>1</td>\n",
              "      <td>2450000.0</td>\n",
              "      <td>27.00</td>\n",
              "      <td>2017-03-30</td>\n",
              "      <td>0</td>\n",
              "      <td>2.65</td>\n",
              "      <td>24.0</td>\n",
              "      <td>15.50</td>\n",
              "      <td>2</td>\n",
              "      <td>False</td>\n",
              "      <td>...</td>\n",
              "      <td>NaN</td>\n",
              "      <td>2.0</td>\n",
              "      <td>посёлок Мурино</td>\n",
              "      <td>NaN</td>\n",
              "      <td>NaN</td>\n",
              "      <td>NaN</td>\n",
              "      <td>NaN</td>\n",
              "      <td>NaN</td>\n",
              "      <td>NaN</td>\n",
              "      <td>181.0</td>\n",
              "    </tr>\n",
              "    <tr>\n",
              "      <th>349</th>\n",
              "      <td>4</td>\n",
              "      <td>2320000.0</td>\n",
              "      <td>25.00</td>\n",
              "      <td>2017-09-27</td>\n",
              "      <td>0</td>\n",
              "      <td>2.65</td>\n",
              "      <td>14.0</td>\n",
              "      <td>17.00</td>\n",
              "      <td>1</td>\n",
              "      <td>False</td>\n",
              "      <td>...</td>\n",
              "      <td>NaN</td>\n",
              "      <td>0.0</td>\n",
              "      <td>деревня Кудрово</td>\n",
              "      <td>NaN</td>\n",
              "      <td>NaN</td>\n",
              "      <td>NaN</td>\n",
              "      <td>NaN</td>\n",
              "      <td>NaN</td>\n",
              "      <td>NaN</td>\n",
              "      <td>45.0</td>\n",
              "    </tr>\n",
              "    <tr>\n",
              "      <th>440</th>\n",
              "      <td>8</td>\n",
              "      <td>2480000.0</td>\n",
              "      <td>27.11</td>\n",
              "      <td>2018-03-12</td>\n",
              "      <td>0</td>\n",
              "      <td>2.65</td>\n",
              "      <td>17.0</td>\n",
              "      <td>24.75</td>\n",
              "      <td>4</td>\n",
              "      <td>False</td>\n",
              "      <td>...</td>\n",
              "      <td>NaN</td>\n",
              "      <td>2.0</td>\n",
              "      <td>Санкт-Петербург</td>\n",
              "      <td>38171.0</td>\n",
              "      <td>15015.0</td>\n",
              "      <td>0.0</td>\n",
              "      <td>NaN</td>\n",
              "      <td>2.0</td>\n",
              "      <td>982.0</td>\n",
              "      <td>64.0</td>\n",
              "    </tr>\n",
              "    <tr>\n",
              "      <th>508</th>\n",
              "      <td>0</td>\n",
              "      <td>3375000.0</td>\n",
              "      <td>34.40</td>\n",
              "      <td>2017-03-28</td>\n",
              "      <td>0</td>\n",
              "      <td>2.65</td>\n",
              "      <td>26.0</td>\n",
              "      <td>24.30</td>\n",
              "      <td>19</td>\n",
              "      <td>False</td>\n",
              "      <td>...</td>\n",
              "      <td>NaN</td>\n",
              "      <td>1.0</td>\n",
              "      <td>посёлок Парголово</td>\n",
              "      <td>53115.0</td>\n",
              "      <td>19292.0</td>\n",
              "      <td>0.0</td>\n",
              "      <td>NaN</td>\n",
              "      <td>1.0</td>\n",
              "      <td>593.0</td>\n",
              "      <td>430.0</td>\n",
              "    </tr>\n",
              "    <tr>\n",
              "      <th>608</th>\n",
              "      <td>2</td>\n",
              "      <td>1850000.0</td>\n",
              "      <td>25.00</td>\n",
              "      <td>2019-02-20</td>\n",
              "      <td>0</td>\n",
              "      <td>2.65</td>\n",
              "      <td>10.0</td>\n",
              "      <td>NaN</td>\n",
              "      <td>7</td>\n",
              "      <td>False</td>\n",
              "      <td>...</td>\n",
              "      <td>NaN</td>\n",
              "      <td>0.0</td>\n",
              "      <td>посёлок Шушары</td>\n",
              "      <td>NaN</td>\n",
              "      <td>NaN</td>\n",
              "      <td>NaN</td>\n",
              "      <td>NaN</td>\n",
              "      <td>NaN</td>\n",
              "      <td>NaN</td>\n",
              "      <td>29.0</td>\n",
              "    </tr>\n",
              "    <tr>\n",
              "      <th>...</th>\n",
              "      <td>...</td>\n",
              "      <td>...</td>\n",
              "      <td>...</td>\n",
              "      <td>...</td>\n",
              "      <td>...</td>\n",
              "      <td>...</td>\n",
              "      <td>...</td>\n",
              "      <td>...</td>\n",
              "      <td>...</td>\n",
              "      <td>...</td>\n",
              "      <td>...</td>\n",
              "      <td>...</td>\n",
              "      <td>...</td>\n",
              "      <td>...</td>\n",
              "      <td>...</td>\n",
              "      <td>...</td>\n",
              "      <td>...</td>\n",
              "      <td>...</td>\n",
              "      <td>...</td>\n",
              "      <td>...</td>\n",
              "      <td>...</td>\n",
              "    </tr>\n",
              "    <tr>\n",
              "      <th>23210</th>\n",
              "      <td>7</td>\n",
              "      <td>3200000.0</td>\n",
              "      <td>26.00</td>\n",
              "      <td>2017-09-01</td>\n",
              "      <td>0</td>\n",
              "      <td>2.65</td>\n",
              "      <td>25.0</td>\n",
              "      <td>18.00</td>\n",
              "      <td>16</td>\n",
              "      <td>False</td>\n",
              "      <td>...</td>\n",
              "      <td>NaN</td>\n",
              "      <td>0.0</td>\n",
              "      <td>Санкт-Петербург</td>\n",
              "      <td>11405.0</td>\n",
              "      <td>13222.0</td>\n",
              "      <td>0.0</td>\n",
              "      <td>NaN</td>\n",
              "      <td>1.0</td>\n",
              "      <td>623.0</td>\n",
              "      <td>14.0</td>\n",
              "    </tr>\n",
              "    <tr>\n",
              "      <th>23442</th>\n",
              "      <td>0</td>\n",
              "      <td>2500000.0</td>\n",
              "      <td>27.70</td>\n",
              "      <td>2017-09-28</td>\n",
              "      <td>0</td>\n",
              "      <td>2.65</td>\n",
              "      <td>24.0</td>\n",
              "      <td>18.00</td>\n",
              "      <td>4</td>\n",
              "      <td>False</td>\n",
              "      <td>...</td>\n",
              "      <td>NaN</td>\n",
              "      <td>2.0</td>\n",
              "      <td>посёлок Мурино</td>\n",
              "      <td>NaN</td>\n",
              "      <td>NaN</td>\n",
              "      <td>NaN</td>\n",
              "      <td>NaN</td>\n",
              "      <td>NaN</td>\n",
              "      <td>NaN</td>\n",
              "      <td>4.0</td>\n",
              "    </tr>\n",
              "    <tr>\n",
              "      <th>23554</th>\n",
              "      <td>15</td>\n",
              "      <td>3350000.0</td>\n",
              "      <td>26.00</td>\n",
              "      <td>2018-09-07</td>\n",
              "      <td>0</td>\n",
              "      <td>2.65</td>\n",
              "      <td>19.0</td>\n",
              "      <td>NaN</td>\n",
              "      <td>8</td>\n",
              "      <td>False</td>\n",
              "      <td>...</td>\n",
              "      <td>NaN</td>\n",
              "      <td>0.0</td>\n",
              "      <td>Санкт-Петербург</td>\n",
              "      <td>18090.0</td>\n",
              "      <td>17092.0</td>\n",
              "      <td>0.0</td>\n",
              "      <td>NaN</td>\n",
              "      <td>2.0</td>\n",
              "      <td>112.0</td>\n",
              "      <td>31.0</td>\n",
              "    </tr>\n",
              "    <tr>\n",
              "      <th>23592</th>\n",
              "      <td>10</td>\n",
              "      <td>1450000.0</td>\n",
              "      <td>29.00</td>\n",
              "      <td>2017-11-11</td>\n",
              "      <td>0</td>\n",
              "      <td>2.65</td>\n",
              "      <td>9.0</td>\n",
              "      <td>18.00</td>\n",
              "      <td>8</td>\n",
              "      <td>False</td>\n",
              "      <td>...</td>\n",
              "      <td>NaN</td>\n",
              "      <td>2.0</td>\n",
              "      <td>Никольское</td>\n",
              "      <td>NaN</td>\n",
              "      <td>NaN</td>\n",
              "      <td>NaN</td>\n",
              "      <td>NaN</td>\n",
              "      <td>NaN</td>\n",
              "      <td>NaN</td>\n",
              "      <td>82.0</td>\n",
              "    </tr>\n",
              "    <tr>\n",
              "      <th>23637</th>\n",
              "      <td>8</td>\n",
              "      <td>2350000.0</td>\n",
              "      <td>26.00</td>\n",
              "      <td>2018-06-26</td>\n",
              "      <td>0</td>\n",
              "      <td>2.65</td>\n",
              "      <td>25.0</td>\n",
              "      <td>17.00</td>\n",
              "      <td>4</td>\n",
              "      <td>False</td>\n",
              "      <td>...</td>\n",
              "      <td>NaN</td>\n",
              "      <td>2.0</td>\n",
              "      <td>посёлок Бугры</td>\n",
              "      <td>NaN</td>\n",
              "      <td>NaN</td>\n",
              "      <td>NaN</td>\n",
              "      <td>NaN</td>\n",
              "      <td>NaN</td>\n",
              "      <td>NaN</td>\n",
              "      <td>207.0</td>\n",
              "    </tr>\n",
              "  </tbody>\n",
              "</table>\n",
              "<p>197 rows × 22 columns</p>\n",
              "</div>"
            ],
            "text/plain": [
              "       total_images  last_price  total_area first_day_exposition  rooms  \\\n",
              "144               1   2450000.0       27.00           2017-03-30      0   \n",
              "349               4   2320000.0       25.00           2017-09-27      0   \n",
              "440               8   2480000.0       27.11           2018-03-12      0   \n",
              "508               0   3375000.0       34.40           2017-03-28      0   \n",
              "608               2   1850000.0       25.00           2019-02-20      0   \n",
              "...             ...         ...         ...                  ...    ...   \n",
              "23210             7   3200000.0       26.00           2017-09-01      0   \n",
              "23442             0   2500000.0       27.70           2017-09-28      0   \n",
              "23554            15   3350000.0       26.00           2018-09-07      0   \n",
              "23592            10   1450000.0       29.00           2017-11-11      0   \n",
              "23637             8   2350000.0       26.00           2018-06-26      0   \n",
              "\n",
              "       ceiling_height  floors_total  living_area  floor  is_apartment  ...  \\\n",
              "144              2.65          24.0        15.50      2         False  ...   \n",
              "349              2.65          14.0        17.00      1         False  ...   \n",
              "440              2.65          17.0        24.75      4         False  ...   \n",
              "508              2.65          26.0        24.30     19         False  ...   \n",
              "608              2.65          10.0          NaN      7         False  ...   \n",
              "...               ...           ...          ...    ...           ...  ...   \n",
              "23210            2.65          25.0        18.00     16         False  ...   \n",
              "23442            2.65          24.0        18.00      4         False  ...   \n",
              "23554            2.65          19.0          NaN      8         False  ...   \n",
              "23592            2.65           9.0        18.00      8         False  ...   \n",
              "23637            2.65          25.0        17.00      4         False  ...   \n",
              "\n",
              "       kitchen_area  balcony      locality_name  airports_nearest  \\\n",
              "144             NaN      2.0     посёлок Мурино               NaN   \n",
              "349             NaN      0.0    деревня Кудрово               NaN   \n",
              "440             NaN      2.0    Санкт-Петербург           38171.0   \n",
              "508             NaN      1.0  посёлок Парголово           53115.0   \n",
              "608             NaN      0.0     посёлок Шушары               NaN   \n",
              "...             ...      ...                ...               ...   \n",
              "23210           NaN      0.0    Санкт-Петербург           11405.0   \n",
              "23442           NaN      2.0     посёлок Мурино               NaN   \n",
              "23554           NaN      0.0    Санкт-Петербург           18090.0   \n",
              "23592           NaN      2.0         Никольское               NaN   \n",
              "23637           NaN      2.0      посёлок Бугры               NaN   \n",
              "\n",
              "      cityCenters_nearest  parks_around3000  parks_nearest  ponds_around3000  \\\n",
              "144                   NaN               NaN            NaN               NaN   \n",
              "349                   NaN               NaN            NaN               NaN   \n",
              "440               15015.0               0.0            NaN               2.0   \n",
              "508               19292.0               0.0            NaN               1.0   \n",
              "608                   NaN               NaN            NaN               NaN   \n",
              "...                   ...               ...            ...               ...   \n",
              "23210             13222.0               0.0            NaN               1.0   \n",
              "23442                 NaN               NaN            NaN               NaN   \n",
              "23554             17092.0               0.0            NaN               2.0   \n",
              "23592                 NaN               NaN            NaN               NaN   \n",
              "23637                 NaN               NaN            NaN               NaN   \n",
              "\n",
              "       ponds_nearest  days_exposition  \n",
              "144              NaN            181.0  \n",
              "349              NaN             45.0  \n",
              "440            982.0             64.0  \n",
              "508            593.0            430.0  \n",
              "608              NaN             29.0  \n",
              "...              ...              ...  \n",
              "23210          623.0             14.0  \n",
              "23442            NaN              4.0  \n",
              "23554          112.0             31.0  \n",
              "23592            NaN             82.0  \n",
              "23637            NaN            207.0  \n",
              "\n",
              "[197 rows x 22 columns]"
            ]
          },
          "metadata": {},
          "output_type": "display_data"
        }
      ],
      "source": [
        "#пропуски по кухне заполним через цикл\n",
        "\n",
        "for room in data['rooms'].unique():\n",
        "    data.loc[(data['rooms'] == room) & (data['kitchen_area'].isna()), 'kitchen_area'] =\\\n",
        "    data.loc[(data['rooms'] == room), 'kitchen_area'].mean()\n",
        "\n",
        "# смотрим все ли пропуски заполнились\n",
        "display(data[data['kitchen_area'].isna()])\n",
        "\n",
        "#осталось часть незаолненнх значений, где кол-во комнат = 0 , там заполним медианой\n",
        "data['kitchen_area'] = data['kitchen_area'].fillna(data['kitchen_area'].median())"
      ]
    },
    {
      "cell_type": "code",
      "execution_count": null,
      "metadata": {
        "scrolled": true,
        "id": "nX3Ky0Zsiu8V"
      },
      "outputs": [],
      "source": [
        "#Удлаляем пропуски в floors_total, так восстановить их невозможно, а их доля крайне низкая\n",
        "data = data.dropna(subset=['floors_total'])\n",
        "#переводим floors_total из float в int , так как этажи целые\n",
        "data['floors_total'] = data['floors_total'].astype('int')"
      ]
    },
    {
      "cell_type": "code",
      "execution_count": null,
      "metadata": {
        "id": "WxFsD8B_iu8V",
        "outputId": "5342d276-7284-4fe0-84fa-aeccce7f1089"
      },
      "outputs": [
        {
          "data": {
            "text/html": [
              "<div>\n",
              "<style scoped>\n",
              "    .dataframe tbody tr th:only-of-type {\n",
              "        vertical-align: middle;\n",
              "    }\n",
              "\n",
              "    .dataframe tbody tr th {\n",
              "        vertical-align: top;\n",
              "    }\n",
              "\n",
              "    .dataframe thead th {\n",
              "        text-align: right;\n",
              "    }\n",
              "</style>\n",
              "<table border=\"1\" class=\"dataframe\">\n",
              "  <thead>\n",
              "    <tr style=\"text-align: right;\">\n",
              "      <th></th>\n",
              "      <th>total_images</th>\n",
              "      <th>last_price</th>\n",
              "      <th>total_area</th>\n",
              "      <th>first_day_exposition</th>\n",
              "      <th>rooms</th>\n",
              "      <th>ceiling_height</th>\n",
              "      <th>floors_total</th>\n",
              "      <th>living_area</th>\n",
              "      <th>floor</th>\n",
              "      <th>is_apartment</th>\n",
              "      <th>...</th>\n",
              "      <th>balcony</th>\n",
              "      <th>locality_name</th>\n",
              "      <th>airports_nearest</th>\n",
              "      <th>cityCenters_nearest</th>\n",
              "      <th>parks_around3000</th>\n",
              "      <th>parks_nearest</th>\n",
              "      <th>ponds_around3000</th>\n",
              "      <th>ponds_nearest</th>\n",
              "      <th>days_exposition</th>\n",
              "      <th>metr_cost</th>\n",
              "    </tr>\n",
              "  </thead>\n",
              "  <tbody>\n",
              "    <tr>\n",
              "      <th>0</th>\n",
              "      <td>20</td>\n",
              "      <td>13000000.0</td>\n",
              "      <td>108.00</td>\n",
              "      <td>2019-03-07</td>\n",
              "      <td>3</td>\n",
              "      <td>2.70</td>\n",
              "      <td>16</td>\n",
              "      <td>51.00</td>\n",
              "      <td>8</td>\n",
              "      <td>False</td>\n",
              "      <td>...</td>\n",
              "      <td>0.0</td>\n",
              "      <td>Санкт-Петербург</td>\n",
              "      <td>18863.0</td>\n",
              "      <td>16028.0</td>\n",
              "      <td>1.0</td>\n",
              "      <td>482.0</td>\n",
              "      <td>2.0</td>\n",
              "      <td>755.0</td>\n",
              "      <td>NaN</td>\n",
              "      <td>254901.960784</td>\n",
              "    </tr>\n",
              "    <tr>\n",
              "      <th>1</th>\n",
              "      <td>7</td>\n",
              "      <td>3350000.0</td>\n",
              "      <td>40.40</td>\n",
              "      <td>2018-12-04</td>\n",
              "      <td>1</td>\n",
              "      <td>2.65</td>\n",
              "      <td>11</td>\n",
              "      <td>18.60</td>\n",
              "      <td>1</td>\n",
              "      <td>False</td>\n",
              "      <td>...</td>\n",
              "      <td>2.0</td>\n",
              "      <td>посёлок Шушары</td>\n",
              "      <td>12817.0</td>\n",
              "      <td>18603.0</td>\n",
              "      <td>0.0</td>\n",
              "      <td>NaN</td>\n",
              "      <td>0.0</td>\n",
              "      <td>NaN</td>\n",
              "      <td>81.0</td>\n",
              "      <td>180107.526882</td>\n",
              "    </tr>\n",
              "    <tr>\n",
              "      <th>2</th>\n",
              "      <td>10</td>\n",
              "      <td>5196000.0</td>\n",
              "      <td>56.00</td>\n",
              "      <td>2015-08-20</td>\n",
              "      <td>2</td>\n",
              "      <td>2.65</td>\n",
              "      <td>5</td>\n",
              "      <td>34.30</td>\n",
              "      <td>4</td>\n",
              "      <td>False</td>\n",
              "      <td>...</td>\n",
              "      <td>0.0</td>\n",
              "      <td>Санкт-Петербург</td>\n",
              "      <td>21741.0</td>\n",
              "      <td>13933.0</td>\n",
              "      <td>1.0</td>\n",
              "      <td>90.0</td>\n",
              "      <td>2.0</td>\n",
              "      <td>574.0</td>\n",
              "      <td>558.0</td>\n",
              "      <td>151486.880466</td>\n",
              "    </tr>\n",
              "    <tr>\n",
              "      <th>3</th>\n",
              "      <td>0</td>\n",
              "      <td>64900000.0</td>\n",
              "      <td>159.00</td>\n",
              "      <td>2015-07-24</td>\n",
              "      <td>3</td>\n",
              "      <td>2.65</td>\n",
              "      <td>14</td>\n",
              "      <td>NaN</td>\n",
              "      <td>9</td>\n",
              "      <td>False</td>\n",
              "      <td>...</td>\n",
              "      <td>0.0</td>\n",
              "      <td>Санкт-Петербург</td>\n",
              "      <td>28098.0</td>\n",
              "      <td>6800.0</td>\n",
              "      <td>2.0</td>\n",
              "      <td>84.0</td>\n",
              "      <td>3.0</td>\n",
              "      <td>234.0</td>\n",
              "      <td>424.0</td>\n",
              "      <td>NaN</td>\n",
              "    </tr>\n",
              "    <tr>\n",
              "      <th>4</th>\n",
              "      <td>2</td>\n",
              "      <td>10000000.0</td>\n",
              "      <td>100.00</td>\n",
              "      <td>2018-06-19</td>\n",
              "      <td>2</td>\n",
              "      <td>3.03</td>\n",
              "      <td>14</td>\n",
              "      <td>32.00</td>\n",
              "      <td>13</td>\n",
              "      <td>False</td>\n",
              "      <td>...</td>\n",
              "      <td>0.0</td>\n",
              "      <td>Санкт-Петербург</td>\n",
              "      <td>31856.0</td>\n",
              "      <td>8098.0</td>\n",
              "      <td>2.0</td>\n",
              "      <td>112.0</td>\n",
              "      <td>1.0</td>\n",
              "      <td>48.0</td>\n",
              "      <td>121.0</td>\n",
              "      <td>312500.000000</td>\n",
              "    </tr>\n",
              "    <tr>\n",
              "      <th>5</th>\n",
              "      <td>10</td>\n",
              "      <td>2890000.0</td>\n",
              "      <td>30.40</td>\n",
              "      <td>2018-09-10</td>\n",
              "      <td>1</td>\n",
              "      <td>2.65</td>\n",
              "      <td>12</td>\n",
              "      <td>14.40</td>\n",
              "      <td>5</td>\n",
              "      <td>False</td>\n",
              "      <td>...</td>\n",
              "      <td>0.0</td>\n",
              "      <td>посёлок Янино-1</td>\n",
              "      <td>NaN</td>\n",
              "      <td>NaN</td>\n",
              "      <td>NaN</td>\n",
              "      <td>NaN</td>\n",
              "      <td>NaN</td>\n",
              "      <td>NaN</td>\n",
              "      <td>55.0</td>\n",
              "      <td>200694.444444</td>\n",
              "    </tr>\n",
              "    <tr>\n",
              "      <th>6</th>\n",
              "      <td>6</td>\n",
              "      <td>3700000.0</td>\n",
              "      <td>37.30</td>\n",
              "      <td>2017-11-02</td>\n",
              "      <td>1</td>\n",
              "      <td>2.65</td>\n",
              "      <td>26</td>\n",
              "      <td>10.60</td>\n",
              "      <td>6</td>\n",
              "      <td>False</td>\n",
              "      <td>...</td>\n",
              "      <td>1.0</td>\n",
              "      <td>посёлок Парголово</td>\n",
              "      <td>52996.0</td>\n",
              "      <td>19143.0</td>\n",
              "      <td>0.0</td>\n",
              "      <td>NaN</td>\n",
              "      <td>0.0</td>\n",
              "      <td>NaN</td>\n",
              "      <td>155.0</td>\n",
              "      <td>349056.603774</td>\n",
              "    </tr>\n",
              "    <tr>\n",
              "      <th>7</th>\n",
              "      <td>5</td>\n",
              "      <td>7915000.0</td>\n",
              "      <td>71.60</td>\n",
              "      <td>2019-04-18</td>\n",
              "      <td>2</td>\n",
              "      <td>2.65</td>\n",
              "      <td>24</td>\n",
              "      <td>NaN</td>\n",
              "      <td>22</td>\n",
              "      <td>False</td>\n",
              "      <td>...</td>\n",
              "      <td>2.0</td>\n",
              "      <td>Санкт-Петербург</td>\n",
              "      <td>23982.0</td>\n",
              "      <td>11634.0</td>\n",
              "      <td>0.0</td>\n",
              "      <td>NaN</td>\n",
              "      <td>0.0</td>\n",
              "      <td>NaN</td>\n",
              "      <td>NaN</td>\n",
              "      <td>NaN</td>\n",
              "    </tr>\n",
              "    <tr>\n",
              "      <th>8</th>\n",
              "      <td>20</td>\n",
              "      <td>2900000.0</td>\n",
              "      <td>33.16</td>\n",
              "      <td>2018-05-23</td>\n",
              "      <td>1</td>\n",
              "      <td>2.65</td>\n",
              "      <td>27</td>\n",
              "      <td>15.43</td>\n",
              "      <td>26</td>\n",
              "      <td>False</td>\n",
              "      <td>...</td>\n",
              "      <td>0.0</td>\n",
              "      <td>посёлок Мурино</td>\n",
              "      <td>NaN</td>\n",
              "      <td>NaN</td>\n",
              "      <td>NaN</td>\n",
              "      <td>NaN</td>\n",
              "      <td>NaN</td>\n",
              "      <td>NaN</td>\n",
              "      <td>189.0</td>\n",
              "      <td>187945.560596</td>\n",
              "    </tr>\n",
              "    <tr>\n",
              "      <th>9</th>\n",
              "      <td>18</td>\n",
              "      <td>5400000.0</td>\n",
              "      <td>61.00</td>\n",
              "      <td>2017-02-26</td>\n",
              "      <td>3</td>\n",
              "      <td>2.50</td>\n",
              "      <td>9</td>\n",
              "      <td>43.60</td>\n",
              "      <td>7</td>\n",
              "      <td>False</td>\n",
              "      <td>...</td>\n",
              "      <td>2.0</td>\n",
              "      <td>Санкт-Петербург</td>\n",
              "      <td>50898.0</td>\n",
              "      <td>15008.0</td>\n",
              "      <td>0.0</td>\n",
              "      <td>NaN</td>\n",
              "      <td>0.0</td>\n",
              "      <td>NaN</td>\n",
              "      <td>289.0</td>\n",
              "      <td>123853.211009</td>\n",
              "    </tr>\n",
              "  </tbody>\n",
              "</table>\n",
              "<p>10 rows × 23 columns</p>\n",
              "</div>"
            ],
            "text/plain": [
              "   total_images  last_price  total_area first_day_exposition  rooms  \\\n",
              "0            20  13000000.0      108.00           2019-03-07      3   \n",
              "1             7   3350000.0       40.40           2018-12-04      1   \n",
              "2            10   5196000.0       56.00           2015-08-20      2   \n",
              "3             0  64900000.0      159.00           2015-07-24      3   \n",
              "4             2  10000000.0      100.00           2018-06-19      2   \n",
              "5            10   2890000.0       30.40           2018-09-10      1   \n",
              "6             6   3700000.0       37.30           2017-11-02      1   \n",
              "7             5   7915000.0       71.60           2019-04-18      2   \n",
              "8            20   2900000.0       33.16           2018-05-23      1   \n",
              "9            18   5400000.0       61.00           2017-02-26      3   \n",
              "\n",
              "   ceiling_height  floors_total  living_area  floor  is_apartment  ...  \\\n",
              "0            2.70            16        51.00      8         False  ...   \n",
              "1            2.65            11        18.60      1         False  ...   \n",
              "2            2.65             5        34.30      4         False  ...   \n",
              "3            2.65            14          NaN      9         False  ...   \n",
              "4            3.03            14        32.00     13         False  ...   \n",
              "5            2.65            12        14.40      5         False  ...   \n",
              "6            2.65            26        10.60      6         False  ...   \n",
              "7            2.65            24          NaN     22         False  ...   \n",
              "8            2.65            27        15.43     26         False  ...   \n",
              "9            2.50             9        43.60      7         False  ...   \n",
              "\n",
              "   balcony      locality_name  airports_nearest  cityCenters_nearest  \\\n",
              "0      0.0    Санкт-Петербург           18863.0              16028.0   \n",
              "1      2.0     посёлок Шушары           12817.0              18603.0   \n",
              "2      0.0    Санкт-Петербург           21741.0              13933.0   \n",
              "3      0.0    Санкт-Петербург           28098.0               6800.0   \n",
              "4      0.0    Санкт-Петербург           31856.0               8098.0   \n",
              "5      0.0    посёлок Янино-1               NaN                  NaN   \n",
              "6      1.0  посёлок Парголово           52996.0              19143.0   \n",
              "7      2.0    Санкт-Петербург           23982.0              11634.0   \n",
              "8      0.0     посёлок Мурино               NaN                  NaN   \n",
              "9      2.0    Санкт-Петербург           50898.0              15008.0   \n",
              "\n",
              "  parks_around3000  parks_nearest  ponds_around3000  ponds_nearest  \\\n",
              "0              1.0          482.0               2.0          755.0   \n",
              "1              0.0            NaN               0.0            NaN   \n",
              "2              1.0           90.0               2.0          574.0   \n",
              "3              2.0           84.0               3.0          234.0   \n",
              "4              2.0          112.0               1.0           48.0   \n",
              "5              NaN            NaN               NaN            NaN   \n",
              "6              0.0            NaN               0.0            NaN   \n",
              "7              0.0            NaN               0.0            NaN   \n",
              "8              NaN            NaN               NaN            NaN   \n",
              "9              0.0            NaN               0.0            NaN   \n",
              "\n",
              "   days_exposition      metr_cost  \n",
              "0              NaN  254901.960784  \n",
              "1             81.0  180107.526882  \n",
              "2            558.0  151486.880466  \n",
              "3            424.0            NaN  \n",
              "4            121.0  312500.000000  \n",
              "5             55.0  200694.444444  \n",
              "6            155.0  349056.603774  \n",
              "7              NaN            NaN  \n",
              "8            189.0  187945.560596  \n",
              "9            289.0  123853.211009  \n",
              "\n",
              "[10 rows x 23 columns]"
            ]
          },
          "metadata": {},
          "output_type": "display_data"
        }
      ],
      "source": [
        "#добавляем в таблицу стоимость м2\n",
        "data['metr_cost'] = data['last_price'] / data['living_area']\n",
        "display(data.head(10))"
      ]
    },
    {
      "cell_type": "code",
      "execution_count": null,
      "metadata": {
        "id": "7Ib3A6lhiu8W"
      },
      "outputs": [],
      "source": [
        "#добавляем в таблицу дни недели (0 — понедельник, 1 — вторник и так далее)\n",
        "data['day'] = pd.DatetimeIndex(data['first_day_exposition']).weekday"
      ]
    },
    {
      "cell_type": "code",
      "execution_count": null,
      "metadata": {
        "id": "3bgp0muiiu8W"
      },
      "outputs": [],
      "source": [
        "#добавляем в таблицу месяца\n",
        "data['month'] = pd.DatetimeIndex(data['first_day_exposition']).month"
      ]
    },
    {
      "cell_type": "code",
      "execution_count": null,
      "metadata": {
        "scrolled": true,
        "id": "cQiaaEHPiu8W"
      },
      "outputs": [],
      "source": [
        "#добавляем в таблицу месяца\n",
        "data['year'] = pd.DatetimeIndex(data['first_day_exposition']).year\n"
      ]
    },
    {
      "cell_type": "code",
      "execution_count": null,
      "metadata": {
        "id": "CRni8G3Oiu8W"
      },
      "outputs": [],
      "source": [
        "#функция для строки с возратом типа этажа («первый», «последний», «другой»)\n",
        "def floor_type(row):\n",
        "    floor = row['floor']\n",
        "    floors_total = row['floors_total']\n",
        "    if floor ==1:\n",
        "        return 'первый'\n",
        "    elif floor == floors_total:\n",
        "        return 'последний'\n",
        "    else:\n",
        "        return 'другой'\n",
        "\n",
        "#добавление нового столбца и вызов функиции , где для входя используются строки\n",
        "data['floor_type'] = data.apply(floor_type , axis=1)\n"
      ]
    },
    {
      "cell_type": "code",
      "execution_count": null,
      "metadata": {
        "scrolled": true,
        "id": "5GWJ7RBAiu8W",
        "outputId": "7aa509e1-40d6-452e-ef15-8ffeb0b28622"
      },
      "outputs": [
        {
          "data": {
            "text/html": [
              "<div>\n",
              "<style scoped>\n",
              "    .dataframe tbody tr th:only-of-type {\n",
              "        vertical-align: middle;\n",
              "    }\n",
              "\n",
              "    .dataframe tbody tr th {\n",
              "        vertical-align: top;\n",
              "    }\n",
              "\n",
              "    .dataframe thead th {\n",
              "        text-align: right;\n",
              "    }\n",
              "</style>\n",
              "<table border=\"1\" class=\"dataframe\">\n",
              "  <thead>\n",
              "    <tr style=\"text-align: right;\">\n",
              "      <th></th>\n",
              "      <th>total_images</th>\n",
              "      <th>last_price</th>\n",
              "      <th>total_area</th>\n",
              "      <th>first_day_exposition</th>\n",
              "      <th>rooms</th>\n",
              "      <th>ceiling_height</th>\n",
              "      <th>floors_total</th>\n",
              "      <th>living_area</th>\n",
              "      <th>floor</th>\n",
              "      <th>is_apartment</th>\n",
              "      <th>...</th>\n",
              "      <th>parks_nearest</th>\n",
              "      <th>ponds_around3000</th>\n",
              "      <th>ponds_nearest</th>\n",
              "      <th>days_exposition</th>\n",
              "      <th>metr_cost</th>\n",
              "      <th>day</th>\n",
              "      <th>month</th>\n",
              "      <th>year</th>\n",
              "      <th>floor_type</th>\n",
              "      <th>center_km</th>\n",
              "    </tr>\n",
              "  </thead>\n",
              "  <tbody>\n",
              "    <tr>\n",
              "      <th>0</th>\n",
              "      <td>20</td>\n",
              "      <td>13000000.0</td>\n",
              "      <td>108.00</td>\n",
              "      <td>2019-03-07</td>\n",
              "      <td>3</td>\n",
              "      <td>2.70</td>\n",
              "      <td>16</td>\n",
              "      <td>51.00</td>\n",
              "      <td>8</td>\n",
              "      <td>False</td>\n",
              "      <td>...</td>\n",
              "      <td>482.0</td>\n",
              "      <td>2.0</td>\n",
              "      <td>755.0</td>\n",
              "      <td>NaN</td>\n",
              "      <td>254901.960784</td>\n",
              "      <td>3</td>\n",
              "      <td>3</td>\n",
              "      <td>2019</td>\n",
              "      <td>другой</td>\n",
              "      <td>16.0</td>\n",
              "    </tr>\n",
              "    <tr>\n",
              "      <th>1</th>\n",
              "      <td>7</td>\n",
              "      <td>3350000.0</td>\n",
              "      <td>40.40</td>\n",
              "      <td>2018-12-04</td>\n",
              "      <td>1</td>\n",
              "      <td>2.65</td>\n",
              "      <td>11</td>\n",
              "      <td>18.60</td>\n",
              "      <td>1</td>\n",
              "      <td>False</td>\n",
              "      <td>...</td>\n",
              "      <td>NaN</td>\n",
              "      <td>0.0</td>\n",
              "      <td>NaN</td>\n",
              "      <td>81.0</td>\n",
              "      <td>180107.526882</td>\n",
              "      <td>1</td>\n",
              "      <td>12</td>\n",
              "      <td>2018</td>\n",
              "      <td>первый</td>\n",
              "      <td>19.0</td>\n",
              "    </tr>\n",
              "    <tr>\n",
              "      <th>2</th>\n",
              "      <td>10</td>\n",
              "      <td>5196000.0</td>\n",
              "      <td>56.00</td>\n",
              "      <td>2015-08-20</td>\n",
              "      <td>2</td>\n",
              "      <td>2.65</td>\n",
              "      <td>5</td>\n",
              "      <td>34.30</td>\n",
              "      <td>4</td>\n",
              "      <td>False</td>\n",
              "      <td>...</td>\n",
              "      <td>90.0</td>\n",
              "      <td>2.0</td>\n",
              "      <td>574.0</td>\n",
              "      <td>558.0</td>\n",
              "      <td>151486.880466</td>\n",
              "      <td>3</td>\n",
              "      <td>8</td>\n",
              "      <td>2015</td>\n",
              "      <td>другой</td>\n",
              "      <td>14.0</td>\n",
              "    </tr>\n",
              "    <tr>\n",
              "      <th>3</th>\n",
              "      <td>0</td>\n",
              "      <td>64900000.0</td>\n",
              "      <td>159.00</td>\n",
              "      <td>2015-07-24</td>\n",
              "      <td>3</td>\n",
              "      <td>2.65</td>\n",
              "      <td>14</td>\n",
              "      <td>NaN</td>\n",
              "      <td>9</td>\n",
              "      <td>False</td>\n",
              "      <td>...</td>\n",
              "      <td>84.0</td>\n",
              "      <td>3.0</td>\n",
              "      <td>234.0</td>\n",
              "      <td>424.0</td>\n",
              "      <td>NaN</td>\n",
              "      <td>4</td>\n",
              "      <td>7</td>\n",
              "      <td>2015</td>\n",
              "      <td>другой</td>\n",
              "      <td>7.0</td>\n",
              "    </tr>\n",
              "    <tr>\n",
              "      <th>4</th>\n",
              "      <td>2</td>\n",
              "      <td>10000000.0</td>\n",
              "      <td>100.00</td>\n",
              "      <td>2018-06-19</td>\n",
              "      <td>2</td>\n",
              "      <td>3.03</td>\n",
              "      <td>14</td>\n",
              "      <td>32.00</td>\n",
              "      <td>13</td>\n",
              "      <td>False</td>\n",
              "      <td>...</td>\n",
              "      <td>112.0</td>\n",
              "      <td>1.0</td>\n",
              "      <td>48.0</td>\n",
              "      <td>121.0</td>\n",
              "      <td>312500.000000</td>\n",
              "      <td>1</td>\n",
              "      <td>6</td>\n",
              "      <td>2018</td>\n",
              "      <td>другой</td>\n",
              "      <td>8.0</td>\n",
              "    </tr>\n",
              "    <tr>\n",
              "      <th>5</th>\n",
              "      <td>10</td>\n",
              "      <td>2890000.0</td>\n",
              "      <td>30.40</td>\n",
              "      <td>2018-09-10</td>\n",
              "      <td>1</td>\n",
              "      <td>2.65</td>\n",
              "      <td>12</td>\n",
              "      <td>14.40</td>\n",
              "      <td>5</td>\n",
              "      <td>False</td>\n",
              "      <td>...</td>\n",
              "      <td>NaN</td>\n",
              "      <td>NaN</td>\n",
              "      <td>NaN</td>\n",
              "      <td>55.0</td>\n",
              "      <td>200694.444444</td>\n",
              "      <td>0</td>\n",
              "      <td>9</td>\n",
              "      <td>2018</td>\n",
              "      <td>другой</td>\n",
              "      <td>NaN</td>\n",
              "    </tr>\n",
              "    <tr>\n",
              "      <th>6</th>\n",
              "      <td>6</td>\n",
              "      <td>3700000.0</td>\n",
              "      <td>37.30</td>\n",
              "      <td>2017-11-02</td>\n",
              "      <td>1</td>\n",
              "      <td>2.65</td>\n",
              "      <td>26</td>\n",
              "      <td>10.60</td>\n",
              "      <td>6</td>\n",
              "      <td>False</td>\n",
              "      <td>...</td>\n",
              "      <td>NaN</td>\n",
              "      <td>0.0</td>\n",
              "      <td>NaN</td>\n",
              "      <td>155.0</td>\n",
              "      <td>349056.603774</td>\n",
              "      <td>3</td>\n",
              "      <td>11</td>\n",
              "      <td>2017</td>\n",
              "      <td>другой</td>\n",
              "      <td>19.0</td>\n",
              "    </tr>\n",
              "    <tr>\n",
              "      <th>7</th>\n",
              "      <td>5</td>\n",
              "      <td>7915000.0</td>\n",
              "      <td>71.60</td>\n",
              "      <td>2019-04-18</td>\n",
              "      <td>2</td>\n",
              "      <td>2.65</td>\n",
              "      <td>24</td>\n",
              "      <td>NaN</td>\n",
              "      <td>22</td>\n",
              "      <td>False</td>\n",
              "      <td>...</td>\n",
              "      <td>NaN</td>\n",
              "      <td>0.0</td>\n",
              "      <td>NaN</td>\n",
              "      <td>NaN</td>\n",
              "      <td>NaN</td>\n",
              "      <td>3</td>\n",
              "      <td>4</td>\n",
              "      <td>2019</td>\n",
              "      <td>другой</td>\n",
              "      <td>12.0</td>\n",
              "    </tr>\n",
              "    <tr>\n",
              "      <th>8</th>\n",
              "      <td>20</td>\n",
              "      <td>2900000.0</td>\n",
              "      <td>33.16</td>\n",
              "      <td>2018-05-23</td>\n",
              "      <td>1</td>\n",
              "      <td>2.65</td>\n",
              "      <td>27</td>\n",
              "      <td>15.43</td>\n",
              "      <td>26</td>\n",
              "      <td>False</td>\n",
              "      <td>...</td>\n",
              "      <td>NaN</td>\n",
              "      <td>NaN</td>\n",
              "      <td>NaN</td>\n",
              "      <td>189.0</td>\n",
              "      <td>187945.560596</td>\n",
              "      <td>2</td>\n",
              "      <td>5</td>\n",
              "      <td>2018</td>\n",
              "      <td>другой</td>\n",
              "      <td>NaN</td>\n",
              "    </tr>\n",
              "    <tr>\n",
              "      <th>9</th>\n",
              "      <td>18</td>\n",
              "      <td>5400000.0</td>\n",
              "      <td>61.00</td>\n",
              "      <td>2017-02-26</td>\n",
              "      <td>3</td>\n",
              "      <td>2.50</td>\n",
              "      <td>9</td>\n",
              "      <td>43.60</td>\n",
              "      <td>7</td>\n",
              "      <td>False</td>\n",
              "      <td>...</td>\n",
              "      <td>NaN</td>\n",
              "      <td>0.0</td>\n",
              "      <td>NaN</td>\n",
              "      <td>289.0</td>\n",
              "      <td>123853.211009</td>\n",
              "      <td>6</td>\n",
              "      <td>2</td>\n",
              "      <td>2017</td>\n",
              "      <td>другой</td>\n",
              "      <td>15.0</td>\n",
              "    </tr>\n",
              "  </tbody>\n",
              "</table>\n",
              "<p>10 rows × 28 columns</p>\n",
              "</div>"
            ],
            "text/plain": [
              "   total_images  last_price  total_area first_day_exposition  rooms  \\\n",
              "0            20  13000000.0      108.00           2019-03-07      3   \n",
              "1             7   3350000.0       40.40           2018-12-04      1   \n",
              "2            10   5196000.0       56.00           2015-08-20      2   \n",
              "3             0  64900000.0      159.00           2015-07-24      3   \n",
              "4             2  10000000.0      100.00           2018-06-19      2   \n",
              "5            10   2890000.0       30.40           2018-09-10      1   \n",
              "6             6   3700000.0       37.30           2017-11-02      1   \n",
              "7             5   7915000.0       71.60           2019-04-18      2   \n",
              "8            20   2900000.0       33.16           2018-05-23      1   \n",
              "9            18   5400000.0       61.00           2017-02-26      3   \n",
              "\n",
              "   ceiling_height  floors_total  living_area  floor  is_apartment  ...  \\\n",
              "0            2.70            16        51.00      8         False  ...   \n",
              "1            2.65            11        18.60      1         False  ...   \n",
              "2            2.65             5        34.30      4         False  ...   \n",
              "3            2.65            14          NaN      9         False  ...   \n",
              "4            3.03            14        32.00     13         False  ...   \n",
              "5            2.65            12        14.40      5         False  ...   \n",
              "6            2.65            26        10.60      6         False  ...   \n",
              "7            2.65            24          NaN     22         False  ...   \n",
              "8            2.65            27        15.43     26         False  ...   \n",
              "9            2.50             9        43.60      7         False  ...   \n",
              "\n",
              "   parks_nearest  ponds_around3000  ponds_nearest  days_exposition  \\\n",
              "0          482.0               2.0          755.0              NaN   \n",
              "1            NaN               0.0            NaN             81.0   \n",
              "2           90.0               2.0          574.0            558.0   \n",
              "3           84.0               3.0          234.0            424.0   \n",
              "4          112.0               1.0           48.0            121.0   \n",
              "5            NaN               NaN            NaN             55.0   \n",
              "6            NaN               0.0            NaN            155.0   \n",
              "7            NaN               0.0            NaN              NaN   \n",
              "8            NaN               NaN            NaN            189.0   \n",
              "9            NaN               0.0            NaN            289.0   \n",
              "\n",
              "       metr_cost  day  month  year  floor_type  center_km  \n",
              "0  254901.960784    3      3  2019      другой       16.0  \n",
              "1  180107.526882    1     12  2018      первый       19.0  \n",
              "2  151486.880466    3      8  2015      другой       14.0  \n",
              "3            NaN    4      7  2015      другой        7.0  \n",
              "4  312500.000000    1      6  2018      другой        8.0  \n",
              "5  200694.444444    0      9  2018      другой        NaN  \n",
              "6  349056.603774    3     11  2017      другой       19.0  \n",
              "7            NaN    3      4  2019      другой       12.0  \n",
              "8  187945.560596    2      5  2018      другой        NaN  \n",
              "9  123853.211009    6      2  2017      другой       15.0  \n",
              "\n",
              "[10 rows x 28 columns]"
            ]
          },
          "execution_count": 182,
          "metadata": {},
          "output_type": "execute_result"
        }
      ],
      "source": [
        "#расстояние до центра города в километрах (переведите из м в км и округлите до целых значений)\n",
        "data['center_km'] = round(data['cityCenters_nearest']/1000)\n",
        "\n",
        "data.head(10)"
      ]
    },
    {
      "cell_type": "code",
      "execution_count": null,
      "metadata": {
        "id": "XsAaVy5Diu8X"
      },
      "outputs": [],
      "source": [
        "#переводим цену в млн, для удобства просмора\n",
        "data['last_price_mln'] = round(data['last_price']/1000000)"
      ]
    },
    {
      "cell_type": "code",
      "execution_count": null,
      "metadata": {
        "id": "cAEroti8iu8X"
      },
      "outputs": [],
      "source": [
        "#Удаляем объекты с ценой более 100млн, так как они являются выбросами и их всего 37 штук.\n",
        "data = data.drop(index=data.query('last_price_mln > 100').index)"
      ]
    },
    {
      "cell_type": "code",
      "execution_count": null,
      "metadata": {
        "id": "LOjXQEaviu8X"
      },
      "outputs": [],
      "source": [
        "#Удаляем объекты с ценой мене 12190.0 р, так как он похож на ошибку из-за метража 109м2 и находж\n",
        "data = data.drop(index=data.query('last_price < 13000').index)"
      ]
    },
    {
      "cell_type": "code",
      "execution_count": null,
      "metadata": {
        "id": "c_ss3JV7iu8X"
      },
      "outputs": [],
      "source": [
        "#Удаляем объекты с жилой площдаью менее 9м2 по ГОСТу\n",
        "data = data.drop(index=data.query('living_area < 9').index)"
      ]
    },
    {
      "cell_type": "code",
      "execution_count": null,
      "metadata": {
        "scrolled": true,
        "id": "-ADfTrNbiu8X",
        "outputId": "ff2704c7-9e53-4ca5-d704-4038e8efcf91"
      },
      "outputs": [
        {
          "data": {
            "text/html": [
              "<div>\n",
              "<style scoped>\n",
              "    .dataframe tbody tr th:only-of-type {\n",
              "        vertical-align: middle;\n",
              "    }\n",
              "\n",
              "    .dataframe tbody tr th {\n",
              "        vertical-align: top;\n",
              "    }\n",
              "\n",
              "    .dataframe thead th {\n",
              "        text-align: right;\n",
              "    }\n",
              "</style>\n",
              "<table border=\"1\" class=\"dataframe\">\n",
              "  <thead>\n",
              "    <tr style=\"text-align: right;\">\n",
              "      <th></th>\n",
              "      <th>total_images</th>\n",
              "      <th>last_price</th>\n",
              "      <th>total_area</th>\n",
              "      <th>first_day_exposition</th>\n",
              "      <th>rooms</th>\n",
              "      <th>ceiling_height</th>\n",
              "      <th>floors_total</th>\n",
              "      <th>living_area</th>\n",
              "      <th>floor</th>\n",
              "      <th>is_apartment</th>\n",
              "      <th>...</th>\n",
              "      <th>ponds_around3000</th>\n",
              "      <th>ponds_nearest</th>\n",
              "      <th>days_exposition</th>\n",
              "      <th>metr_cost</th>\n",
              "      <th>day</th>\n",
              "      <th>month</th>\n",
              "      <th>year</th>\n",
              "      <th>floor_type</th>\n",
              "      <th>center_km</th>\n",
              "      <th>last_price_mln</th>\n",
              "    </tr>\n",
              "  </thead>\n",
              "  <tbody>\n",
              "    <tr>\n",
              "      <th>0</th>\n",
              "      <td>20</td>\n",
              "      <td>13000000.0</td>\n",
              "      <td>108.00</td>\n",
              "      <td>2019-03-07</td>\n",
              "      <td>3</td>\n",
              "      <td>2.70</td>\n",
              "      <td>16</td>\n",
              "      <td>51.0</td>\n",
              "      <td>8</td>\n",
              "      <td>False</td>\n",
              "      <td>...</td>\n",
              "      <td>2.0</td>\n",
              "      <td>755.0</td>\n",
              "      <td>NaN</td>\n",
              "      <td>254901.960784</td>\n",
              "      <td>3</td>\n",
              "      <td>3</td>\n",
              "      <td>2019</td>\n",
              "      <td>другой</td>\n",
              "      <td>16.0</td>\n",
              "      <td>13.0</td>\n",
              "    </tr>\n",
              "    <tr>\n",
              "      <th>3</th>\n",
              "      <td>0</td>\n",
              "      <td>64900000.0</td>\n",
              "      <td>159.00</td>\n",
              "      <td>2015-07-24</td>\n",
              "      <td>3</td>\n",
              "      <td>2.65</td>\n",
              "      <td>14</td>\n",
              "      <td>NaN</td>\n",
              "      <td>9</td>\n",
              "      <td>False</td>\n",
              "      <td>...</td>\n",
              "      <td>3.0</td>\n",
              "      <td>234.0</td>\n",
              "      <td>424.0</td>\n",
              "      <td>NaN</td>\n",
              "      <td>4</td>\n",
              "      <td>7</td>\n",
              "      <td>2015</td>\n",
              "      <td>другой</td>\n",
              "      <td>7.0</td>\n",
              "      <td>65.0</td>\n",
              "    </tr>\n",
              "    <tr>\n",
              "      <th>9</th>\n",
              "      <td>18</td>\n",
              "      <td>5400000.0</td>\n",
              "      <td>61.00</td>\n",
              "      <td>2017-02-26</td>\n",
              "      <td>3</td>\n",
              "      <td>2.50</td>\n",
              "      <td>9</td>\n",
              "      <td>43.6</td>\n",
              "      <td>7</td>\n",
              "      <td>False</td>\n",
              "      <td>...</td>\n",
              "      <td>0.0</td>\n",
              "      <td>NaN</td>\n",
              "      <td>289.0</td>\n",
              "      <td>123853.211009</td>\n",
              "      <td>6</td>\n",
              "      <td>2</td>\n",
              "      <td>2017</td>\n",
              "      <td>другой</td>\n",
              "      <td>15.0</td>\n",
              "      <td>5.0</td>\n",
              "    </tr>\n",
              "    <tr>\n",
              "      <th>16</th>\n",
              "      <td>11</td>\n",
              "      <td>6700000.0</td>\n",
              "      <td>82.00</td>\n",
              "      <td>2017-11-23</td>\n",
              "      <td>3</td>\n",
              "      <td>3.05</td>\n",
              "      <td>5</td>\n",
              "      <td>55.6</td>\n",
              "      <td>1</td>\n",
              "      <td>False</td>\n",
              "      <td>...</td>\n",
              "      <td>0.0</td>\n",
              "      <td>NaN</td>\n",
              "      <td>397.0</td>\n",
              "      <td>120503.597122</td>\n",
              "      <td>3</td>\n",
              "      <td>11</td>\n",
              "      <td>2017</td>\n",
              "      <td>первый</td>\n",
              "      <td>11.0</td>\n",
              "      <td>7.0</td>\n",
              "    </tr>\n",
              "    <tr>\n",
              "      <th>19</th>\n",
              "      <td>16</td>\n",
              "      <td>14200000.0</td>\n",
              "      <td>121.00</td>\n",
              "      <td>2019-01-09</td>\n",
              "      <td>3</td>\n",
              "      <td>2.75</td>\n",
              "      <td>16</td>\n",
              "      <td>76.0</td>\n",
              "      <td>8</td>\n",
              "      <td>False</td>\n",
              "      <td>...</td>\n",
              "      <td>0.0</td>\n",
              "      <td>NaN</td>\n",
              "      <td>97.0</td>\n",
              "      <td>186842.105263</td>\n",
              "      <td>2</td>\n",
              "      <td>1</td>\n",
              "      <td>2019</td>\n",
              "      <td>другой</td>\n",
              "      <td>13.0</td>\n",
              "      <td>14.0</td>\n",
              "    </tr>\n",
              "    <tr>\n",
              "      <th>...</th>\n",
              "      <td>...</td>\n",
              "      <td>...</td>\n",
              "      <td>...</td>\n",
              "      <td>...</td>\n",
              "      <td>...</td>\n",
              "      <td>...</td>\n",
              "      <td>...</td>\n",
              "      <td>...</td>\n",
              "      <td>...</td>\n",
              "      <td>...</td>\n",
              "      <td>...</td>\n",
              "      <td>...</td>\n",
              "      <td>...</td>\n",
              "      <td>...</td>\n",
              "      <td>...</td>\n",
              "      <td>...</td>\n",
              "      <td>...</td>\n",
              "      <td>...</td>\n",
              "      <td>...</td>\n",
              "      <td>...</td>\n",
              "      <td>...</td>\n",
              "    </tr>\n",
              "    <tr>\n",
              "      <th>23680</th>\n",
              "      <td>14</td>\n",
              "      <td>5000000.0</td>\n",
              "      <td>59.00</td>\n",
              "      <td>2019-04-04</td>\n",
              "      <td>3</td>\n",
              "      <td>2.50</td>\n",
              "      <td>5</td>\n",
              "      <td>52.0</td>\n",
              "      <td>1</td>\n",
              "      <td>False</td>\n",
              "      <td>...</td>\n",
              "      <td>0.0</td>\n",
              "      <td>NaN</td>\n",
              "      <td>NaN</td>\n",
              "      <td>96153.846154</td>\n",
              "      <td>3</td>\n",
              "      <td>4</td>\n",
              "      <td>2019</td>\n",
              "      <td>первый</td>\n",
              "      <td>12.0</td>\n",
              "      <td>5.0</td>\n",
              "    </tr>\n",
              "    <tr>\n",
              "      <th>23688</th>\n",
              "      <td>19</td>\n",
              "      <td>9200000.0</td>\n",
              "      <td>101.00</td>\n",
              "      <td>2019-04-01</td>\n",
              "      <td>3</td>\n",
              "      <td>3.05</td>\n",
              "      <td>15</td>\n",
              "      <td>63.0</td>\n",
              "      <td>12</td>\n",
              "      <td>False</td>\n",
              "      <td>...</td>\n",
              "      <td>0.0</td>\n",
              "      <td>NaN</td>\n",
              "      <td>23.0</td>\n",
              "      <td>146031.746032</td>\n",
              "      <td>0</td>\n",
              "      <td>4</td>\n",
              "      <td>2019</td>\n",
              "      <td>другой</td>\n",
              "      <td>14.0</td>\n",
              "      <td>9.0</td>\n",
              "    </tr>\n",
              "    <tr>\n",
              "      <th>23693</th>\n",
              "      <td>9</td>\n",
              "      <td>4600000.0</td>\n",
              "      <td>62.40</td>\n",
              "      <td>2016-08-05</td>\n",
              "      <td>3</td>\n",
              "      <td>2.60</td>\n",
              "      <td>9</td>\n",
              "      <td>40.0</td>\n",
              "      <td>8</td>\n",
              "      <td>False</td>\n",
              "      <td>...</td>\n",
              "      <td>1.0</td>\n",
              "      <td>675.0</td>\n",
              "      <td>239.0</td>\n",
              "      <td>115000.000000</td>\n",
              "      <td>4</td>\n",
              "      <td>8</td>\n",
              "      <td>2016</td>\n",
              "      <td>другой</td>\n",
              "      <td>34.0</td>\n",
              "      <td>5.0</td>\n",
              "    </tr>\n",
              "    <tr>\n",
              "      <th>23694</th>\n",
              "      <td>9</td>\n",
              "      <td>9700000.0</td>\n",
              "      <td>133.81</td>\n",
              "      <td>2017-03-21</td>\n",
              "      <td>3</td>\n",
              "      <td>3.70</td>\n",
              "      <td>5</td>\n",
              "      <td>73.3</td>\n",
              "      <td>3</td>\n",
              "      <td>False</td>\n",
              "      <td>...</td>\n",
              "      <td>3.0</td>\n",
              "      <td>381.0</td>\n",
              "      <td>NaN</td>\n",
              "      <td>132332.878581</td>\n",
              "      <td>1</td>\n",
              "      <td>3</td>\n",
              "      <td>2017</td>\n",
              "      <td>другой</td>\n",
              "      <td>4.0</td>\n",
              "      <td>10.0</td>\n",
              "    </tr>\n",
              "    <tr>\n",
              "      <th>23695</th>\n",
              "      <td>14</td>\n",
              "      <td>3100000.0</td>\n",
              "      <td>59.00</td>\n",
              "      <td>2018-01-15</td>\n",
              "      <td>3</td>\n",
              "      <td>2.65</td>\n",
              "      <td>5</td>\n",
              "      <td>38.0</td>\n",
              "      <td>4</td>\n",
              "      <td>False</td>\n",
              "      <td>...</td>\n",
              "      <td>NaN</td>\n",
              "      <td>NaN</td>\n",
              "      <td>45.0</td>\n",
              "      <td>81578.947368</td>\n",
              "      <td>0</td>\n",
              "      <td>1</td>\n",
              "      <td>2018</td>\n",
              "      <td>другой</td>\n",
              "      <td>NaN</td>\n",
              "      <td>3.0</td>\n",
              "    </tr>\n",
              "  </tbody>\n",
              "</table>\n",
              "<p>5774 rows × 29 columns</p>\n",
              "</div>"
            ],
            "text/plain": [
              "       total_images  last_price  total_area first_day_exposition  rooms  \\\n",
              "0                20  13000000.0      108.00           2019-03-07      3   \n",
              "3                 0  64900000.0      159.00           2015-07-24      3   \n",
              "9                18   5400000.0       61.00           2017-02-26      3   \n",
              "16               11   6700000.0       82.00           2017-11-23      3   \n",
              "19               16  14200000.0      121.00           2019-01-09      3   \n",
              "...             ...         ...         ...                  ...    ...   \n",
              "23680            14   5000000.0       59.00           2019-04-04      3   \n",
              "23688            19   9200000.0      101.00           2019-04-01      3   \n",
              "23693             9   4600000.0       62.40           2016-08-05      3   \n",
              "23694             9   9700000.0      133.81           2017-03-21      3   \n",
              "23695            14   3100000.0       59.00           2018-01-15      3   \n",
              "\n",
              "       ceiling_height  floors_total  living_area  floor  is_apartment  ...  \\\n",
              "0                2.70            16         51.0      8         False  ...   \n",
              "3                2.65            14          NaN      9         False  ...   \n",
              "9                2.50             9         43.6      7         False  ...   \n",
              "16               3.05             5         55.6      1         False  ...   \n",
              "19               2.75            16         76.0      8         False  ...   \n",
              "...               ...           ...          ...    ...           ...  ...   \n",
              "23680            2.50             5         52.0      1         False  ...   \n",
              "23688            3.05            15         63.0     12         False  ...   \n",
              "23693            2.60             9         40.0      8         False  ...   \n",
              "23694            3.70             5         73.3      3         False  ...   \n",
              "23695            2.65             5         38.0      4         False  ...   \n",
              "\n",
              "       ponds_around3000  ponds_nearest  days_exposition      metr_cost day  \\\n",
              "0                   2.0          755.0              NaN  254901.960784   3   \n",
              "3                   3.0          234.0            424.0            NaN   4   \n",
              "9                   0.0            NaN            289.0  123853.211009   6   \n",
              "16                  0.0            NaN            397.0  120503.597122   3   \n",
              "19                  0.0            NaN             97.0  186842.105263   2   \n",
              "...                 ...            ...              ...            ...  ..   \n",
              "23680               0.0            NaN              NaN   96153.846154   3   \n",
              "23688               0.0            NaN             23.0  146031.746032   0   \n",
              "23693               1.0          675.0            239.0  115000.000000   4   \n",
              "23694               3.0          381.0              NaN  132332.878581   1   \n",
              "23695               NaN            NaN             45.0   81578.947368   0   \n",
              "\n",
              "       month  year  floor_type  center_km  last_price_mln  \n",
              "0          3  2019      другой       16.0            13.0  \n",
              "3          7  2015      другой        7.0            65.0  \n",
              "9          2  2017      другой       15.0             5.0  \n",
              "16        11  2017      первый       11.0             7.0  \n",
              "19         1  2019      другой       13.0            14.0  \n",
              "...      ...   ...         ...        ...             ...  \n",
              "23680      4  2019      первый       12.0             5.0  \n",
              "23688      4  2019      другой       14.0             9.0  \n",
              "23693      8  2016      другой       34.0             5.0  \n",
              "23694      3  2017      другой        4.0            10.0  \n",
              "23695      1  2018      другой        NaN             3.0  \n",
              "\n",
              "[5774 rows x 29 columns]"
            ]
          },
          "execution_count": 30,
          "metadata": {},
          "output_type": "execute_result"
        }
      ],
      "source": [
        "data.query('rooms == 3')"
      ]
    },
    {
      "cell_type": "code",
      "execution_count": null,
      "metadata": {
        "scrolled": true,
        "id": "bRCtfnaAiu8Y",
        "outputId": "0c2f03af-2ddf-4c2b-c124-d55e0ce62b60"
      },
      "outputs": [
        {
          "data": {
            "text/plain": [
              "0.992151567576691"
            ]
          },
          "execution_count": 188,
          "metadata": {},
          "output_type": "execute_result"
        }
      ],
      "source": [
        "#сравниваем размеры двух датафреймов\n",
        "data.shape[0] / old_data.shape[0]"
      ]
    },
    {
      "cell_type": "markdown",
      "metadata": {
        "id": "adZWXRSAiu8Y"
      },
      "source": [
        "### Проводим исследовательский анализ данных"
      ]
    },
    {
      "cell_type": "code",
      "execution_count": null,
      "metadata": {
        "id": "CTh3L1H9iu8b"
      },
      "outputs": [],
      "source": [
        "#Импортируем библиотеку matpotlib для создания графиков\n",
        "import matplotlib.pyplot as plt"
      ]
    },
    {
      "cell_type": "code",
      "execution_count": null,
      "metadata": {
        "scrolled": false,
        "id": "ko0ObfcSiu8c",
        "outputId": "268bf802-6f5f-4e33-9608-cc20c12b4e4b"
      },
      "outputs": [
        {
          "data": {
            "text/plain": [
              "count    23513.000000\n",
              "mean        59.905365\n",
              "std         33.461265\n",
              "min         12.000000\n",
              "25%         40.000000\n",
              "50%         52.000000\n",
              "75%         69.500000\n",
              "max        590.000000\n",
              "Name: total_area, dtype: float64"
            ]
          },
          "execution_count": 190,
          "metadata": {},
          "output_type": "execute_result"
        },
        {
          "data": {
            "image/png": "[encoded data removed]",
            "text/plain": [
              "<Figure size 432x288 with 1 Axes>"
            ]
          },
          "metadata": {
            "needs_background": "light"
          },
          "output_type": "display_data"
        }
      ],
      "source": [
        "#Анализируем следующие параметры объектов: общая площадь\n",
        "data['total_area'].hist(range=(0,200), legend=True)\n",
        "data['total_area'].describe()"
      ]
    },
    {
      "cell_type": "markdown",
      "metadata": {
        "id": "WGoPWGgViu8c"
      },
      "source": [
        "Наибольшее количество объектов имеют площадь 50-60 м2, таких объявлений более 8 тыс. и они формируют пик гистограммы.\n",
        "у гистограммы высокое стандартное отклонение в рузльтате присутсвия в данных более 100 квартир площадкью свыше 175м2"
      ]
    },
    {
      "cell_type": "code",
      "execution_count": null,
      "metadata": {
        "scrolled": true,
        "id": "4Y8zAga3iu8d",
        "outputId": "c81c9c3f-98f3-43ce-8c05-5ef6aad6b13c"
      },
      "outputs": [
        {
          "data": {
            "text/plain": [
              "count    21653.000000\n",
              "mean        34.266097\n",
              "std         21.181791\n",
              "min          9.000000\n",
              "25%         18.600000\n",
              "50%         30.000000\n",
              "75%         42.200000\n",
              "max        409.000000\n",
              "Name: living_area, dtype: float64"
            ]
          },
          "execution_count": 33,
          "metadata": {},
          "output_type": "execute_result"
        },
        {
          "data": {
            "image/png": "[encoded data removed]",
            "text/plain": [
              "<Figure size 432x288 with 1 Axes>"
            ]
          },
          "metadata": {
            "needs_background": "light"
          },
          "output_type": "display_data"
        }
      ],
      "source": [
        "#Анадизируем жилую площадь;\n",
        "data['living_area'].hist(range=(0,200))\n",
        "data['living_area'].describe()"
      ]
    },
    {
      "cell_type": "markdown",
      "metadata": {
        "id": "QVZ-DxBPiu8d"
      },
      "source": [
        "Наибольшее кол-во объектов имеют жилую площадь в диапозоне 20-40 м2, таких объектов более 10тыс и они формируют пик гистограммы"
      ]
    },
    {
      "cell_type": "code",
      "execution_count": null,
      "metadata": {
        "scrolled": true,
        "id": "fcS9Mc95iu8d",
        "outputId": "4f0406fd-3fb9-4b3c-edaa-08a1d261212a"
      },
      "outputs": [
        {
          "data": {
            "text/plain": [
              "count    21299.000000\n",
              "mean        10.512941\n",
              "std          5.732918\n",
              "min          1.300000\n",
              "25%          7.000000\n",
              "50%          9.100000\n",
              "75%         12.000000\n",
              "max        107.000000\n",
              "Name: kitchen_area, dtype: float64"
            ]
          },
          "execution_count": 34,
          "metadata": {},
          "output_type": "execute_result"
        },
        {
          "data": {
            "image/png": "[encoded data removed]",
            "text/plain": [
              "<Figure size 432x288 with 1 Axes>"
            ]
          },
          "metadata": {
            "needs_background": "light"
          },
          "output_type": "display_data"
        }
      ],
      "source": [
        "#Анадизируем площадь кухни;\n",
        "data['kitchen_area'].hist(range=(0,20))\n",
        "data['kitchen_area'].describe()"
      ]
    },
    {
      "cell_type": "markdown",
      "metadata": {
        "id": "_UkrnDu6iu8d"
      },
      "source": [
        "Для большинства объявлений средняя площадь кухни находится в диапозоне от 9 до 10 метров, что соответсвтует стандартнам типовых домов в РФ"
      ]
    },
    {
      "cell_type": "code",
      "execution_count": null,
      "metadata": {
        "id": "qneONyS0iu8e",
        "outputId": "bfa6ebab-6b88-4d63-84df-e0dfe6d1cb38"
      },
      "outputs": [
        {
          "data": {
            "text/plain": [
              "count    23513.000000\n",
              "mean         6.247225\n",
              "std          6.428990\n",
              "min          0.000000\n",
              "25%          3.000000\n",
              "50%          5.000000\n",
              "75%          7.000000\n",
              "max         99.000000\n",
              "Name: last_price_mln, dtype: float64"
            ]
          },
          "execution_count": 35,
          "metadata": {},
          "output_type": "execute_result"
        },
        {
          "data": {
            "image/png": "[encoded data removed]",
            "text/plain": [
              "<Figure size 432x288 with 1 Axes>"
            ]
          },
          "metadata": {
            "needs_background": "light"
          },
          "output_type": "display_data"
        }
      ],
      "source": [
        "#Анадизируем цену объекта;\n",
        "data['last_price_mln'].hist(range=(0,20))\n",
        "data['last_price_mln'].describe()"
      ]
    },
    {
      "cell_type": "markdown",
      "metadata": {
        "id": "Nm8teDCSiu8e"
      },
      "source": [
        "Средняя стоимость квартиры 5 млн. Объектов с такой ценой больше всего и они формируют пик гистограммы"
      ]
    },
    {
      "cell_type": "code",
      "execution_count": null,
      "metadata": {
        "scrolled": true,
        "id": "Fbu1mqIZiu8e",
        "outputId": "001b6b44-b006-449a-d8a4-414167e356c5"
      },
      "outputs": [
        {
          "data": {
            "text/plain": [
              "count    23513.000000\n",
              "mean         2.066091\n",
              "std          1.069650\n",
              "min          0.000000\n",
              "25%          1.000000\n",
              "50%          2.000000\n",
              "75%          3.000000\n",
              "max         19.000000\n",
              "Name: rooms, dtype: float64"
            ]
          },
          "execution_count": 36,
          "metadata": {},
          "output_type": "execute_result"
        },
        {
          "data": {
            "image/png": "[encoded data removed]",
            "text/plain": [
              "<Figure size 432x288 with 1 Axes>"
            ]
          },
          "metadata": {
            "needs_background": "light"
          },
          "output_type": "display_data"
        }
      ],
      "source": [
        "#Анадизируем количество комнат\n",
        "data['rooms'].hist(range=(0,10))\n",
        "data['rooms'].describe()"
      ]
    },
    {
      "cell_type": "markdown",
      "metadata": {
        "id": "kPPEgLqXiu8e"
      },
      "source": [
        "В объявлениях наиболее часто встречаются 1 и 2 квартиры. Средние значения (ср. ариф и медиана) также находятся на уровене 2.\n",
        "В данных есть также квартиры без комнат, предполагаю что это студии."
      ]
    },
    {
      "cell_type": "code",
      "execution_count": null,
      "metadata": {
        "scrolled": false,
        "id": "hwunvm6biu8e",
        "outputId": "48785d44-0fe3-45d1-9024-88e666a944e0"
      },
      "outputs": [
        {
          "data": {
            "text/plain": [
              "count    23513.000000\n",
              "mean         2.697383\n",
              "std          0.233151\n",
              "min          2.200000\n",
              "25%          2.600000\n",
              "50%          2.650000\n",
              "75%          2.700000\n",
              "max         10.000000\n",
              "Name: ceiling_height, dtype: float64"
            ]
          },
          "execution_count": 37,
          "metadata": {},
          "output_type": "execute_result"
        },
        {
          "data": {
            "image/png": "[encoded data removed]",
            "text/plain": [
              "<Figure size 432x288 with 1 Axes>"
            ]
          },
          "metadata": {
            "needs_background": "light"
          },
          "output_type": "display_data"
        }
      ],
      "source": [
        "#Анадизируем высоту потолков\n",
        "data['ceiling_height'].hist(range=(2,5))\n",
        "data['ceiling_height'].describe()"
      ]
    },
    {
      "cell_type": "markdown",
      "metadata": {
        "id": "hgvtZu52iu8e"
      },
      "source": [
        "Средняя высота потолка 2,65 , что соответсвует стандартам строительства жилой недивжимости."
      ]
    },
    {
      "cell_type": "code",
      "execution_count": null,
      "metadata": {
        "id": "PwIiqAyRiu8e",
        "outputId": "f277b34d-1130-4d91-9791-7799ed8bea48"
      },
      "outputs": [
        {
          "data": {
            "text/plain": [
              "count    23513.000000\n",
              "mean         5.875771\n",
              "std          4.869119\n",
              "min          1.000000\n",
              "25%          2.000000\n",
              "50%          4.000000\n",
              "75%          8.000000\n",
              "max         33.000000\n",
              "Name: floor, dtype: float64"
            ]
          },
          "execution_count": 38,
          "metadata": {},
          "output_type": "execute_result"
        },
        {
          "data": {
            "image/png": "[encoded data removed]",
            "text/plain": [
              "<Figure size 432x288 with 1 Axes>"
            ]
          },
          "metadata": {
            "needs_background": "light"
          },
          "output_type": "display_data"
        }
      ],
      "source": [
        "#Анадизируем этаж квартиры;\n",
        "data['floor'].hist(range=(0,20))\n",
        "data['floor'].describe()"
      ]
    },
    {
      "cell_type": "markdown",
      "metadata": {
        "id": "fa-mQkJoiu8f"
      },
      "source": [
        "со 2 по 6 это самые часто встречающиеся этажи в окубликованных объявлениях"
      ]
    },
    {
      "cell_type": "code",
      "execution_count": null,
      "metadata": {
        "scrolled": true,
        "id": "Epa-IYu-iu8f",
        "outputId": "dd6a1c38-39ac-4e6d-a67f-0fc3fc824504"
      },
      "outputs": [
        {
          "data": {
            "text/plain": [
              "count      23513\n",
              "unique         3\n",
              "top       другой\n",
              "freq       17294\n",
              "Name: floor_type, dtype: object"
            ]
          },
          "execution_count": 39,
          "metadata": {},
          "output_type": "execute_result"
        },
        {
          "data": {
            "image/png": "[encoded data removed]",
            "text/plain": [
              "<Figure size 432x288 with 1 Axes>"
            ]
          },
          "metadata": {
            "needs_background": "light"
          },
          "output_type": "display_data"
        }
      ],
      "source": [
        "#Анадизируем тип этажа квартиры («первый», «последний», «другой»);\n",
        "data['floor_type'].hist(range=(0,3), bins=3)\n",
        "data['floor_type'].describe()"
      ]
    },
    {
      "cell_type": "markdown",
      "metadata": {
        "id": "c8rB9QVRiu8f"
      },
      "source": [
        "Меньше всего объявлений на первых этажах их доля составялет около 10% от всех объявлений."
      ]
    },
    {
      "cell_type": "code",
      "execution_count": null,
      "metadata": {
        "id": "VaoHLSHjiu8f",
        "outputId": "3a8059de-adaf-453e-87a2-fc89f30f301e"
      },
      "outputs": [
        {
          "data": {
            "text/plain": [
              "count    23513.000000\n",
              "mean        10.678986\n",
              "std          6.594921\n",
              "min          1.000000\n",
              "25%          5.000000\n",
              "50%          9.000000\n",
              "75%         16.000000\n",
              "max         60.000000\n",
              "Name: floors_total, dtype: float64"
            ]
          },
          "execution_count": 40,
          "metadata": {},
          "output_type": "execute_result"
        },
        {
          "data": {
            "image/png": "[encoded data removed]",
            "text/plain": [
              "<Figure size 432x288 with 1 Axes>"
            ]
          },
          "metadata": {
            "needs_background": "light"
          },
          "output_type": "display_data"
        }
      ],
      "source": [
        "#Анадизируем общее количество этажей в доме\n",
        "data['floors_total'].hist(range=(1,40), bins=20)\n",
        "data['floors_total'].describe()"
      ]
    },
    {
      "cell_type": "markdown",
      "metadata": {
        "id": "vo8LQl-xiu8f"
      },
      "source": [
        "У гистограммы неколько пиков, что является результатом типичной застроки : дома 5 этажей , 9-10 этажные и 16 этажные."
      ]
    },
    {
      "cell_type": "code",
      "execution_count": null,
      "metadata": {
        "scrolled": true,
        "id": "ZlG4XY5niu8f",
        "outputId": "7dbe77d0-47cf-4e7e-88bb-f0116c1b0486"
      },
      "outputs": [
        {
          "data": {
            "text/plain": [
              "count    18014.000000\n",
              "mean        14.208727\n",
              "std          8.619092\n",
              "min          0.000000\n",
              "25%          9.000000\n",
              "50%         13.000000\n",
              "75%         16.000000\n",
              "max         66.000000\n",
              "Name: center_km, dtype: float64"
            ]
          },
          "execution_count": 41,
          "metadata": {},
          "output_type": "execute_result"
        },
        {
          "data": {
            "image/png": "[encoded data removed]",
            "text/plain": [
              "<Figure size 432x288 with 1 Axes>"
            ]
          },
          "metadata": {
            "needs_background": "light"
          },
          "output_type": "display_data"
        }
      ],
      "source": [
        "#Анадизируем расстояние до центра города в метрах;\n",
        "data['center_km'].hist(range=(0,60))\n",
        "data['center_km'].describe()"
      ]
    },
    {
      "cell_type": "markdown",
      "metadata": {
        "id": "DJykq9Tsiu8f"
      },
      "source": [
        "Наибольшее количество объявлений имеют удаленность о центра в среднем на 13-14км"
      ]
    },
    {
      "cell_type": "code",
      "execution_count": null,
      "metadata": {
        "scrolled": true,
        "id": "29y3xz9Viu8f",
        "outputId": "b54561e7-ed2a-4d7f-d69d-d5d6a98fc3f2"
      },
      "outputs": [
        {
          "data": {
            "text/plain": [
              "count    17991.000000\n",
              "mean     28803.460619\n",
              "std      12646.090942\n",
              "min          0.000000\n",
              "25%      18551.000000\n",
              "50%      26763.000000\n",
              "75%      37310.000000\n",
              "max      84869.000000\n",
              "Name: airports_nearest, dtype: float64"
            ]
          },
          "execution_count": 42,
          "metadata": {},
          "output_type": "execute_result"
        },
        {
          "data": {
            "image/png": "[encoded data removed]",
            "text/plain": [
              "<Figure size 432x288 with 1 Axes>"
            ]
          },
          "metadata": {
            "needs_background": "light"
          },
          "output_type": "display_data"
        }
      ],
      "source": [
        "#Анадизируем расстояние до ближайшего аэропорта;\n",
        "data['airports_nearest'].hist(range=(0,60000))\n",
        "data['airports_nearest'].describe()"
      ]
    },
    {
      "cell_type": "markdown",
      "metadata": {
        "id": "TBelLU1Yiu8g"
      },
      "source": [
        "Наибольшее кол-во объектов находятся в 20 км от аэропорта"
      ]
    },
    {
      "cell_type": "code",
      "execution_count": null,
      "metadata": {
        "scrolled": true,
        "id": "zfE7E9msiu8g",
        "outputId": "85633e4a-acbe-4bd9-fba8-b27cf3edb1d6"
      },
      "outputs": [
        {
          "data": {
            "text/plain": [
              "count    7995.000000\n",
              "mean      490.860663\n",
              "std       342.047582\n",
              "min         1.000000\n",
              "25%       288.000000\n",
              "50%       455.000000\n",
              "75%       612.000000\n",
              "max      3190.000000\n",
              "Name: parks_nearest, dtype: float64"
            ]
          },
          "execution_count": 43,
          "metadata": {},
          "output_type": "execute_result"
        },
        {
          "data": {
            "image/png": "[encoded data removed]",
            "text/plain": [
              "<Figure size 432x288 with 1 Axes>"
            ]
          },
          "metadata": {
            "needs_background": "light"
          },
          "output_type": "display_data"
        }
      ],
      "source": [
        "#Анадизируем расстояние до ближайшего парка;\n",
        "data['parks_nearest'].hist(range=(1,1000),bins=20)\n",
        "data['parks_nearest'].describe()"
      ]
    },
    {
      "cell_type": "markdown",
      "metadata": {
        "id": "CowEbg5eiu8g"
      },
      "source": [
        "Наибольшее кол-во объектов находятся в 500 метраз от парка"
      ]
    },
    {
      "cell_type": "code",
      "execution_count": null,
      "metadata": {
        "scrolled": false,
        "id": "Edew3v7Oiu8g",
        "outputId": "4d76200a-8a53-45a9-d09e-f85c8b7f1874"
      },
      "outputs": [
        {
          "data": {
            "text/plain": [
              "count    23513.000000\n",
              "mean         2.567346\n",
              "std          1.788322\n",
              "min          0.000000\n",
              "25%          1.000000\n",
              "50%          3.000000\n",
              "75%          4.000000\n",
              "max          6.000000\n",
              "Name: day, dtype: float64"
            ]
          },
          "execution_count": 203,
          "metadata": {},
          "output_type": "execute_result"
        },
        {
          "data": {
            "image/png": "[encoded data removed]",
            "text/plain": [
              "<Figure size 432x288 with 1 Axes>"
            ]
          },
          "metadata": {
            "needs_background": "light"
          },
          "output_type": "display_data"
        }
      ],
      "source": [
        "#Анадизируем день и месяц публикации объявления.\n",
        "data['day'].hist(range=(0,6), bins=7)\n",
        "data['day'].describe()"
      ]
    },
    {
      "cell_type": "markdown",
      "metadata": {
        "id": "AR16Vlq9iu8g"
      },
      "source": [
        "Наиболее часто объявления публикуются по четвергам. Меньше всего по понедельникам и выходным."
      ]
    },
    {
      "cell_type": "code",
      "execution_count": null,
      "metadata": {
        "scrolled": true,
        "id": "Tb9n1YJEiu8g",
        "outputId": "f08a8cc5-2529-4723-c233-47a92721e751"
      },
      "outputs": [
        {
          "data": {
            "text/plain": [
              "count    23513.000000\n",
              "mean         6.403351\n",
              "std          3.493216\n",
              "min          1.000000\n",
              "25%          3.000000\n",
              "50%          6.000000\n",
              "75%         10.000000\n",
              "max         12.000000\n",
              "Name: month, dtype: float64"
            ]
          },
          "execution_count": 45,
          "metadata": {},
          "output_type": "execute_result"
        },
        {
          "data": {
            "image/png": "[encoded data removed]",
            "text/plain": [
              "<Figure size 432x288 with 1 Axes>"
            ]
          },
          "metadata": {
            "needs_background": "light"
          },
          "output_type": "display_data"
        }
      ],
      "source": [
        "data['month'].hist(range=(1,12), bins=12)\n",
        "data['month'].describe()"
      ]
    },
    {
      "cell_type": "markdown",
      "metadata": {
        "id": "6FDPvBkniu8h"
      },
      "source": [
        "Период с марта по май явялется самым активным периодом продаж, так как в этот период публикутся большая часть объявлений"
      ]
    },
    {
      "cell_type": "code",
      "execution_count": null,
      "metadata": {
        "scrolled": false,
        "id": "GizpM0qZiu8h",
        "outputId": "4f528482-49e6-490b-ee6c-ac50a29ef23a"
      },
      "outputs": [
        {
          "data": {
            "text/plain": [
              "count    20349.000000\n",
              "mean       180.534031\n",
              "std        219.615699\n",
              "min          1.000000\n",
              "25%         45.000000\n",
              "50%         95.000000\n",
              "75%        231.000000\n",
              "max       1580.000000\n",
              "Name: days_exposition, dtype: float64"
            ]
          },
          "execution_count": 46,
          "metadata": {},
          "output_type": "execute_result"
        },
        {
          "data": {
            "image/png": "[encoded data removed]",
            "text/plain": [
              "<Figure size 432x288 with 1 Axes>"
            ]
          },
          "metadata": {
            "needs_background": "light"
          },
          "output_type": "display_data"
        }
      ],
      "source": [
        "data['days_exposition'].hist(range=(1,500), bins=5)\n",
        "data['days_exposition'].describe()"
      ]
    },
    {
      "cell_type": "markdown",
      "metadata": {
        "id": "W6bre0KJiu8h"
      },
      "source": [
        "Большинство объявлений продаются в течение 100 дней"
      ]
    },
    {
      "cell_type": "code",
      "execution_count": null,
      "metadata": {
        "scrolled": true,
        "id": "xSo68L8ziu8h",
        "outputId": "7a6d3392-3c40-4745-9e73-18238e733d68"
      },
      "outputs": [
        {
          "name": "stdout",
          "output_type": "stream",
          "text": [
            "0.7689248270435748\n"
          ]
        },
        {
          "data": {
            "image/png": "[encoded data removed]",
            "text/plain": [
              "<Figure size 432x288 with 1 Axes>"
            ]
          },
          "metadata": {
            "needs_background": "light"
          },
          "output_type": "display_data"
        }
      ],
      "source": [
        "#Анализурем зависит ли цена от общей площади;\n",
        "data.plot(x='total_area', y='last_price_mln', kind='scatter')\n",
        "print(data['last_price_mln'].corr(data['total_area']))"
      ]
    },
    {
      "cell_type": "markdown",
      "metadata": {
        "id": "81nvtvtgiu8h"
      },
      "source": [
        "Есть высокая корреляция между площадью квартиры и ценой. т.е. при увеличение площади растет и стоимость."
      ]
    },
    {
      "cell_type": "code",
      "execution_count": null,
      "metadata": {
        "scrolled": true,
        "id": "l32xjXoyiu8h",
        "outputId": "da6ee32e-a1db-4e46-cd88-7e73fca4ad0e"
      },
      "outputs": [
        {
          "name": "stdout",
          "output_type": "stream",
          "text": [
            "0.6850949979112962\n"
          ]
        },
        {
          "data": {
            "image/png": "[encoded data removed]",
            "text/plain": [
              "<Figure size 432x288 with 1 Axes>"
            ]
          },
          "metadata": {
            "needs_background": "light"
          },
          "output_type": "display_data"
        }
      ],
      "source": [
        "#Анализурем зависит ли цена от жилой площади;\n",
        "data.plot(x='living_area', y='last_price_mln', kind='scatter')\n",
        "print(data['last_price_mln'].corr(data['living_area']))"
      ]
    },
    {
      "cell_type": "markdown",
      "metadata": {
        "id": "qkGMRxTDiu8h"
      },
      "source": [
        "Есть высокая корреляция между жилой площадью квартиры и ценой. т.е. при увеличение площади растет и стоимость.\n",
        "но в данном случае корреляция чуть ниже, чем в случае с общей площадью"
      ]
    },
    {
      "cell_type": "code",
      "execution_count": null,
      "metadata": {
        "scrolled": true,
        "id": "ceRIolsHiu8h",
        "outputId": "b6e1255b-0fe2-4e2f-dc92-f4cb38de88bf"
      },
      "outputs": [
        {
          "name": "stdout",
          "output_type": "stream",
          "text": [
            "0.5942138910004637\n"
          ]
        },
        {
          "data": {
            "image/png": "[encoded data removed]",
            "text/plain": [
              "<Figure size 432x288 with 1 Axes>"
            ]
          },
          "metadata": {
            "needs_background": "light"
          },
          "output_type": "display_data"
        }
      ],
      "source": [
        "#Анализурем зависит ли цена от площади кухни;;\n",
        "data.plot(x='kitchen_area', y='last_price_mln', kind='scatter')\n",
        "print(data['last_price_mln'].corr(data['kitchen_area']))"
      ]
    },
    {
      "cell_type": "markdown",
      "metadata": {
        "id": "100SxoQciu8i"
      },
      "source": [
        "Есть корреляция между площадью кухни и ценой. т.е. при увеличение площади растет и стоимость. Но корреляция заметно ниже, чем в случае с общей площадью и жилой площадью"
      ]
    },
    {
      "cell_type": "code",
      "execution_count": null,
      "metadata": {
        "scrolled": true,
        "id": "Lkxvge_aiu8i",
        "outputId": "8e816244-eabc-42fd-859c-7c929e8b2f1f"
      },
      "outputs": [
        {
          "name": "stdout",
          "output_type": "stream",
          "text": [
            "0.472530173054364\n"
          ]
        },
        {
          "data": {
            "image/png": "[encoded data removed]",
            "text/plain": [
              "<Figure size 432x288 with 1 Axes>"
            ]
          },
          "metadata": {
            "needs_background": "light"
          },
          "output_type": "display_data"
        }
      ],
      "source": [
        "#Анализурем зависит ли цена от количества комнат;\n",
        "data.plot(x='rooms', y='last_price_mln', kind='scatter')\n",
        "print(data['last_price_mln'].corr(data['rooms']))"
      ]
    },
    {
      "cell_type": "markdown",
      "metadata": {
        "id": "oQ0xGTnliu8i"
      },
      "source": [
        "Есть невысокая корреляция между кол-ом комнат и ценой."
      ]
    },
    {
      "cell_type": "code",
      "execution_count": null,
      "metadata": {
        "scrolled": true,
        "id": "H-asC7xNiu8i",
        "outputId": "8f399312-b0ba-493d-851e-41262936d008"
      },
      "outputs": [
        {
          "data": {
            "text/plain": [
              "<AxesSubplot:xlabel='floor_type'>"
            ]
          },
          "execution_count": 51,
          "metadata": {},
          "output_type": "execute_result"
        },
        {
          "data": {
            "image/png": "[encoded data removed]",
            "text/plain": [
              "<Figure size 432x288 with 1 Axes>"
            ]
          },
          "metadata": {
            "needs_background": "light"
          },
          "output_type": "display_data"
        }
      ],
      "source": [
        "#аналищиурем корреляцию этажа, на котором расположена квартира (первый, последний, другой) и стоимости.\n",
        "data.pivot_table(index = 'floor_type', values = 'last_price_mln',aggfunc='mean').plot(ylim =(2,10))\n"
      ]
    },
    {
      "cell_type": "markdown",
      "metadata": {
        "id": "1hF0W_Weiu8i"
      },
      "source": [
        "Кваритиры на первых этажах проседают по цене в среднем. Квартиры на последнем этаже и других эатажах имееют схожую ср. цену"
      ]
    },
    {
      "cell_type": "code",
      "execution_count": null,
      "metadata": {
        "scrolled": true,
        "id": "Qpr_2E_hiu8i",
        "outputId": "969a40b1-3093-4891-9b65-c60d73518db6"
      },
      "outputs": [
        {
          "data": {
            "text/plain": [
              "<AxesSubplot:xlabel='year'>"
            ]
          },
          "execution_count": 52,
          "metadata": {},
          "output_type": "execute_result"
        },
        {
          "data": {
            "image/png": "[encoded data removed]",
            "text/plain": [
              "<Figure size 432x288 with 1 Axes>"
            ]
          },
          "metadata": {
            "needs_background": "light"
          },
          "output_type": "display_data"
        },
        {
          "data": {
            "image/png": "[encoded data removed]",
            "text/plain": [
              "<Figure size 432x288 with 1 Axes>"
            ]
          },
          "metadata": {
            "needs_background": "light"
          },
          "output_type": "display_data"
        },
        {
          "data": {
            "image/png": "[encoded data removed]",
            "text/plain": [
              "<Figure size 432x288 with 1 Axes>"
            ]
          },
          "metadata": {
            "needs_background": "light"
          },
          "output_type": "display_data"
        }
      ],
      "source": [
        "#анализируем даты размещения (день недели, месяц, год).\n",
        "data.pivot_table(index = 'day', values = 'last_price_mln').plot()\n",
        "data.pivot_table(index = 'month', values = 'last_price_mln').plot()\n",
        "data.pivot_table(index = 'year', values = 'last_price_mln').plot()"
      ]
    },
    {
      "cell_type": "markdown",
      "metadata": {
        "id": "L4Tnu094iu8i"
      },
      "source": [
        "По четвергам ставят самую высокую цену.\n",
        "Наиболее высокая цена выствляется на квартиры в январе, мае, июле , сентябре и максимальная цена в декабре.\n",
        "За последние несколько лет с 2014 по 2018 цена объектов снижалась, в 2019 цена стала восстанавливаться"
      ]
    },
    {
      "cell_type": "code",
      "execution_count": null,
      "metadata": {
        "scrolled": true,
        "id": "FOm0m2Sxiu8i",
        "outputId": "caad3be6-17e0-4812-a2c8-6f49f3a62dcf"
      },
      "outputs": [
        {
          "data": {
            "text/html": [
              "<div>\n",
              "<style scoped>\n",
              "    .dataframe tbody tr th:only-of-type {\n",
              "        vertical-align: middle;\n",
              "    }\n",
              "\n",
              "    .dataframe tbody tr th {\n",
              "        vertical-align: top;\n",
              "    }\n",
              "\n",
              "    .dataframe thead th {\n",
              "        text-align: right;\n",
              "    }\n",
              "</style>\n",
              "<table border=\"1\" class=\"dataframe\">\n",
              "  <thead>\n",
              "    <tr style=\"text-align: right;\">\n",
              "      <th></th>\n",
              "      <th>count</th>\n",
              "      <th>mean</th>\n",
              "    </tr>\n",
              "    <tr>\n",
              "      <th>locality_name</th>\n",
              "      <th></th>\n",
              "      <th></th>\n",
              "    </tr>\n",
              "  </thead>\n",
              "  <tbody>\n",
              "    <tr>\n",
              "      <th>Санкт-Петербург</th>\n",
              "      <td>14489</td>\n",
              "      <td>210436.275921</td>\n",
              "    </tr>\n",
              "    <tr>\n",
              "      <th>посёлок Мурино</th>\n",
              "      <td>491</td>\n",
              "      <td>174755.363030</td>\n",
              "    </tr>\n",
              "    <tr>\n",
              "      <th>посёлок Шушары</th>\n",
              "      <td>402</td>\n",
              "      <td>155381.178362</td>\n",
              "    </tr>\n",
              "    <tr>\n",
              "      <th>Всеволожск</th>\n",
              "      <td>371</td>\n",
              "      <td>133545.020946</td>\n",
              "    </tr>\n",
              "    <tr>\n",
              "      <th>Пушкин</th>\n",
              "      <td>345</td>\n",
              "      <td>192254.113967</td>\n",
              "    </tr>\n",
              "    <tr>\n",
              "      <th>Колпино</th>\n",
              "      <td>328</td>\n",
              "      <td>132023.061774</td>\n",
              "    </tr>\n",
              "    <tr>\n",
              "      <th>посёлок Парголово</th>\n",
              "      <td>301</td>\n",
              "      <td>200718.185634</td>\n",
              "    </tr>\n",
              "    <tr>\n",
              "      <th>Гатчина</th>\n",
              "      <td>292</td>\n",
              "      <td>121748.694097</td>\n",
              "    </tr>\n",
              "    <tr>\n",
              "      <th>деревня Кудрово</th>\n",
              "      <td>262</td>\n",
              "      <td>188187.004886</td>\n",
              "    </tr>\n",
              "    <tr>\n",
              "      <th>Петергоф</th>\n",
              "      <td>197</td>\n",
              "      <td>147747.775740</td>\n",
              "    </tr>\n",
              "  </tbody>\n",
              "</table>\n",
              "</div>"
            ],
            "text/plain": [
              "                   count           mean\n",
              "locality_name                          \n",
              "Санкт-Петербург    14489  210436.275921\n",
              "посёлок Мурино       491  174755.363030\n",
              "посёлок Шушары       402  155381.178362\n",
              "Всеволожск           371  133545.020946\n",
              "Пушкин               345  192254.113967\n",
              "Колпино              328  132023.061774\n",
              "посёлок Парголово    301  200718.185634\n",
              "Гатчина              292  121748.694097\n",
              "деревня Кудрово      262  188187.004886\n",
              "Петергоф             197  147747.775740"
            ]
          },
          "metadata": {},
          "output_type": "display_data"
        }
      ],
      "source": [
        "#Считаем среднюю цену одного квадратного метра в 10 населённых пунктах с наибольшим числом объявлений.\n",
        "locality_m2cost =data.pivot_table(index = 'locality_name', values = 'metr_cost', aggfunc = ['count','mean'])\n",
        "locality_m2cost.columns= ['count', 'mean']\n",
        "display(locality_m2cost.sort_values('count',ascending = False).head(10))"
      ]
    },
    {
      "cell_type": "markdown",
      "metadata": {
        "id": "gnLp2SbBiu8i"
      },
      "source": [
        "Наибольшее количество объявлений и самая высокая цена кв м2 в самом городе Санкт-Петербург, следующими локациями с точки коичесвта объектов идут Мурино и Шушары. по цене в топ 3 входят  Санкт-Петербург, посёлок Парголово и Пушкин."
      ]
    },
    {
      "cell_type": "code",
      "execution_count": null,
      "metadata": {
        "id": "3APCmRwUiu8j",
        "outputId": "9abfbaa8-3dd6-4ccf-db0e-faa6c9434b97"
      },
      "outputs": [
        {
          "data": {
            "text/plain": [
              "<AxesSubplot:xlabel='center_km'>"
            ]
          },
          "execution_count": 217,
          "metadata": {},
          "output_type": "execute_result"
        },
        {
          "data": {
            "image/png": "[encoded data removed]",
            "text/plain": [
              "<Figure size 432x288 with 1 Axes>"
            ]
          },
          "metadata": {
            "needs_background": "light"
          },
          "output_type": "display_data"
        }
      ],
      "source": [
        "#Выделем квартиры в Санкт-Петербурге с помощью столбца locality_name и вычислите среднюю цену каждого километра\n",
        "data.query('locality_name == \"Санкт-Петербург\"').pivot_table(\n",
        "    index = 'center_km' , values = 'metr_cost' , aggfunc = 'mean' ).plot()\n",
        "\n"
      ]
    },
    {
      "cell_type": "markdown",
      "metadata": {
        "id": "49xVHulpiu8j"
      },
      "source": [
        "### Вывод\n",
        "\n",
        "Для сервиса Яндекс Недвижимость было проведено исследование архива объявлений за несколько лет о продаже квартир в Санкт-Петербурге и соседних населённых пунктах.\n",
        "В анализе данных участвовало 23699 объявления. В процессе переработки данных было произведено частичное восстановеление данных, преобразование и добавление новых переменных.\n",
        "С помощью полученных данных удалось выявить ряд особенностей и закономерностей.\n",
        "\n",
        "\n",
        "\n",
        "# 1 наиболее частые в продаже объекты:\n",
        "\n",
        "* Наибольшее количество объектов имеют площадь 50-60 м2, таких объявлений более 8 тыс\n",
        "* Наибольшее кол-во объектов имеют жилую площадь в диапозоне 20-40 м2,\n",
        "* Для большинства объявлений средняя площадь кухни находится в диапозоне от 9 до 10 метров\n",
        "* В основном это 1 и 2 квартиры\n",
        "\n",
        "\n",
        "# 2 ценовые характеристики:\n",
        "\n",
        "* Средняя стоимость квартиры в районе Санкт-Петербурга составляет 5 млн\n",
        "* Топ 3 локации по стоимости м2 : Санкт-Петербург, посёлок Парголово и Пушкин\n",
        "* Самая низкая цена м2 (в топ10 локаций по количеству объявлений) в Гатчине\n",
        "* Квартиры на первых этажах проседают по цене в среднем. Квартиры на последнем этаже и других этажах имеют схожую ср. цену\n",
        "\n",
        "\n",
        "# 3  временные характеристики:\n",
        "\n",
        "* Наиболее высокая цена выставляется на квартиры в январе, мае, июле , сентябре и максимальная цена в декабре.\n",
        "* За последние несколько лет с 2014 по 2018 цена объектов снижалась, в 2019 цена стала восстанавливаться\n",
        "* Наиболее часто объявления публикуются по четвергам. Меньше всего по понедельникам.\n",
        "\n",
        "\n",
        "# 4 корреляция данных:\n",
        "\n",
        "* выявлена высокая корреляция между площадью квартиры и ценой. т.е. при увеличение площади растет и стоимость.\n",
        "* выявлена высокая корреляция между жилой площадью квартиры и ценой. т.е. при увеличение площади растет и стоимость.\n",
        "* количество комнат и площадь кухни обладают более низкой корреляцией с ценой недвижимости\n",
        "\n",
        "\n",
        "\n",
        "# Общий вывод:\n",
        "Объем данных является достаточным для формирования общих выводом и построения взаимосвязей, но для более глубокого анализа необходимо добавление дополнительных данных, например адрес локации, тип дома и состояние квартиры. Добавление таких данных позволило бы сгруппировать данные по новым критериям и получить более развернутый анализ."
      ]
    },
    {
      "cell_type": "markdown",
      "metadata": {
        "id": "BL-BbozCiu8j"
      },
      "source": []
    }
  ],
  "metadata": {
    "ExecuteTimeLog": [
      {
        "duration": 687,
        "start_time": "2022-10-31T17:40:25.458Z"
      },
      {
        "duration": 95,
        "start_time": "2022-10-31T17:40:34.703Z"
      },
      {
        "duration": 48,
        "start_time": "2022-10-31T17:41:50.544Z"
      },
      {
        "duration": 88,
        "start_time": "2022-10-31T17:42:37.681Z"
      },
      {
        "duration": 62,
        "start_time": "2022-10-31T17:43:03.481Z"
      },
      {
        "duration": 54,
        "start_time": "2022-10-31T17:44:02.224Z"
      },
      {
        "duration": 128,
        "start_time": "2022-10-31T17:44:06.627Z"
      },
      {
        "duration": 105,
        "start_time": "2022-10-31T17:44:28.786Z"
      },
      {
        "duration": 87,
        "start_time": "2022-10-31T17:44:58.130Z"
      },
      {
        "duration": 13,
        "start_time": "2022-10-31T17:51:43.203Z"
      },
      {
        "duration": 13,
        "start_time": "2022-10-31T17:52:35.093Z"
      },
      {
        "duration": 89,
        "start_time": "2022-10-31T17:53:03.586Z"
      },
      {
        "duration": 15,
        "start_time": "2022-10-31T17:53:05.908Z"
      },
      {
        "duration": 2416,
        "start_time": "2022-10-31T17:53:15.837Z"
      },
      {
        "duration": 97,
        "start_time": "2022-10-31T17:56:11.971Z"
      },
      {
        "duration": 17,
        "start_time": "2022-10-31T17:56:13.330Z"
      },
      {
        "duration": 14,
        "start_time": "2022-10-31T17:56:17.486Z"
      },
      {
        "duration": 12,
        "start_time": "2022-10-31T17:56:19.838Z"
      },
      {
        "duration": 13,
        "start_time": "2022-10-31T17:56:22.730Z"
      },
      {
        "duration": 14,
        "start_time": "2022-10-31T17:56:31.934Z"
      },
      {
        "duration": 26,
        "start_time": "2022-10-31T17:56:46.826Z"
      },
      {
        "duration": 25,
        "start_time": "2022-10-31T18:04:44.493Z"
      },
      {
        "duration": 72,
        "start_time": "2022-10-31T18:06:18.274Z"
      },
      {
        "duration": 11,
        "start_time": "2022-10-31T18:06:22.626Z"
      },
      {
        "duration": 74,
        "start_time": "2022-10-31T18:11:11.913Z"
      },
      {
        "duration": 4,
        "start_time": "2022-10-31T18:11:17.569Z"
      },
      {
        "duration": 15,
        "start_time": "2022-10-31T18:11:23.010Z"
      },
      {
        "duration": 475,
        "start_time": "2022-10-31T18:11:47.279Z"
      },
      {
        "duration": 33,
        "start_time": "2022-10-31T18:11:47.757Z"
      },
      {
        "duration": 18,
        "start_time": "2022-10-31T18:11:47.792Z"
      },
      {
        "duration": 2297,
        "start_time": "2022-10-31T18:11:47.812Z"
      },
      {
        "duration": 11,
        "start_time": "2022-10-31T18:11:50.110Z"
      },
      {
        "duration": 3,
        "start_time": "2022-10-31T18:11:50.123Z"
      },
      {
        "duration": 4,
        "start_time": "2022-10-31T18:12:00.158Z"
      },
      {
        "duration": 12,
        "start_time": "2022-10-31T18:12:02.655Z"
      },
      {
        "duration": 18,
        "start_time": "2022-10-31T18:12:12.625Z"
      },
      {
        "duration": 4,
        "start_time": "2022-10-31T18:13:02.424Z"
      },
      {
        "duration": 4,
        "start_time": "2022-10-31T18:13:07.665Z"
      },
      {
        "duration": 4,
        "start_time": "2022-10-31T18:13:09.567Z"
      },
      {
        "duration": 34,
        "start_time": "2022-10-31T18:19:54.327Z"
      },
      {
        "duration": 2311,
        "start_time": "2022-10-31T18:23:01.444Z"
      },
      {
        "duration": 6,
        "start_time": "2022-10-31T18:25:33.934Z"
      },
      {
        "duration": 463,
        "start_time": "2022-11-01T05:42:30.090Z"
      },
      {
        "duration": 38,
        "start_time": "2022-11-01T05:42:30.555Z"
      },
      {
        "duration": 23,
        "start_time": "2022-11-01T05:42:30.594Z"
      },
      {
        "duration": 2382,
        "start_time": "2022-11-01T05:42:30.619Z"
      },
      {
        "duration": 9,
        "start_time": "2022-11-01T05:42:33.003Z"
      },
      {
        "duration": 4,
        "start_time": "2022-11-01T05:42:33.014Z"
      },
      {
        "duration": 8,
        "start_time": "2022-11-01T05:42:33.019Z"
      },
      {
        "duration": 32,
        "start_time": "2022-11-01T05:42:37.286Z"
      },
      {
        "duration": 8,
        "start_time": "2022-11-01T05:44:54.405Z"
      },
      {
        "duration": 144,
        "start_time": "2022-11-01T05:45:19.142Z"
      },
      {
        "duration": 127,
        "start_time": "2022-11-01T05:45:36.921Z"
      },
      {
        "duration": 126,
        "start_time": "2022-11-01T05:45:43.301Z"
      },
      {
        "duration": 123,
        "start_time": "2022-11-01T05:45:52.817Z"
      },
      {
        "duration": 73,
        "start_time": "2022-11-01T05:46:53.204Z"
      },
      {
        "duration": 11,
        "start_time": "2022-11-01T05:47:05.292Z"
      },
      {
        "duration": 5,
        "start_time": "2022-11-01T05:49:03.828Z"
      },
      {
        "duration": 8,
        "start_time": "2022-11-01T05:49:19.948Z"
      },
      {
        "duration": 6,
        "start_time": "2022-11-01T05:50:50.083Z"
      },
      {
        "duration": 5,
        "start_time": "2022-11-01T05:55:36.289Z"
      },
      {
        "duration": 8,
        "start_time": "2022-11-01T05:59:13.512Z"
      },
      {
        "duration": 71,
        "start_time": "2022-11-01T05:59:39.944Z"
      },
      {
        "duration": 8,
        "start_time": "2022-11-01T05:59:48.403Z"
      },
      {
        "duration": 8,
        "start_time": "2022-11-01T05:59:59.060Z"
      },
      {
        "duration": 10,
        "start_time": "2022-11-01T06:00:17.496Z"
      },
      {
        "duration": 62,
        "start_time": "2022-11-01T06:00:24.549Z"
      },
      {
        "duration": 739,
        "start_time": "2022-11-01T06:00:58.669Z"
      },
      {
        "duration": 34,
        "start_time": "2022-11-01T06:00:59.410Z"
      },
      {
        "duration": 14,
        "start_time": "2022-11-01T06:00:59.445Z"
      },
      {
        "duration": 2405,
        "start_time": "2022-11-01T06:00:59.460Z"
      },
      {
        "duration": 9,
        "start_time": "2022-11-01T06:01:01.867Z"
      },
      {
        "duration": 11,
        "start_time": "2022-11-01T06:01:01.878Z"
      },
      {
        "duration": 7,
        "start_time": "2022-11-01T06:01:46.622Z"
      },
      {
        "duration": 10,
        "start_time": "2022-11-01T06:01:50.279Z"
      },
      {
        "duration": 4,
        "start_time": "2022-11-01T06:01:59.773Z"
      },
      {
        "duration": 4,
        "start_time": "2022-11-01T06:02:28.825Z"
      },
      {
        "duration": 11,
        "start_time": "2022-11-01T06:02:30.314Z"
      },
      {
        "duration": 4,
        "start_time": "2022-11-01T06:06:18.920Z"
      },
      {
        "duration": 6,
        "start_time": "2022-11-01T06:14:11.352Z"
      },
      {
        "duration": 11,
        "start_time": "2022-11-01T06:14:14.641Z"
      },
      {
        "duration": 9,
        "start_time": "2022-11-01T06:14:45.883Z"
      },
      {
        "duration": 9,
        "start_time": "2022-11-01T06:14:56.105Z"
      },
      {
        "duration": 4,
        "start_time": "2022-11-01T06:15:14.276Z"
      },
      {
        "duration": 3,
        "start_time": "2022-11-01T06:18:42.256Z"
      },
      {
        "duration": 6,
        "start_time": "2022-11-01T06:18:51.063Z"
      },
      {
        "duration": 50,
        "start_time": "2022-11-01T06:20:20.383Z"
      },
      {
        "duration": 78,
        "start_time": "2022-11-01T06:20:48.120Z"
      },
      {
        "duration": 47,
        "start_time": "2022-11-01T06:21:06.008Z"
      },
      {
        "duration": 17,
        "start_time": "2022-11-01T06:22:53.503Z"
      },
      {
        "duration": 42,
        "start_time": "2022-11-01T06:23:25.221Z"
      },
      {
        "duration": 45,
        "start_time": "2022-11-01T06:23:36.206Z"
      },
      {
        "duration": 46,
        "start_time": "2022-11-01T06:24:00.085Z"
      },
      {
        "duration": 47,
        "start_time": "2022-11-01T06:25:29.446Z"
      },
      {
        "duration": 13,
        "start_time": "2022-11-01T06:25:48.332Z"
      },
      {
        "duration": 44,
        "start_time": "2022-11-01T06:26:21.937Z"
      },
      {
        "duration": 47,
        "start_time": "2022-11-01T06:26:35.269Z"
      },
      {
        "duration": 15,
        "start_time": "2022-11-01T06:26:55.342Z"
      },
      {
        "duration": 6,
        "start_time": "2022-11-01T06:27:16.022Z"
      },
      {
        "duration": 9,
        "start_time": "2022-11-01T06:27:25.380Z"
      },
      {
        "duration": 5,
        "start_time": "2022-11-01T06:27:29.374Z"
      },
      {
        "duration": 9,
        "start_time": "2022-11-01T06:27:44.153Z"
      },
      {
        "duration": 5,
        "start_time": "2022-11-01T06:27:49.412Z"
      },
      {
        "duration": 5,
        "start_time": "2022-11-01T06:28:04.087Z"
      },
      {
        "duration": 2051,
        "start_time": "2022-11-01T06:31:01.822Z"
      },
      {
        "duration": 6,
        "start_time": "2022-11-01T06:32:45.438Z"
      },
      {
        "duration": 38,
        "start_time": "2022-11-01T06:33:06.249Z"
      },
      {
        "duration": 32,
        "start_time": "2022-11-01T06:34:03.804Z"
      },
      {
        "duration": 10,
        "start_time": "2022-11-01T06:34:41.783Z"
      },
      {
        "duration": 9,
        "start_time": "2022-11-01T06:34:55.942Z"
      },
      {
        "duration": 10,
        "start_time": "2022-11-01T06:34:57.805Z"
      },
      {
        "duration": 7,
        "start_time": "2022-11-01T06:35:15.928Z"
      },
      {
        "duration": 7,
        "start_time": "2022-11-01T06:35:34.333Z"
      },
      {
        "duration": 6,
        "start_time": "2022-11-01T06:35:36.445Z"
      },
      {
        "duration": 7,
        "start_time": "2022-11-01T06:35:41.780Z"
      },
      {
        "duration": 9,
        "start_time": "2022-11-01T06:35:44.902Z"
      },
      {
        "duration": 95,
        "start_time": "2022-11-01T06:35:48.982Z"
      },
      {
        "duration": 91,
        "start_time": "2022-11-01T06:35:54.119Z"
      },
      {
        "duration": 44,
        "start_time": "2022-11-01T06:35:54.213Z"
      },
      {
        "duration": 17,
        "start_time": "2022-11-01T06:35:54.259Z"
      },
      {
        "duration": 2196,
        "start_time": "2022-11-01T06:35:54.278Z"
      },
      {
        "duration": 10,
        "start_time": "2022-11-01T06:35:56.476Z"
      },
      {
        "duration": 6,
        "start_time": "2022-11-01T06:35:56.488Z"
      },
      {
        "duration": 23,
        "start_time": "2022-11-01T06:35:56.496Z"
      },
      {
        "duration": 8,
        "start_time": "2022-11-01T06:35:56.521Z"
      },
      {
        "duration": 44,
        "start_time": "2022-11-01T06:35:56.531Z"
      },
      {
        "duration": 9,
        "start_time": "2022-11-01T06:36:12.996Z"
      },
      {
        "duration": 39,
        "start_time": "2022-11-01T06:36:19.086Z"
      },
      {
        "duration": 3,
        "start_time": "2022-11-01T06:40:23.988Z"
      },
      {
        "duration": 14,
        "start_time": "2022-11-01T06:41:35.624Z"
      },
      {
        "duration": 2,
        "start_time": "2022-11-01T06:43:43.597Z"
      },
      {
        "duration": 8,
        "start_time": "2022-11-01T06:46:07.548Z"
      },
      {
        "duration": 6,
        "start_time": "2022-11-01T06:48:07.938Z"
      },
      {
        "duration": 8,
        "start_time": "2022-11-01T06:48:12.932Z"
      },
      {
        "duration": 8,
        "start_time": "2022-11-01T06:48:22.812Z"
      },
      {
        "duration": 9,
        "start_time": "2022-11-01T06:48:27.953Z"
      },
      {
        "duration": 8,
        "start_time": "2022-11-01T06:49:07.288Z"
      },
      {
        "duration": 6,
        "start_time": "2022-11-01T06:49:10.777Z"
      },
      {
        "duration": 534,
        "start_time": "2022-11-01T06:50:54.061Z"
      },
      {
        "duration": 8,
        "start_time": "2022-11-01T06:51:14.689Z"
      },
      {
        "duration": 50,
        "start_time": "2022-11-01T06:59:21.770Z"
      },
      {
        "duration": 17,
        "start_time": "2022-11-01T06:59:26.455Z"
      },
      {
        "duration": 6,
        "start_time": "2022-11-01T06:59:45.136Z"
      },
      {
        "duration": 92,
        "start_time": "2022-11-01T06:59:52.070Z"
      },
      {
        "duration": 92,
        "start_time": "2022-11-01T06:59:54.535Z"
      },
      {
        "duration": 34,
        "start_time": "2022-11-01T06:59:54.629Z"
      },
      {
        "duration": 24,
        "start_time": "2022-11-01T06:59:54.665Z"
      },
      {
        "duration": 2398,
        "start_time": "2022-11-01T06:59:54.691Z"
      },
      {
        "duration": 11,
        "start_time": "2022-11-01T06:59:57.092Z"
      },
      {
        "duration": 4,
        "start_time": "2022-11-01T06:59:57.104Z"
      },
      {
        "duration": 22,
        "start_time": "2022-11-01T06:59:57.110Z"
      },
      {
        "duration": 20,
        "start_time": "2022-11-01T06:59:57.134Z"
      },
      {
        "duration": 3,
        "start_time": "2022-11-01T06:59:57.156Z"
      },
      {
        "duration": 17,
        "start_time": "2022-11-01T06:59:57.160Z"
      },
      {
        "duration": 6,
        "start_time": "2022-11-01T06:59:59.015Z"
      },
      {
        "duration": 97,
        "start_time": "2022-11-01T07:00:10.527Z"
      },
      {
        "duration": 37,
        "start_time": "2022-11-01T07:00:10.626Z"
      },
      {
        "duration": 18,
        "start_time": "2022-11-01T07:00:10.665Z"
      },
      {
        "duration": 2703,
        "start_time": "2022-11-01T07:00:10.684Z"
      },
      {
        "duration": 15,
        "start_time": "2022-11-01T07:00:13.390Z"
      },
      {
        "duration": 24,
        "start_time": "2022-11-01T07:00:13.407Z"
      },
      {
        "duration": 15,
        "start_time": "2022-11-01T07:00:13.433Z"
      },
      {
        "duration": 13,
        "start_time": "2022-11-01T07:00:13.450Z"
      },
      {
        "duration": 3,
        "start_time": "2022-11-01T07:00:13.465Z"
      },
      {
        "duration": 19,
        "start_time": "2022-11-01T07:00:13.470Z"
      },
      {
        "duration": 7,
        "start_time": "2022-11-01T07:00:24.499Z"
      },
      {
        "duration": 14,
        "start_time": "2022-11-01T07:00:37.368Z"
      },
      {
        "duration": 6,
        "start_time": "2022-11-01T07:01:26.366Z"
      },
      {
        "duration": 14,
        "start_time": "2022-11-01T07:01:39.675Z"
      },
      {
        "duration": 34,
        "start_time": "2022-11-01T07:01:47.647Z"
      },
      {
        "duration": 13,
        "start_time": "2022-11-01T07:03:25.859Z"
      },
      {
        "duration": 479,
        "start_time": "2022-11-01T07:09:53.615Z"
      },
      {
        "duration": 38,
        "start_time": "2022-11-01T07:09:54.096Z"
      },
      {
        "duration": 21,
        "start_time": "2022-11-01T07:09:54.135Z"
      },
      {
        "duration": 2466,
        "start_time": "2022-11-01T07:09:54.158Z"
      },
      {
        "duration": 10,
        "start_time": "2022-11-01T07:09:56.627Z"
      },
      {
        "duration": 3,
        "start_time": "2022-11-01T07:09:56.639Z"
      },
      {
        "duration": 12,
        "start_time": "2022-11-01T07:09:56.644Z"
      },
      {
        "duration": 17,
        "start_time": "2022-11-01T07:09:56.658Z"
      },
      {
        "duration": 19,
        "start_time": "2022-11-01T07:09:56.676Z"
      },
      {
        "duration": 15,
        "start_time": "2022-11-01T07:09:56.696Z"
      },
      {
        "duration": 22,
        "start_time": "2022-11-01T07:09:56.713Z"
      },
      {
        "duration": 13,
        "start_time": "2022-11-01T11:27:11.577Z"
      },
      {
        "duration": 5,
        "start_time": "2022-11-01T11:28:04.688Z"
      },
      {
        "duration": 7,
        "start_time": "2022-11-01T11:29:52.064Z"
      },
      {
        "duration": 7,
        "start_time": "2022-11-01T11:30:30.761Z"
      },
      {
        "duration": 36,
        "start_time": "2022-11-01T11:30:51.762Z"
      },
      {
        "duration": 21,
        "start_time": "2022-11-01T11:30:57.553Z"
      },
      {
        "duration": 8,
        "start_time": "2022-11-01T11:31:49.753Z"
      },
      {
        "duration": 7,
        "start_time": "2022-11-01T12:18:30.735Z"
      },
      {
        "duration": 7,
        "start_time": "2022-11-01T12:24:36.759Z"
      },
      {
        "duration": 7,
        "start_time": "2022-11-01T12:24:38.684Z"
      },
      {
        "duration": 2,
        "start_time": "2022-11-01T12:24:50.022Z"
      },
      {
        "duration": 4,
        "start_time": "2022-11-01T12:28:08.777Z"
      },
      {
        "duration": 90,
        "start_time": "2022-11-01T12:28:14.629Z"
      },
      {
        "duration": 10,
        "start_time": "2022-11-01T12:28:34.833Z"
      },
      {
        "duration": 5,
        "start_time": "2022-11-01T12:32:59.041Z"
      },
      {
        "duration": 8,
        "start_time": "2022-11-01T12:33:06.435Z"
      },
      {
        "duration": 8,
        "start_time": "2022-11-01T12:44:03.639Z"
      },
      {
        "duration": 8,
        "start_time": "2022-11-01T12:44:06.374Z"
      },
      {
        "duration": 605,
        "start_time": "2022-11-01T12:44:21.309Z"
      },
      {
        "duration": 46,
        "start_time": "2022-11-01T12:44:21.916Z"
      },
      {
        "duration": 16,
        "start_time": "2022-11-01T12:44:21.964Z"
      },
      {
        "duration": 2394,
        "start_time": "2022-11-01T12:44:21.983Z"
      },
      {
        "duration": 11,
        "start_time": "2022-11-01T12:44:24.378Z"
      },
      {
        "duration": 11,
        "start_time": "2022-11-01T12:44:24.390Z"
      },
      {
        "duration": 9,
        "start_time": "2022-11-01T12:44:24.402Z"
      },
      {
        "duration": 22,
        "start_time": "2022-11-01T12:44:24.413Z"
      },
      {
        "duration": 15,
        "start_time": "2022-11-01T12:44:24.436Z"
      },
      {
        "duration": 11,
        "start_time": "2022-11-01T12:44:24.453Z"
      },
      {
        "duration": 12,
        "start_time": "2022-11-01T12:44:24.466Z"
      },
      {
        "duration": 9,
        "start_time": "2022-11-01T12:44:24.480Z"
      },
      {
        "duration": 13,
        "start_time": "2022-11-01T12:54:52.208Z"
      },
      {
        "duration": 71,
        "start_time": "2022-11-01T12:55:58.001Z"
      },
      {
        "duration": 9,
        "start_time": "2022-11-01T12:56:06.112Z"
      },
      {
        "duration": 21,
        "start_time": "2022-11-01T12:56:28.670Z"
      },
      {
        "duration": 11,
        "start_time": "2022-11-01T17:17:20.162Z"
      },
      {
        "duration": 9,
        "start_time": "2022-11-01T17:18:05.220Z"
      },
      {
        "duration": 143,
        "start_time": "2022-11-01T17:18:41.799Z"
      },
      {
        "duration": 76,
        "start_time": "2022-11-01T17:18:52.297Z"
      },
      {
        "duration": 74,
        "start_time": "2022-11-01T17:19:08.489Z"
      },
      {
        "duration": 73,
        "start_time": "2022-11-01T17:20:31.169Z"
      },
      {
        "duration": 99,
        "start_time": "2022-11-01T17:20:51.629Z"
      },
      {
        "duration": 89,
        "start_time": "2022-11-01T17:21:20.776Z"
      },
      {
        "duration": 99,
        "start_time": "2022-11-01T17:22:01.408Z"
      },
      {
        "duration": 18,
        "start_time": "2022-11-01T17:23:14.490Z"
      },
      {
        "duration": 96,
        "start_time": "2022-11-01T17:23:23.298Z"
      },
      {
        "duration": 21,
        "start_time": "2022-11-01T17:25:15.760Z"
      },
      {
        "duration": 459,
        "start_time": "2022-11-01T17:25:21.998Z"
      },
      {
        "duration": 36,
        "start_time": "2022-11-01T17:25:22.459Z"
      },
      {
        "duration": 15,
        "start_time": "2022-11-01T17:25:22.496Z"
      },
      {
        "duration": 2375,
        "start_time": "2022-11-01T17:25:22.513Z"
      },
      {
        "duration": 10,
        "start_time": "2022-11-01T17:25:24.890Z"
      },
      {
        "duration": 3,
        "start_time": "2022-11-01T17:25:24.902Z"
      },
      {
        "duration": 7,
        "start_time": "2022-11-01T17:25:24.906Z"
      },
      {
        "duration": 21,
        "start_time": "2022-11-01T17:25:24.915Z"
      },
      {
        "duration": 44,
        "start_time": "2022-11-01T17:25:24.938Z"
      },
      {
        "duration": 0,
        "start_time": "2022-11-01T17:25:24.984Z"
      },
      {
        "duration": 0,
        "start_time": "2022-11-01T17:25:24.986Z"
      },
      {
        "duration": 0,
        "start_time": "2022-11-01T17:25:24.987Z"
      },
      {
        "duration": 0,
        "start_time": "2022-11-01T17:25:24.988Z"
      },
      {
        "duration": 5,
        "start_time": "2022-11-01T17:25:31.686Z"
      },
      {
        "duration": 5,
        "start_time": "2022-11-01T17:25:34.519Z"
      },
      {
        "duration": 3,
        "start_time": "2022-11-01T17:25:37.354Z"
      },
      {
        "duration": 96,
        "start_time": "2022-11-01T17:25:43.060Z"
      },
      {
        "duration": 30,
        "start_time": "2022-11-01T17:25:43.158Z"
      },
      {
        "duration": 23,
        "start_time": "2022-11-01T17:25:43.189Z"
      },
      {
        "duration": 2285,
        "start_time": "2022-11-01T17:25:43.214Z"
      },
      {
        "duration": 11,
        "start_time": "2022-11-01T17:25:45.502Z"
      },
      {
        "duration": 13,
        "start_time": "2022-11-01T17:25:45.515Z"
      },
      {
        "duration": 95,
        "start_time": "2022-11-01T17:26:26.420Z"
      },
      {
        "duration": 90,
        "start_time": "2022-11-01T17:26:49.204Z"
      },
      {
        "duration": 55,
        "start_time": "2022-11-01T17:33:10.922Z"
      },
      {
        "duration": 60,
        "start_time": "2022-11-01T17:36:32.110Z"
      },
      {
        "duration": 1358,
        "start_time": "2022-11-01T17:36:38.972Z"
      },
      {
        "duration": 70,
        "start_time": "2022-11-01T17:37:52.473Z"
      },
      {
        "duration": 1235,
        "start_time": "2022-11-01T17:38:02.393Z"
      },
      {
        "duration": 60,
        "start_time": "2022-11-01T17:38:49.945Z"
      },
      {
        "duration": 51,
        "start_time": "2022-11-01T17:39:42.706Z"
      },
      {
        "duration": 4,
        "start_time": "2022-11-01T17:45:10.271Z"
      },
      {
        "duration": 1440,
        "start_time": "2022-11-01T17:45:21.549Z"
      },
      {
        "duration": 7,
        "start_time": "2022-11-01T17:45:51.582Z"
      },
      {
        "duration": 45,
        "start_time": "2022-11-01T17:46:21.709Z"
      },
      {
        "duration": 11,
        "start_time": "2022-11-01T17:46:52.541Z"
      },
      {
        "duration": 7,
        "start_time": "2022-11-01T17:47:03.287Z"
      },
      {
        "duration": 9,
        "start_time": "2022-11-01T17:47:11.782Z"
      },
      {
        "duration": 16,
        "start_time": "2022-11-01T17:47:33.394Z"
      },
      {
        "duration": 205,
        "start_time": "2022-11-01T17:47:42.693Z"
      },
      {
        "duration": 6,
        "start_time": "2022-11-01T17:55:01.036Z"
      },
      {
        "duration": 6,
        "start_time": "2022-11-01T17:55:12.988Z"
      },
      {
        "duration": 80,
        "start_time": "2022-11-01T17:55:32.356Z"
      },
      {
        "duration": 6,
        "start_time": "2022-11-01T17:55:36.501Z"
      },
      {
        "duration": 5,
        "start_time": "2022-11-01T17:55:43.118Z"
      },
      {
        "duration": 6,
        "start_time": "2022-11-01T17:55:46.027Z"
      },
      {
        "duration": 8,
        "start_time": "2022-11-01T17:56:20.301Z"
      },
      {
        "duration": 8,
        "start_time": "2022-11-01T17:56:23.364Z"
      },
      {
        "duration": 8,
        "start_time": "2022-11-01T17:56:39.536Z"
      },
      {
        "duration": 10,
        "start_time": "2022-11-01T17:56:41.651Z"
      },
      {
        "duration": 5,
        "start_time": "2022-11-01T17:58:53.006Z"
      },
      {
        "duration": 9,
        "start_time": "2022-11-01T17:58:54.738Z"
      },
      {
        "duration": 22,
        "start_time": "2022-11-01T18:02:54.384Z"
      },
      {
        "duration": 7,
        "start_time": "2022-11-01T18:03:26.384Z"
      },
      {
        "duration": 47,
        "start_time": "2022-11-01T18:03:44.868Z"
      },
      {
        "duration": 6,
        "start_time": "2022-11-01T18:04:02.114Z"
      },
      {
        "duration": 6,
        "start_time": "2022-11-01T18:04:07.642Z"
      },
      {
        "duration": 8,
        "start_time": "2022-11-01T18:04:11.121Z"
      },
      {
        "duration": 9,
        "start_time": "2022-11-01T18:04:39.298Z"
      },
      {
        "duration": 7,
        "start_time": "2022-11-01T18:04:57.553Z"
      },
      {
        "duration": 4,
        "start_time": "2022-11-01T18:05:25.461Z"
      },
      {
        "duration": 4,
        "start_time": "2022-11-01T18:05:42.944Z"
      },
      {
        "duration": 7,
        "start_time": "2022-11-01T18:05:46.290Z"
      },
      {
        "duration": 4,
        "start_time": "2022-11-01T18:05:53.610Z"
      },
      {
        "duration": 4,
        "start_time": "2022-11-01T18:05:54.816Z"
      },
      {
        "duration": 501,
        "start_time": "2022-11-01T18:06:03.239Z"
      },
      {
        "duration": 37,
        "start_time": "2022-11-01T18:06:03.742Z"
      },
      {
        "duration": 14,
        "start_time": "2022-11-01T18:06:03.781Z"
      },
      {
        "duration": 2400,
        "start_time": "2022-11-01T18:06:03.797Z"
      },
      {
        "duration": 9,
        "start_time": "2022-11-01T18:06:06.199Z"
      },
      {
        "duration": 6,
        "start_time": "2022-11-01T18:06:06.209Z"
      },
      {
        "duration": 7,
        "start_time": "2022-11-01T18:06:06.217Z"
      },
      {
        "duration": 18,
        "start_time": "2022-11-01T18:06:06.225Z"
      },
      {
        "duration": 101,
        "start_time": "2022-11-01T18:06:06.245Z"
      },
      {
        "duration": 7,
        "start_time": "2022-11-01T18:06:06.348Z"
      },
      {
        "duration": 6,
        "start_time": "2022-11-01T18:06:06.357Z"
      },
      {
        "duration": 17,
        "start_time": "2022-11-01T18:06:06.364Z"
      },
      {
        "duration": 5,
        "start_time": "2022-11-01T18:06:06.383Z"
      },
      {
        "duration": 7,
        "start_time": "2022-11-01T18:06:06.390Z"
      },
      {
        "duration": 11,
        "start_time": "2022-11-01T18:06:06.398Z"
      },
      {
        "duration": 9,
        "start_time": "2022-11-01T18:06:06.410Z"
      },
      {
        "duration": 98,
        "start_time": "2022-11-01T18:06:14.651Z"
      },
      {
        "duration": 30,
        "start_time": "2022-11-01T18:06:14.750Z"
      },
      {
        "duration": 14,
        "start_time": "2022-11-01T18:06:14.781Z"
      },
      {
        "duration": 2112,
        "start_time": "2022-11-01T18:06:14.797Z"
      },
      {
        "duration": 9,
        "start_time": "2022-11-01T18:06:16.911Z"
      },
      {
        "duration": 5,
        "start_time": "2022-11-01T18:06:16.922Z"
      },
      {
        "duration": 10,
        "start_time": "2022-11-01T18:06:16.928Z"
      },
      {
        "duration": 17,
        "start_time": "2022-11-01T18:06:16.954Z"
      },
      {
        "duration": 94,
        "start_time": "2022-11-01T18:06:16.972Z"
      },
      {
        "duration": 6,
        "start_time": "2022-11-01T18:06:17.067Z"
      },
      {
        "duration": 23,
        "start_time": "2022-11-01T18:06:17.074Z"
      },
      {
        "duration": 9,
        "start_time": "2022-11-01T18:06:31.298Z"
      },
      {
        "duration": 8,
        "start_time": "2022-11-01T18:06:40.008Z"
      },
      {
        "duration": 77,
        "start_time": "2022-11-01T18:08:58.926Z"
      },
      {
        "duration": 8,
        "start_time": "2022-11-01T18:09:14.191Z"
      },
      {
        "duration": 7,
        "start_time": "2022-11-01T18:09:37.009Z"
      },
      {
        "duration": 12,
        "start_time": "2022-11-01T18:10:06.551Z"
      },
      {
        "duration": 98,
        "start_time": "2022-11-01T18:11:28.145Z"
      },
      {
        "duration": 36,
        "start_time": "2022-11-01T18:11:28.246Z"
      },
      {
        "duration": 40,
        "start_time": "2022-11-01T18:11:28.284Z"
      },
      {
        "duration": 2355,
        "start_time": "2022-11-01T18:11:28.327Z"
      },
      {
        "duration": 11,
        "start_time": "2022-11-01T18:11:30.685Z"
      },
      {
        "duration": 17,
        "start_time": "2022-11-01T18:11:30.698Z"
      },
      {
        "duration": 33,
        "start_time": "2022-11-01T18:11:30.716Z"
      },
      {
        "duration": 50,
        "start_time": "2022-11-01T18:11:30.751Z"
      },
      {
        "duration": 105,
        "start_time": "2022-11-01T18:11:30.803Z"
      },
      {
        "duration": 6,
        "start_time": "2022-11-01T18:11:30.911Z"
      },
      {
        "duration": 30,
        "start_time": "2022-11-01T18:11:30.919Z"
      },
      {
        "duration": 5,
        "start_time": "2022-11-01T18:11:36.161Z"
      },
      {
        "duration": 8,
        "start_time": "2022-11-01T18:11:40.310Z"
      },
      {
        "duration": 11,
        "start_time": "2022-11-01T18:11:43.086Z"
      },
      {
        "duration": 13,
        "start_time": "2022-11-01T18:12:18.411Z"
      },
      {
        "duration": 12,
        "start_time": "2022-11-01T18:12:24.189Z"
      },
      {
        "duration": 10,
        "start_time": "2022-11-01T18:12:50.290Z"
      },
      {
        "duration": 17,
        "start_time": "2022-11-01T18:12:56.727Z"
      },
      {
        "duration": 18,
        "start_time": "2022-11-01T18:13:12.202Z"
      },
      {
        "duration": 24,
        "start_time": "2022-11-01T18:13:14.656Z"
      },
      {
        "duration": 16,
        "start_time": "2022-11-01T18:13:16.511Z"
      },
      {
        "duration": 12,
        "start_time": "2022-11-01T18:13:31.305Z"
      },
      {
        "duration": 9,
        "start_time": "2022-11-01T18:13:40.278Z"
      },
      {
        "duration": 5,
        "start_time": "2022-11-01T18:16:08.650Z"
      },
      {
        "duration": 7,
        "start_time": "2022-11-01T18:16:43.233Z"
      },
      {
        "duration": 89,
        "start_time": "2022-11-01T18:16:48.564Z"
      },
      {
        "duration": 34,
        "start_time": "2022-11-01T18:16:48.656Z"
      },
      {
        "duration": 27,
        "start_time": "2022-11-01T18:16:48.692Z"
      },
      {
        "duration": 2335,
        "start_time": "2022-11-01T18:16:48.721Z"
      },
      {
        "duration": 11,
        "start_time": "2022-11-01T18:16:51.059Z"
      },
      {
        "duration": 4,
        "start_time": "2022-11-01T18:16:51.072Z"
      },
      {
        "duration": 7,
        "start_time": "2022-11-01T18:16:51.078Z"
      },
      {
        "duration": 25,
        "start_time": "2022-11-01T18:16:51.086Z"
      },
      {
        "duration": 106,
        "start_time": "2022-11-01T18:16:51.113Z"
      },
      {
        "duration": 6,
        "start_time": "2022-11-01T18:16:51.220Z"
      },
      {
        "duration": 6,
        "start_time": "2022-11-01T18:16:54.856Z"
      },
      {
        "duration": 11,
        "start_time": "2022-11-01T18:19:27.627Z"
      },
      {
        "duration": 10,
        "start_time": "2022-11-01T18:19:33.533Z"
      },
      {
        "duration": 11,
        "start_time": "2022-11-01T18:19:44.007Z"
      },
      {
        "duration": 10,
        "start_time": "2022-11-01T18:19:50.420Z"
      },
      {
        "duration": 5,
        "start_time": "2022-11-01T18:19:55.415Z"
      },
      {
        "duration": 11,
        "start_time": "2022-11-01T18:19:57.490Z"
      },
      {
        "duration": 10,
        "start_time": "2022-11-01T18:20:07.855Z"
      },
      {
        "duration": 472,
        "start_time": "2022-11-01T18:20:18.384Z"
      },
      {
        "duration": 40,
        "start_time": "2022-11-01T18:20:18.858Z"
      },
      {
        "duration": 15,
        "start_time": "2022-11-01T18:20:18.900Z"
      },
      {
        "duration": 2424,
        "start_time": "2022-11-01T18:20:18.917Z"
      },
      {
        "duration": 10,
        "start_time": "2022-11-01T18:20:21.344Z"
      },
      {
        "duration": 16,
        "start_time": "2022-11-01T18:20:21.356Z"
      },
      {
        "duration": 11,
        "start_time": "2022-11-01T18:20:21.374Z"
      },
      {
        "duration": 22,
        "start_time": "2022-11-01T18:20:21.387Z"
      },
      {
        "duration": 114,
        "start_time": "2022-11-01T18:20:21.411Z"
      },
      {
        "duration": 10,
        "start_time": "2022-11-01T18:20:21.527Z"
      },
      {
        "duration": 22,
        "start_time": "2022-11-01T18:20:21.539Z"
      },
      {
        "duration": 23,
        "start_time": "2022-11-01T18:20:21.563Z"
      },
      {
        "duration": 13,
        "start_time": "2022-11-01T18:20:21.588Z"
      },
      {
        "duration": 15,
        "start_time": "2022-11-01T18:20:21.604Z"
      },
      {
        "duration": 22,
        "start_time": "2022-11-01T18:20:21.621Z"
      },
      {
        "duration": 14,
        "start_time": "2022-11-01T18:20:21.645Z"
      },
      {
        "duration": 99,
        "start_time": "2022-11-01T18:20:44.802Z"
      },
      {
        "duration": 36,
        "start_time": "2022-11-01T18:20:44.902Z"
      },
      {
        "duration": 36,
        "start_time": "2022-11-01T18:20:44.939Z"
      },
      {
        "duration": 2264,
        "start_time": "2022-11-01T18:20:44.978Z"
      },
      {
        "duration": 19,
        "start_time": "2022-11-01T18:20:47.244Z"
      },
      {
        "duration": 6,
        "start_time": "2022-11-01T18:20:47.265Z"
      },
      {
        "duration": 11,
        "start_time": "2022-11-01T18:20:47.273Z"
      },
      {
        "duration": 31,
        "start_time": "2022-11-01T18:20:47.286Z"
      },
      {
        "duration": 99,
        "start_time": "2022-11-01T18:20:47.320Z"
      },
      {
        "duration": 6,
        "start_time": "2022-11-01T18:20:47.422Z"
      },
      {
        "duration": 12,
        "start_time": "2022-11-01T18:20:47.430Z"
      },
      {
        "duration": 10,
        "start_time": "2022-11-01T18:20:47.453Z"
      },
      {
        "duration": 10,
        "start_time": "2022-11-01T18:20:47.465Z"
      },
      {
        "duration": 2,
        "start_time": "2022-11-01T18:20:47.476Z"
      },
      {
        "duration": 10,
        "start_time": "2022-11-01T18:20:47.480Z"
      },
      {
        "duration": 11,
        "start_time": "2022-11-01T18:20:47.491Z"
      },
      {
        "duration": 12,
        "start_time": "2022-11-01T18:21:07.374Z"
      },
      {
        "duration": 12,
        "start_time": "2022-11-01T18:21:24.741Z"
      },
      {
        "duration": 13,
        "start_time": "2022-11-01T18:21:38.109Z"
      },
      {
        "duration": 4,
        "start_time": "2022-11-01T18:21:48.126Z"
      },
      {
        "duration": 14,
        "start_time": "2022-11-01T18:21:49.414Z"
      },
      {
        "duration": 12,
        "start_time": "2022-11-01T18:21:51.517Z"
      },
      {
        "duration": 484,
        "start_time": "2022-11-01T18:21:58.866Z"
      },
      {
        "duration": 38,
        "start_time": "2022-11-01T18:21:59.352Z"
      },
      {
        "duration": 22,
        "start_time": "2022-11-01T18:21:59.392Z"
      },
      {
        "duration": 2497,
        "start_time": "2022-11-01T18:21:59.416Z"
      },
      {
        "duration": 10,
        "start_time": "2022-11-01T18:22:01.915Z"
      },
      {
        "duration": 20,
        "start_time": "2022-11-01T18:22:01.926Z"
      },
      {
        "duration": 27,
        "start_time": "2022-11-01T18:22:01.947Z"
      },
      {
        "duration": 46,
        "start_time": "2022-11-01T18:22:01.976Z"
      },
      {
        "duration": 83,
        "start_time": "2022-11-01T18:22:02.024Z"
      },
      {
        "duration": 8,
        "start_time": "2022-11-01T18:22:02.109Z"
      },
      {
        "duration": 46,
        "start_time": "2022-11-01T18:22:02.119Z"
      },
      {
        "duration": 18,
        "start_time": "2022-11-01T18:22:02.167Z"
      },
      {
        "duration": 11,
        "start_time": "2022-11-01T18:22:02.186Z"
      },
      {
        "duration": 13,
        "start_time": "2022-11-01T18:22:02.200Z"
      },
      {
        "duration": 16,
        "start_time": "2022-11-01T18:22:02.214Z"
      },
      {
        "duration": 23,
        "start_time": "2022-11-01T18:22:02.232Z"
      },
      {
        "duration": 14,
        "start_time": "2022-11-01T18:22:12.108Z"
      },
      {
        "duration": 6,
        "start_time": "2022-11-01T18:22:37.647Z"
      },
      {
        "duration": 12,
        "start_time": "2022-11-01T18:22:48.051Z"
      },
      {
        "duration": 12,
        "start_time": "2022-11-01T18:23:21.004Z"
      },
      {
        "duration": 12,
        "start_time": "2022-11-01T18:23:34.693Z"
      },
      {
        "duration": 9,
        "start_time": "2022-11-01T18:23:45.022Z"
      },
      {
        "duration": 12,
        "start_time": "2022-11-01T18:23:47.477Z"
      },
      {
        "duration": 14,
        "start_time": "2022-11-01T18:24:25.009Z"
      },
      {
        "duration": 9,
        "start_time": "2022-11-01T18:24:26.575Z"
      },
      {
        "duration": 13,
        "start_time": "2022-11-01T18:24:33.998Z"
      },
      {
        "duration": 9,
        "start_time": "2022-11-01T18:24:57.708Z"
      },
      {
        "duration": 3,
        "start_time": "2022-11-01T18:25:19.612Z"
      },
      {
        "duration": 14,
        "start_time": "2022-11-01T18:25:56.110Z"
      },
      {
        "duration": 9,
        "start_time": "2022-11-01T18:26:17.595Z"
      },
      {
        "duration": 105,
        "start_time": "2022-11-01T18:26:23.575Z"
      },
      {
        "duration": 31,
        "start_time": "2022-11-01T18:26:23.682Z"
      },
      {
        "duration": 20,
        "start_time": "2022-11-01T18:26:23.714Z"
      },
      {
        "duration": 2146,
        "start_time": "2022-11-01T18:26:23.736Z"
      },
      {
        "duration": 9,
        "start_time": "2022-11-01T18:26:25.884Z"
      },
      {
        "duration": 4,
        "start_time": "2022-11-01T18:26:25.894Z"
      },
      {
        "duration": 13,
        "start_time": "2022-11-01T18:26:25.900Z"
      },
      {
        "duration": 23,
        "start_time": "2022-11-01T18:26:25.915Z"
      },
      {
        "duration": 91,
        "start_time": "2022-11-01T18:26:25.939Z"
      },
      {
        "duration": 5,
        "start_time": "2022-11-01T18:26:26.033Z"
      },
      {
        "duration": 22,
        "start_time": "2022-11-01T18:26:26.040Z"
      },
      {
        "duration": 10,
        "start_time": "2022-11-01T18:26:36.756Z"
      },
      {
        "duration": 9,
        "start_time": "2022-11-01T18:27:53.884Z"
      },
      {
        "duration": 8,
        "start_time": "2022-11-01T18:28:22.764Z"
      },
      {
        "duration": 9,
        "start_time": "2022-11-01T18:28:38.708Z"
      },
      {
        "duration": 8,
        "start_time": "2022-11-01T18:28:46.506Z"
      },
      {
        "duration": 31,
        "start_time": "2022-11-01T18:29:18.642Z"
      },
      {
        "duration": 10,
        "start_time": "2022-11-01T18:38:15.994Z"
      },
      {
        "duration": 10,
        "start_time": "2022-11-01T18:39:52.585Z"
      },
      {
        "duration": 72,
        "start_time": "2022-11-01T18:40:03.440Z"
      },
      {
        "duration": 16,
        "start_time": "2022-11-01T18:40:22.686Z"
      },
      {
        "duration": 14,
        "start_time": "2022-11-01T18:40:29.176Z"
      },
      {
        "duration": 9,
        "start_time": "2022-11-01T18:40:30.288Z"
      },
      {
        "duration": 17,
        "start_time": "2022-11-01T18:41:22.184Z"
      },
      {
        "duration": 9,
        "start_time": "2022-11-01T18:41:52.452Z"
      },
      {
        "duration": 11,
        "start_time": "2022-11-01T18:42:16.982Z"
      },
      {
        "duration": 18,
        "start_time": "2022-11-01T18:43:21.963Z"
      },
      {
        "duration": 12,
        "start_time": "2022-11-01T18:43:29.310Z"
      },
      {
        "duration": 8,
        "start_time": "2022-11-01T18:49:05.174Z"
      },
      {
        "duration": 16,
        "start_time": "2022-11-01T18:50:15.125Z"
      },
      {
        "duration": 64,
        "start_time": "2022-11-01T18:50:27.326Z"
      },
      {
        "duration": 11,
        "start_time": "2022-11-01T18:50:38.124Z"
      },
      {
        "duration": 7,
        "start_time": "2022-11-01T18:53:14.589Z"
      },
      {
        "duration": 5,
        "start_time": "2022-11-01T18:53:23.605Z"
      },
      {
        "duration": 493,
        "start_time": "2022-11-01T18:53:38.882Z"
      },
      {
        "duration": 39,
        "start_time": "2022-11-01T18:53:39.377Z"
      },
      {
        "duration": 16,
        "start_time": "2022-11-01T18:53:39.418Z"
      },
      {
        "duration": 2677,
        "start_time": "2022-11-01T18:53:39.436Z"
      },
      {
        "duration": 9,
        "start_time": "2022-11-01T18:53:42.116Z"
      },
      {
        "duration": 4,
        "start_time": "2022-11-01T18:53:42.127Z"
      },
      {
        "duration": 53,
        "start_time": "2022-11-01T18:53:42.133Z"
      },
      {
        "duration": 24,
        "start_time": "2022-11-01T18:53:42.188Z"
      },
      {
        "duration": 110,
        "start_time": "2022-11-01T18:53:42.215Z"
      },
      {
        "duration": 8,
        "start_time": "2022-11-01T18:53:42.327Z"
      },
      {
        "duration": 25,
        "start_time": "2022-11-01T18:53:42.337Z"
      },
      {
        "duration": 12,
        "start_time": "2022-11-01T18:53:42.364Z"
      },
      {
        "duration": 25,
        "start_time": "2022-11-01T18:53:42.378Z"
      },
      {
        "duration": 3,
        "start_time": "2022-11-01T18:53:42.405Z"
      },
      {
        "duration": 9,
        "start_time": "2022-11-01T18:53:42.410Z"
      },
      {
        "duration": 9,
        "start_time": "2022-11-01T18:53:42.453Z"
      },
      {
        "duration": 13,
        "start_time": "2022-11-01T18:53:42.464Z"
      },
      {
        "duration": 7,
        "start_time": "2022-11-01T18:53:44.199Z"
      },
      {
        "duration": 12,
        "start_time": "2022-11-01T18:53:54.764Z"
      },
      {
        "duration": 6,
        "start_time": "2022-11-01T18:54:15.372Z"
      },
      {
        "duration": 52,
        "start_time": "2022-11-01T18:54:35.461Z"
      },
      {
        "duration": 29,
        "start_time": "2022-11-01T18:54:51.756Z"
      },
      {
        "duration": 20,
        "start_time": "2022-11-01T18:55:14.661Z"
      },
      {
        "duration": 43,
        "start_time": "2022-11-01T18:55:39.543Z"
      },
      {
        "duration": 18,
        "start_time": "2022-11-01T18:55:49.581Z"
      },
      {
        "duration": 9,
        "start_time": "2022-11-01T18:55:58.214Z"
      },
      {
        "duration": 12,
        "start_time": "2022-11-01T18:56:10.746Z"
      },
      {
        "duration": 10,
        "start_time": "2022-11-01T18:56:25.763Z"
      },
      {
        "duration": 122,
        "start_time": "2022-11-01T18:57:14.500Z"
      },
      {
        "duration": 44,
        "start_time": "2022-11-01T18:57:14.624Z"
      },
      {
        "duration": 25,
        "start_time": "2022-11-01T18:57:14.670Z"
      },
      {
        "duration": 2567,
        "start_time": "2022-11-01T18:57:14.697Z"
      },
      {
        "duration": 15,
        "start_time": "2022-11-01T18:57:17.268Z"
      },
      {
        "duration": 18,
        "start_time": "2022-11-01T18:57:17.285Z"
      },
      {
        "duration": 9,
        "start_time": "2022-11-01T18:57:17.306Z"
      },
      {
        "duration": 23,
        "start_time": "2022-11-01T18:57:17.317Z"
      },
      {
        "duration": 139,
        "start_time": "2022-11-01T18:57:17.342Z"
      },
      {
        "duration": 12,
        "start_time": "2022-11-01T18:57:17.484Z"
      },
      {
        "duration": 15,
        "start_time": "2022-11-01T18:57:17.499Z"
      },
      {
        "duration": 13,
        "start_time": "2022-11-01T18:57:17.517Z"
      },
      {
        "duration": 24,
        "start_time": "2022-11-01T18:57:17.556Z"
      },
      {
        "duration": 3,
        "start_time": "2022-11-01T18:57:17.583Z"
      },
      {
        "duration": 31,
        "start_time": "2022-11-01T18:57:17.589Z"
      },
      {
        "duration": 947,
        "start_time": "2022-11-01T18:57:28.191Z"
      },
      {
        "duration": 8,
        "start_time": "2022-11-01T18:57:35.580Z"
      },
      {
        "duration": 12,
        "start_time": "2022-11-01T18:57:53.563Z"
      },
      {
        "duration": 5,
        "start_time": "2022-11-01T19:05:59.776Z"
      },
      {
        "duration": 48,
        "start_time": "2022-11-01T19:06:13.267Z"
      },
      {
        "duration": 11,
        "start_time": "2022-11-01T19:17:18.518Z"
      },
      {
        "duration": 45,
        "start_time": "2022-11-01T19:17:25.957Z"
      },
      {
        "duration": 35,
        "start_time": "2022-11-01T19:17:36.408Z"
      },
      {
        "duration": 38,
        "start_time": "2022-11-01T19:23:50.557Z"
      },
      {
        "duration": 36,
        "start_time": "2022-11-01T19:25:33.613Z"
      },
      {
        "duration": 41,
        "start_time": "2022-11-01T19:25:41.365Z"
      },
      {
        "duration": 38,
        "start_time": "2022-11-01T19:25:55.204Z"
      },
      {
        "duration": 51,
        "start_time": "2022-11-02T16:59:59.519Z"
      },
      {
        "duration": 1006,
        "start_time": "2022-11-02T17:00:10.287Z"
      },
      {
        "duration": 35,
        "start_time": "2022-11-02T17:00:11.295Z"
      },
      {
        "duration": 16,
        "start_time": "2022-11-02T17:00:11.331Z"
      },
      {
        "duration": 2684,
        "start_time": "2022-11-02T17:00:11.349Z"
      },
      {
        "duration": 9,
        "start_time": "2022-11-02T17:00:14.035Z"
      },
      {
        "duration": 22,
        "start_time": "2022-11-02T17:00:14.045Z"
      },
      {
        "duration": 23,
        "start_time": "2022-11-02T17:00:14.068Z"
      },
      {
        "duration": 52,
        "start_time": "2022-11-02T17:00:14.092Z"
      },
      {
        "duration": 125,
        "start_time": "2022-11-02T17:00:14.146Z"
      },
      {
        "duration": 8,
        "start_time": "2022-11-02T17:00:14.274Z"
      },
      {
        "duration": 36,
        "start_time": "2022-11-02T17:00:14.284Z"
      },
      {
        "duration": 27,
        "start_time": "2022-11-02T17:00:14.322Z"
      },
      {
        "duration": 29,
        "start_time": "2022-11-02T17:00:14.350Z"
      },
      {
        "duration": 4,
        "start_time": "2022-11-02T17:00:14.381Z"
      },
      {
        "duration": 29,
        "start_time": "2022-11-02T17:00:14.386Z"
      },
      {
        "duration": 51,
        "start_time": "2022-11-02T17:00:14.417Z"
      },
      {
        "duration": 58,
        "start_time": "2022-11-02T17:00:14.470Z"
      },
      {
        "duration": 56,
        "start_time": "2022-11-02T17:00:14.530Z"
      },
      {
        "duration": 43,
        "start_time": "2022-11-02T17:00:14.588Z"
      },
      {
        "duration": 30,
        "start_time": "2022-11-02T17:00:25.075Z"
      },
      {
        "duration": 96,
        "start_time": "2022-11-02T17:06:02.633Z"
      },
      {
        "duration": 9,
        "start_time": "2022-11-02T17:06:52.759Z"
      },
      {
        "duration": 29,
        "start_time": "2022-11-02T17:07:04.861Z"
      },
      {
        "duration": 11,
        "start_time": "2022-11-02T17:13:36.709Z"
      },
      {
        "duration": 318,
        "start_time": "2022-11-02T17:31:03.199Z"
      },
      {
        "duration": 392,
        "start_time": "2022-11-02T17:31:22.132Z"
      },
      {
        "duration": 18,
        "start_time": "2022-11-02T17:32:20.307Z"
      },
      {
        "duration": 328,
        "start_time": "2022-11-02T17:33:10.839Z"
      },
      {
        "duration": 327,
        "start_time": "2022-11-02T17:33:19.423Z"
      },
      {
        "duration": 293,
        "start_time": "2022-11-02T17:33:47.856Z"
      },
      {
        "duration": 4,
        "start_time": "2022-11-02T17:37:16.815Z"
      },
      {
        "duration": 27,
        "start_time": "2022-11-02T17:37:28.482Z"
      },
      {
        "duration": 745,
        "start_time": "2022-11-03T06:32:58.340Z"
      },
      {
        "duration": 36,
        "start_time": "2022-11-03T06:32:59.087Z"
      },
      {
        "duration": 15,
        "start_time": "2022-11-03T06:32:59.125Z"
      },
      {
        "duration": 2554,
        "start_time": "2022-11-03T06:32:59.142Z"
      },
      {
        "duration": 10,
        "start_time": "2022-11-03T06:33:01.698Z"
      },
      {
        "duration": 5,
        "start_time": "2022-11-03T06:33:01.709Z"
      },
      {
        "duration": 7,
        "start_time": "2022-11-03T06:33:01.716Z"
      },
      {
        "duration": 31,
        "start_time": "2022-11-03T06:33:01.724Z"
      },
      {
        "duration": 102,
        "start_time": "2022-11-03T06:33:01.757Z"
      },
      {
        "duration": 6,
        "start_time": "2022-11-03T06:33:01.860Z"
      },
      {
        "duration": 21,
        "start_time": "2022-11-03T06:33:01.868Z"
      },
      {
        "duration": 9,
        "start_time": "2022-11-03T06:33:01.890Z"
      },
      {
        "duration": 26,
        "start_time": "2022-11-03T06:33:01.901Z"
      },
      {
        "duration": 2,
        "start_time": "2022-11-03T06:33:01.938Z"
      },
      {
        "duration": 14,
        "start_time": "2022-11-03T06:33:01.941Z"
      },
      {
        "duration": 42,
        "start_time": "2022-11-03T06:33:01.957Z"
      },
      {
        "duration": 40,
        "start_time": "2022-11-03T06:33:02.001Z"
      },
      {
        "duration": 32,
        "start_time": "2022-11-03T06:33:02.043Z"
      },
      {
        "duration": 30,
        "start_time": "2022-11-03T06:33:02.077Z"
      },
      {
        "duration": 302,
        "start_time": "2022-11-03T06:33:02.108Z"
      },
      {
        "duration": 37,
        "start_time": "2022-11-03T06:33:02.412Z"
      },
      {
        "duration": 17,
        "start_time": "2022-11-03T06:33:09.935Z"
      },
      {
        "duration": 12,
        "start_time": "2022-11-03T06:34:50.048Z"
      },
      {
        "duration": 137,
        "start_time": "2022-11-03T06:35:47.128Z"
      },
      {
        "duration": 42,
        "start_time": "2022-11-03T06:35:47.268Z"
      },
      {
        "duration": 36,
        "start_time": "2022-11-03T06:35:47.312Z"
      },
      {
        "duration": 2293,
        "start_time": "2022-11-03T06:35:47.351Z"
      },
      {
        "duration": 10,
        "start_time": "2022-11-03T06:35:49.646Z"
      },
      {
        "duration": 17,
        "start_time": "2022-11-03T06:35:49.658Z"
      },
      {
        "duration": 15,
        "start_time": "2022-11-03T06:35:49.677Z"
      },
      {
        "duration": 37,
        "start_time": "2022-11-03T06:35:49.694Z"
      },
      {
        "duration": 87,
        "start_time": "2022-11-03T06:35:49.733Z"
      },
      {
        "duration": 7,
        "start_time": "2022-11-03T06:35:49.822Z"
      },
      {
        "duration": 21,
        "start_time": "2022-11-03T06:35:49.831Z"
      },
      {
        "duration": 23,
        "start_time": "2022-11-03T06:35:49.853Z"
      },
      {
        "duration": 25,
        "start_time": "2022-11-03T06:35:49.879Z"
      },
      {
        "duration": 3,
        "start_time": "2022-11-03T06:35:49.906Z"
      },
      {
        "duration": 33,
        "start_time": "2022-11-03T06:35:49.911Z"
      },
      {
        "duration": 75,
        "start_time": "2022-11-03T06:35:49.946Z"
      },
      {
        "duration": 36,
        "start_time": "2022-11-03T06:35:50.024Z"
      },
      {
        "duration": 31,
        "start_time": "2022-11-03T06:35:50.062Z"
      },
      {
        "duration": 46,
        "start_time": "2022-11-03T06:35:50.095Z"
      },
      {
        "duration": 403,
        "start_time": "2022-11-03T06:35:50.143Z"
      },
      {
        "duration": 73,
        "start_time": "2022-11-03T06:36:16.600Z"
      },
      {
        "duration": 26,
        "start_time": "2022-11-03T06:37:11.816Z"
      },
      {
        "duration": 983,
        "start_time": "2022-11-03T06:37:25.246Z"
      },
      {
        "duration": 56,
        "start_time": "2022-11-03T06:37:36.454Z"
      },
      {
        "duration": 43,
        "start_time": "2022-11-03T06:39:10.952Z"
      },
      {
        "duration": 148,
        "start_time": "2022-11-03T06:39:17.033Z"
      },
      {
        "duration": 46,
        "start_time": "2022-11-03T06:39:17.185Z"
      },
      {
        "duration": 28,
        "start_time": "2022-11-03T06:39:17.238Z"
      },
      {
        "duration": 2492,
        "start_time": "2022-11-03T06:39:17.269Z"
      },
      {
        "duration": 14,
        "start_time": "2022-11-03T06:39:19.776Z"
      },
      {
        "duration": 26,
        "start_time": "2022-11-03T06:39:19.792Z"
      },
      {
        "duration": 25,
        "start_time": "2022-11-03T06:39:19.820Z"
      },
      {
        "duration": 39,
        "start_time": "2022-11-03T06:39:19.847Z"
      },
      {
        "duration": 95,
        "start_time": "2022-11-03T06:39:19.888Z"
      },
      {
        "duration": 8,
        "start_time": "2022-11-03T06:39:19.985Z"
      },
      {
        "duration": 31,
        "start_time": "2022-11-03T06:39:19.995Z"
      },
      {
        "duration": 23,
        "start_time": "2022-11-03T06:39:20.027Z"
      },
      {
        "duration": 46,
        "start_time": "2022-11-03T06:39:20.052Z"
      },
      {
        "duration": 6,
        "start_time": "2022-11-03T06:39:20.101Z"
      },
      {
        "duration": 36,
        "start_time": "2022-11-03T06:39:20.109Z"
      },
      {
        "duration": 112,
        "start_time": "2022-11-03T06:39:20.147Z"
      },
      {
        "duration": 36,
        "start_time": "2022-11-03T06:39:20.260Z"
      },
      {
        "duration": 62,
        "start_time": "2022-11-03T06:39:20.298Z"
      },
      {
        "duration": 37,
        "start_time": "2022-11-03T06:39:20.362Z"
      },
      {
        "duration": 62,
        "start_time": "2022-11-03T06:39:20.401Z"
      },
      {
        "duration": 344,
        "start_time": "2022-11-03T06:39:20.465Z"
      },
      {
        "duration": 95,
        "start_time": "2022-11-03T06:40:14.748Z"
      },
      {
        "duration": 32,
        "start_time": "2022-11-03T06:40:16.444Z"
      },
      {
        "duration": 15,
        "start_time": "2022-11-03T06:40:19.189Z"
      },
      {
        "duration": 2304,
        "start_time": "2022-11-03T06:40:23.271Z"
      },
      {
        "duration": 10,
        "start_time": "2022-11-03T06:40:29.413Z"
      },
      {
        "duration": 39,
        "start_time": "2022-11-03T06:40:40.854Z"
      },
      {
        "duration": 6,
        "start_time": "2022-11-03T06:41:02.094Z"
      },
      {
        "duration": 7,
        "start_time": "2022-11-03T06:41:03.893Z"
      },
      {
        "duration": 39,
        "start_time": "2022-11-03T06:41:07.630Z"
      },
      {
        "duration": 20,
        "start_time": "2022-11-03T06:41:14.463Z"
      },
      {
        "duration": 111,
        "start_time": "2022-11-03T06:41:18.000Z"
      },
      {
        "duration": 34,
        "start_time": "2022-11-03T06:41:22.455Z"
      },
      {
        "duration": 8,
        "start_time": "2022-11-03T06:41:28.863Z"
      },
      {
        "duration": 11,
        "start_time": "2022-11-03T06:41:33.295Z"
      },
      {
        "duration": 47,
        "start_time": "2022-11-03T06:41:37.376Z"
      },
      {
        "duration": 9,
        "start_time": "2022-11-03T06:41:42.452Z"
      },
      {
        "duration": 36,
        "start_time": "2022-11-03T06:41:45.359Z"
      },
      {
        "duration": 22,
        "start_time": "2022-11-03T06:41:47.573Z"
      },
      {
        "duration": 69,
        "start_time": "2022-11-03T06:41:50.560Z"
      },
      {
        "duration": 12,
        "start_time": "2022-11-03T06:42:32.065Z"
      },
      {
        "duration": 11,
        "start_time": "2022-11-03T06:43:38.822Z"
      },
      {
        "duration": 10,
        "start_time": "2022-11-03T06:43:59.851Z"
      },
      {
        "duration": 100,
        "start_time": "2022-11-03T06:44:15.486Z"
      },
      {
        "duration": 30,
        "start_time": "2022-11-03T06:44:15.588Z"
      },
      {
        "duration": 37,
        "start_time": "2022-11-03T06:44:15.620Z"
      },
      {
        "duration": 2458,
        "start_time": "2022-11-03T06:44:15.660Z"
      },
      {
        "duration": 34,
        "start_time": "2022-11-03T06:44:18.119Z"
      },
      {
        "duration": 5,
        "start_time": "2022-11-03T06:44:18.156Z"
      },
      {
        "duration": 10,
        "start_time": "2022-11-03T06:44:18.163Z"
      },
      {
        "duration": 21,
        "start_time": "2022-11-03T06:44:18.175Z"
      },
      {
        "duration": 116,
        "start_time": "2022-11-03T06:44:18.198Z"
      },
      {
        "duration": 7,
        "start_time": "2022-11-03T06:44:18.316Z"
      },
      {
        "duration": 27,
        "start_time": "2022-11-03T06:44:18.325Z"
      },
      {
        "duration": 11,
        "start_time": "2022-11-03T06:44:18.357Z"
      },
      {
        "duration": 9,
        "start_time": "2022-11-03T06:44:18.370Z"
      },
      {
        "duration": 3,
        "start_time": "2022-11-03T06:44:18.380Z"
      },
      {
        "duration": 13,
        "start_time": "2022-11-03T06:44:18.384Z"
      },
      {
        "duration": 54,
        "start_time": "2022-11-03T06:44:18.399Z"
      },
      {
        "duration": 32,
        "start_time": "2022-11-03T06:44:18.457Z"
      },
      {
        "duration": 32,
        "start_time": "2022-11-03T06:44:18.490Z"
      },
      {
        "duration": 44,
        "start_time": "2022-11-03T06:44:18.524Z"
      },
      {
        "duration": 30,
        "start_time": "2022-11-03T06:44:18.570Z"
      },
      {
        "duration": 345,
        "start_time": "2022-11-03T06:44:18.601Z"
      },
      {
        "duration": 40,
        "start_time": "2022-11-03T06:44:26.309Z"
      },
      {
        "duration": 673,
        "start_time": "2022-11-04T11:20:05.933Z"
      },
      {
        "duration": 57,
        "start_time": "2022-11-04T11:20:06.608Z"
      },
      {
        "duration": 15,
        "start_time": "2022-11-04T11:20:06.672Z"
      },
      {
        "duration": 3019,
        "start_time": "2022-11-04T11:20:06.689Z"
      },
      {
        "duration": 9,
        "start_time": "2022-11-04T11:20:09.710Z"
      },
      {
        "duration": 5,
        "start_time": "2022-11-04T11:20:09.720Z"
      },
      {
        "duration": 9,
        "start_time": "2022-11-04T11:20:09.727Z"
      },
      {
        "duration": 49,
        "start_time": "2022-11-04T11:20:09.737Z"
      },
      {
        "duration": 110,
        "start_time": "2022-11-04T11:20:09.788Z"
      },
      {
        "duration": 7,
        "start_time": "2022-11-04T11:20:09.900Z"
      },
      {
        "duration": 34,
        "start_time": "2022-11-04T11:20:09.909Z"
      },
      {
        "duration": 15,
        "start_time": "2022-11-04T11:20:09.947Z"
      },
      {
        "duration": 18,
        "start_time": "2022-11-04T11:20:09.966Z"
      },
      {
        "duration": 3,
        "start_time": "2022-11-04T11:20:09.987Z"
      },
      {
        "duration": 11,
        "start_time": "2022-11-04T11:20:09.992Z"
      },
      {
        "duration": 76,
        "start_time": "2022-11-04T11:20:10.004Z"
      },
      {
        "duration": 31,
        "start_time": "2022-11-04T11:20:10.082Z"
      },
      {
        "duration": 54,
        "start_time": "2022-11-04T11:20:10.115Z"
      },
      {
        "duration": 30,
        "start_time": "2022-11-04T11:20:10.171Z"
      },
      {
        "duration": 30,
        "start_time": "2022-11-04T11:20:10.202Z"
      },
      {
        "duration": 376,
        "start_time": "2022-11-04T11:20:10.234Z"
      },
      {
        "duration": 53,
        "start_time": "2022-11-04T11:20:10.612Z"
      },
      {
        "duration": 8,
        "start_time": "2022-11-04T11:27:22.903Z"
      },
      {
        "duration": 94,
        "start_time": "2022-11-04T12:04:40.124Z"
      },
      {
        "duration": 263,
        "start_time": "2022-11-04T12:05:00.523Z"
      },
      {
        "duration": 327,
        "start_time": "2022-11-04T12:05:14.994Z"
      },
      {
        "duration": 14,
        "start_time": "2022-11-04T12:05:31.789Z"
      },
      {
        "duration": 16,
        "start_time": "2022-11-04T12:05:44.103Z"
      },
      {
        "duration": 138,
        "start_time": "2022-11-04T12:06:23.625Z"
      },
      {
        "duration": 31,
        "start_time": "2022-11-04T12:06:23.766Z"
      },
      {
        "duration": 18,
        "start_time": "2022-11-04T12:06:23.799Z"
      },
      {
        "duration": 2471,
        "start_time": "2022-11-04T12:06:23.818Z"
      },
      {
        "duration": 9,
        "start_time": "2022-11-04T12:06:26.291Z"
      },
      {
        "duration": 4,
        "start_time": "2022-11-04T12:06:26.301Z"
      },
      {
        "duration": 7,
        "start_time": "2022-11-04T12:06:26.307Z"
      },
      {
        "duration": 57,
        "start_time": "2022-11-04T12:06:26.316Z"
      },
      {
        "duration": 127,
        "start_time": "2022-11-04T12:06:26.375Z"
      },
      {
        "duration": 6,
        "start_time": "2022-11-04T12:06:26.504Z"
      },
      {
        "duration": 25,
        "start_time": "2022-11-04T12:06:26.512Z"
      },
      {
        "duration": 10,
        "start_time": "2022-11-04T12:06:29.066Z"
      },
      {
        "duration": 17,
        "start_time": "2022-11-04T12:06:34.279Z"
      },
      {
        "duration": 6,
        "start_time": "2022-11-04T12:06:55.722Z"
      },
      {
        "duration": 9,
        "start_time": "2022-11-04T12:06:59.493Z"
      },
      {
        "duration": 10,
        "start_time": "2022-11-04T12:07:09.902Z"
      },
      {
        "duration": 21,
        "start_time": "2022-11-04T12:07:16.432Z"
      },
      {
        "duration": 36,
        "start_time": "2022-11-04T12:10:51.755Z"
      },
      {
        "duration": 24,
        "start_time": "2022-11-04T12:11:03.605Z"
      },
      {
        "duration": 25,
        "start_time": "2022-11-04T12:11:29.711Z"
      },
      {
        "duration": 28,
        "start_time": "2022-11-04T12:11:55.103Z"
      },
      {
        "duration": 45,
        "start_time": "2022-11-04T12:12:23.879Z"
      },
      {
        "duration": 30,
        "start_time": "2022-11-04T12:12:43.922Z"
      },
      {
        "duration": 14,
        "start_time": "2022-11-04T12:13:03.638Z"
      },
      {
        "duration": 425,
        "start_time": "2022-11-04T12:17:41.504Z"
      },
      {
        "duration": 433,
        "start_time": "2022-11-04T12:17:55.604Z"
      },
      {
        "duration": 7,
        "start_time": "2022-11-04T12:20:58.268Z"
      },
      {
        "duration": 31,
        "start_time": "2022-11-04T12:21:01.241Z"
      },
      {
        "duration": 13,
        "start_time": "2022-11-04T12:21:10.122Z"
      },
      {
        "duration": 27,
        "start_time": "2022-11-04T12:21:12.359Z"
      },
      {
        "duration": 27,
        "start_time": "2022-11-04T12:21:16.845Z"
      },
      {
        "duration": 102,
        "start_time": "2022-11-04T12:21:25.763Z"
      },
      {
        "duration": 31,
        "start_time": "2022-11-04T12:21:25.870Z"
      },
      {
        "duration": 22,
        "start_time": "2022-11-04T12:21:25.903Z"
      },
      {
        "duration": 2582,
        "start_time": "2022-11-04T12:21:25.927Z"
      },
      {
        "duration": 13,
        "start_time": "2022-11-04T12:21:28.511Z"
      },
      {
        "duration": 39,
        "start_time": "2022-11-04T12:21:28.526Z"
      },
      {
        "duration": 29,
        "start_time": "2022-11-04T12:21:28.575Z"
      },
      {
        "duration": 23,
        "start_time": "2022-11-04T12:21:28.606Z"
      },
      {
        "duration": 102,
        "start_time": "2022-11-04T12:21:28.630Z"
      },
      {
        "duration": 9,
        "start_time": "2022-11-04T12:21:28.741Z"
      },
      {
        "duration": 6,
        "start_time": "2022-11-04T12:21:33.282Z"
      },
      {
        "duration": 106,
        "start_time": "2022-11-04T12:21:40.160Z"
      },
      {
        "duration": 33,
        "start_time": "2022-11-04T12:21:40.268Z"
      },
      {
        "duration": 15,
        "start_time": "2022-11-04T12:21:40.303Z"
      },
      {
        "duration": 2580,
        "start_time": "2022-11-04T12:21:40.319Z"
      },
      {
        "duration": 9,
        "start_time": "2022-11-04T12:21:42.901Z"
      },
      {
        "duration": 7,
        "start_time": "2022-11-04T12:21:42.912Z"
      },
      {
        "duration": 25,
        "start_time": "2022-11-04T12:21:42.921Z"
      },
      {
        "duration": 41,
        "start_time": "2022-11-04T12:21:42.948Z"
      },
      {
        "duration": 109,
        "start_time": "2022-11-04T12:21:42.991Z"
      },
      {
        "duration": 5,
        "start_time": "2022-11-04T12:21:43.102Z"
      },
      {
        "duration": 115,
        "start_time": "2022-11-04T12:21:43.422Z"
      },
      {
        "duration": 41,
        "start_time": "2022-11-04T12:21:45.732Z"
      },
      {
        "duration": 105,
        "start_time": "2022-11-04T12:21:58.066Z"
      },
      {
        "duration": 29,
        "start_time": "2022-11-04T12:21:58.173Z"
      },
      {
        "duration": 14,
        "start_time": "2022-11-04T12:21:58.205Z"
      },
      {
        "duration": 2543,
        "start_time": "2022-11-04T12:21:58.220Z"
      },
      {
        "duration": 16,
        "start_time": "2022-11-04T12:22:00.765Z"
      },
      {
        "duration": 13,
        "start_time": "2022-11-04T12:22:00.783Z"
      },
      {
        "duration": 8,
        "start_time": "2022-11-04T12:22:00.797Z"
      },
      {
        "duration": 23,
        "start_time": "2022-11-04T12:22:00.807Z"
      },
      {
        "duration": 137,
        "start_time": "2022-11-04T12:22:00.832Z"
      },
      {
        "duration": 13,
        "start_time": "2022-11-04T12:22:04.501Z"
      },
      {
        "duration": 19,
        "start_time": "2022-11-04T12:22:08.638Z"
      },
      {
        "duration": 5,
        "start_time": "2022-11-04T12:22:50.332Z"
      },
      {
        "duration": 13,
        "start_time": "2022-11-04T12:22:53.059Z"
      },
      {
        "duration": 31,
        "start_time": "2022-11-04T12:23:04.765Z"
      },
      {
        "duration": 5,
        "start_time": "2022-11-04T12:23:15.874Z"
      },
      {
        "duration": 9,
        "start_time": "2022-11-04T12:23:17.478Z"
      },
      {
        "duration": 99,
        "start_time": "2022-11-04T12:23:55.868Z"
      },
      {
        "duration": 45,
        "start_time": "2022-11-04T12:23:57.891Z"
      },
      {
        "duration": 18,
        "start_time": "2022-11-04T12:23:59.867Z"
      },
      {
        "duration": 2653,
        "start_time": "2022-11-04T12:24:16.227Z"
      },
      {
        "duration": 9,
        "start_time": "2022-11-04T12:24:19.628Z"
      },
      {
        "duration": 6,
        "start_time": "2022-11-04T12:24:25.165Z"
      },
      {
        "duration": 7,
        "start_time": "2022-11-04T12:24:26.621Z"
      },
      {
        "duration": 24,
        "start_time": "2022-11-04T12:24:28.499Z"
      },
      {
        "duration": 104,
        "start_time": "2022-11-04T12:24:31.724Z"
      },
      {
        "duration": 11,
        "start_time": "2022-11-04T12:24:33.960Z"
      },
      {
        "duration": 25,
        "start_time": "2022-11-04T12:24:43.235Z"
      },
      {
        "duration": 9,
        "start_time": "2022-11-04T12:24:46.151Z"
      },
      {
        "duration": 14,
        "start_time": "2022-11-04T12:24:48.062Z"
      },
      {
        "duration": 46,
        "start_time": "2022-11-04T12:24:55.824Z"
      },
      {
        "duration": 21,
        "start_time": "2022-11-04T12:25:04.634Z"
      },
      {
        "duration": 31,
        "start_time": "2022-11-04T12:28:48.394Z"
      },
      {
        "duration": 32,
        "start_time": "2022-11-04T12:29:39.805Z"
      },
      {
        "duration": 4,
        "start_time": "2022-11-04T12:30:20.881Z"
      },
      {
        "duration": 6,
        "start_time": "2022-11-04T12:30:45.668Z"
      },
      {
        "duration": 12,
        "start_time": "2022-11-04T12:32:47.600Z"
      },
      {
        "duration": 11,
        "start_time": "2022-11-04T12:33:32.583Z"
      },
      {
        "duration": 10,
        "start_time": "2022-11-04T12:33:47.496Z"
      },
      {
        "duration": 8,
        "start_time": "2022-11-04T12:33:51.102Z"
      },
      {
        "duration": 23,
        "start_time": "2022-11-04T12:33:57.557Z"
      },
      {
        "duration": 13,
        "start_time": "2022-11-04T12:34:10.408Z"
      },
      {
        "duration": 175,
        "start_time": "2022-11-04T12:34:46.307Z"
      },
      {
        "duration": 160,
        "start_time": "2022-11-04T12:35:26.769Z"
      },
      {
        "duration": 174,
        "start_time": "2022-11-04T12:35:30.243Z"
      },
      {
        "duration": 158,
        "start_time": "2022-11-04T12:35:33.967Z"
      },
      {
        "duration": 155,
        "start_time": "2022-11-04T12:35:51.201Z"
      },
      {
        "duration": 123,
        "start_time": "2022-11-04T12:36:49.858Z"
      },
      {
        "duration": 56,
        "start_time": "2022-11-04T12:37:23.123Z"
      },
      {
        "duration": 120,
        "start_time": "2022-11-04T12:37:27.927Z"
      },
      {
        "duration": 136,
        "start_time": "2022-11-04T12:37:41.519Z"
      },
      {
        "duration": 59,
        "start_time": "2022-11-04T12:40:04.527Z"
      },
      {
        "duration": 38,
        "start_time": "2022-11-04T12:40:24.863Z"
      },
      {
        "duration": 8,
        "start_time": "2022-11-04T12:40:31.271Z"
      },
      {
        "duration": 42,
        "start_time": "2022-11-04T12:40:39.829Z"
      },
      {
        "duration": 96,
        "start_time": "2022-11-04T12:41:20.366Z"
      },
      {
        "duration": 50,
        "start_time": "2022-11-04T12:41:27.126Z"
      },
      {
        "duration": 89,
        "start_time": "2022-11-04T12:41:37.544Z"
      },
      {
        "duration": 34,
        "start_time": "2022-11-04T12:41:37.635Z"
      },
      {
        "duration": 14,
        "start_time": "2022-11-04T12:41:37.670Z"
      },
      {
        "duration": 2306,
        "start_time": "2022-11-04T12:41:37.685Z"
      },
      {
        "duration": 10,
        "start_time": "2022-11-04T12:41:39.993Z"
      },
      {
        "duration": 4,
        "start_time": "2022-11-04T12:41:40.004Z"
      },
      {
        "duration": 9,
        "start_time": "2022-11-04T12:41:40.009Z"
      },
      {
        "duration": 41,
        "start_time": "2022-11-04T12:41:40.020Z"
      },
      {
        "duration": 99,
        "start_time": "2022-11-04T12:41:40.062Z"
      },
      {
        "duration": 6,
        "start_time": "2022-11-04T12:41:40.162Z"
      },
      {
        "duration": 13,
        "start_time": "2022-11-04T12:41:40.170Z"
      },
      {
        "duration": 5,
        "start_time": "2022-11-04T12:41:40.185Z"
      },
      {
        "duration": 11,
        "start_time": "2022-11-04T12:41:40.191Z"
      },
      {
        "duration": 3,
        "start_time": "2022-11-04T12:41:40.204Z"
      },
      {
        "duration": 32,
        "start_time": "2022-11-04T12:41:40.208Z"
      },
      {
        "duration": 43,
        "start_time": "2022-11-04T12:41:40.241Z"
      },
      {
        "duration": 12,
        "start_time": "2022-11-04T12:47:48.418Z"
      },
      {
        "duration": 46,
        "start_time": "2022-11-04T12:48:11.066Z"
      },
      {
        "duration": 30,
        "start_time": "2022-11-04T12:48:29.637Z"
      },
      {
        "duration": 12,
        "start_time": "2022-11-04T12:54:45.739Z"
      },
      {
        "duration": 5,
        "start_time": "2022-11-04T12:55:11.123Z"
      },
      {
        "duration": 10,
        "start_time": "2022-11-04T12:55:23.448Z"
      },
      {
        "duration": 9,
        "start_time": "2022-11-04T12:55:26.368Z"
      },
      {
        "duration": 13,
        "start_time": "2022-11-04T12:55:34.554Z"
      },
      {
        "duration": 6,
        "start_time": "2022-11-04T12:55:59.325Z"
      },
      {
        "duration": 34,
        "start_time": "2022-11-04T12:56:10.177Z"
      },
      {
        "duration": 36,
        "start_time": "2022-11-04T12:56:12.337Z"
      },
      {
        "duration": 28,
        "start_time": "2022-11-04T12:56:14.456Z"
      },
      {
        "duration": 33,
        "start_time": "2022-11-04T12:56:16.223Z"
      },
      {
        "duration": 291,
        "start_time": "2022-11-04T12:56:18.185Z"
      },
      {
        "duration": 3,
        "start_time": "2022-11-04T12:59:56.252Z"
      },
      {
        "duration": 10,
        "start_time": "2022-11-04T13:05:00.725Z"
      },
      {
        "duration": 128,
        "start_time": "2022-11-04T13:05:06.507Z"
      },
      {
        "duration": 150,
        "start_time": "2022-11-04T13:05:39.160Z"
      },
      {
        "duration": 150,
        "start_time": "2022-11-04T13:05:50.685Z"
      },
      {
        "duration": 128,
        "start_time": "2022-11-04T13:05:59.001Z"
      },
      {
        "duration": 9,
        "start_time": "2022-11-04T13:06:33.797Z"
      },
      {
        "duration": 36,
        "start_time": "2022-11-04T13:10:20.874Z"
      },
      {
        "duration": 37,
        "start_time": "2022-11-04T13:11:01.559Z"
      },
      {
        "duration": 41,
        "start_time": "2022-11-04T13:11:17.889Z"
      },
      {
        "duration": 36,
        "start_time": "2022-11-04T13:11:30.392Z"
      },
      {
        "duration": 5,
        "start_time": "2022-11-04T13:18:12.730Z"
      },
      {
        "duration": 12,
        "start_time": "2022-11-04T13:18:20.636Z"
      },
      {
        "duration": 4,
        "start_time": "2022-11-04T13:18:24.360Z"
      },
      {
        "duration": 41,
        "start_time": "2022-11-04T13:19:55.121Z"
      },
      {
        "duration": 7,
        "start_time": "2022-11-04T13:28:44.006Z"
      },
      {
        "duration": 8,
        "start_time": "2022-11-04T13:28:51.096Z"
      },
      {
        "duration": 8,
        "start_time": "2022-11-04T13:29:53.528Z"
      },
      {
        "duration": 3,
        "start_time": "2022-11-04T13:30:06.286Z"
      },
      {
        "duration": 9,
        "start_time": "2022-11-04T13:30:07.767Z"
      },
      {
        "duration": 125,
        "start_time": "2022-11-04T13:30:50.936Z"
      },
      {
        "duration": 142,
        "start_time": "2022-11-04T13:32:50.223Z"
      },
      {
        "duration": 133,
        "start_time": "2022-11-04T13:32:55.148Z"
      },
      {
        "duration": 165,
        "start_time": "2022-11-04T13:33:08.888Z"
      },
      {
        "duration": 140,
        "start_time": "2022-11-04T13:33:16.419Z"
      },
      {
        "duration": 136,
        "start_time": "2022-11-04T13:33:21.251Z"
      },
      {
        "duration": 134,
        "start_time": "2022-11-04T13:33:27.598Z"
      },
      {
        "duration": 139,
        "start_time": "2022-11-04T13:33:41.123Z"
      },
      {
        "duration": 136,
        "start_time": "2022-11-04T13:33:56.576Z"
      },
      {
        "duration": 159,
        "start_time": "2022-11-04T13:34:03.490Z"
      },
      {
        "duration": 141,
        "start_time": "2022-11-04T13:35:10.222Z"
      },
      {
        "duration": 144,
        "start_time": "2022-11-04T13:35:15.360Z"
      },
      {
        "duration": 141,
        "start_time": "2022-11-04T13:35:39.780Z"
      },
      {
        "duration": 162,
        "start_time": "2022-11-04T13:35:53.798Z"
      },
      {
        "duration": 147,
        "start_time": "2022-11-04T13:35:57.842Z"
      },
      {
        "duration": 8,
        "start_time": "2022-11-04T13:43:51.085Z"
      },
      {
        "duration": 4,
        "start_time": "2022-11-04T13:43:52.828Z"
      },
      {
        "duration": 443,
        "start_time": "2022-11-04T13:44:10.379Z"
      },
      {
        "duration": 158,
        "start_time": "2022-11-04T13:44:29.098Z"
      },
      {
        "duration": 151,
        "start_time": "2022-11-04T13:44:38.148Z"
      },
      {
        "duration": 159,
        "start_time": "2022-11-04T13:44:44.515Z"
      },
      {
        "duration": 149,
        "start_time": "2022-11-04T13:46:26.948Z"
      },
      {
        "duration": 179,
        "start_time": "2022-11-04T13:47:23.220Z"
      },
      {
        "duration": 155,
        "start_time": "2022-11-04T13:47:46.058Z"
      },
      {
        "duration": 171,
        "start_time": "2022-11-04T13:49:58.420Z"
      },
      {
        "duration": 174,
        "start_time": "2022-11-04T13:50:17.015Z"
      },
      {
        "duration": 148,
        "start_time": "2022-11-04T13:50:23.293Z"
      },
      {
        "duration": 51,
        "start_time": "2022-11-05T08:53:46.327Z"
      },
      {
        "duration": 673,
        "start_time": "2022-11-05T08:53:53.864Z"
      },
      {
        "duration": 42,
        "start_time": "2022-11-05T08:53:54.539Z"
      },
      {
        "duration": 18,
        "start_time": "2022-11-05T08:53:54.582Z"
      },
      {
        "duration": 2341,
        "start_time": "2022-11-05T08:53:54.603Z"
      },
      {
        "duration": 9,
        "start_time": "2022-11-05T08:53:56.946Z"
      },
      {
        "duration": 3,
        "start_time": "2022-11-05T08:53:56.957Z"
      },
      {
        "duration": 7,
        "start_time": "2022-11-05T08:53:56.961Z"
      },
      {
        "duration": 28,
        "start_time": "2022-11-05T08:53:56.969Z"
      },
      {
        "duration": 94,
        "start_time": "2022-11-05T08:53:56.999Z"
      },
      {
        "duration": 20,
        "start_time": "2022-11-05T08:53:57.095Z"
      },
      {
        "duration": 10,
        "start_time": "2022-11-05T08:53:57.117Z"
      },
      {
        "duration": 8,
        "start_time": "2022-11-05T08:53:57.128Z"
      },
      {
        "duration": 13,
        "start_time": "2022-11-05T08:53:57.137Z"
      },
      {
        "duration": 3,
        "start_time": "2022-11-05T08:53:57.151Z"
      },
      {
        "duration": 10,
        "start_time": "2022-11-05T08:53:57.155Z"
      },
      {
        "duration": 69,
        "start_time": "2022-11-05T08:53:57.167Z"
      },
      {
        "duration": 4,
        "start_time": "2022-11-05T08:53:57.238Z"
      },
      {
        "duration": 45,
        "start_time": "2022-11-05T08:53:57.244Z"
      },
      {
        "duration": 0,
        "start_time": "2022-11-05T08:53:57.291Z"
      },
      {
        "duration": 0,
        "start_time": "2022-11-05T08:53:57.293Z"
      },
      {
        "duration": 0,
        "start_time": "2022-11-05T08:53:57.295Z"
      },
      {
        "duration": 0,
        "start_time": "2022-11-05T08:53:57.296Z"
      },
      {
        "duration": 0,
        "start_time": "2022-11-05T08:53:57.297Z"
      },
      {
        "duration": 0,
        "start_time": "2022-11-05T08:53:57.299Z"
      },
      {
        "duration": 0,
        "start_time": "2022-11-05T08:53:57.300Z"
      },
      {
        "duration": 0,
        "start_time": "2022-11-05T08:53:57.301Z"
      },
      {
        "duration": 0,
        "start_time": "2022-11-05T08:53:57.302Z"
      },
      {
        "duration": 0,
        "start_time": "2022-11-05T08:53:57.303Z"
      },
      {
        "duration": 0,
        "start_time": "2022-11-05T08:53:57.304Z"
      },
      {
        "duration": 0,
        "start_time": "2022-11-05T08:53:57.308Z"
      },
      {
        "duration": 0,
        "start_time": "2022-11-05T08:53:57.309Z"
      },
      {
        "duration": 134,
        "start_time": "2022-11-05T08:53:59.222Z"
      },
      {
        "duration": 134,
        "start_time": "2022-11-05T08:54:15.293Z"
      },
      {
        "duration": 130,
        "start_time": "2022-11-05T08:54:27.780Z"
      },
      {
        "duration": 4,
        "start_time": "2022-11-05T08:55:51.405Z"
      },
      {
        "duration": 127,
        "start_time": "2022-11-05T08:56:00.654Z"
      },
      {
        "duration": 202,
        "start_time": "2022-11-05T08:56:18.590Z"
      },
      {
        "duration": 130,
        "start_time": "2022-11-05T08:56:26.651Z"
      },
      {
        "duration": 131,
        "start_time": "2022-11-05T08:58:51.395Z"
      },
      {
        "duration": 135,
        "start_time": "2022-11-05T08:58:58.276Z"
      },
      {
        "duration": 299,
        "start_time": "2022-11-05T08:59:34.018Z"
      },
      {
        "duration": 5,
        "start_time": "2022-11-05T08:59:36.539Z"
      },
      {
        "duration": 106,
        "start_time": "2022-11-05T08:59:43.450Z"
      },
      {
        "duration": 106,
        "start_time": "2022-11-05T08:59:48.924Z"
      },
      {
        "duration": 113,
        "start_time": "2022-11-05T08:59:52.835Z"
      },
      {
        "duration": 131,
        "start_time": "2022-11-05T09:00:40.602Z"
      },
      {
        "duration": 31,
        "start_time": "2022-11-05T09:02:30.289Z"
      },
      {
        "duration": 180,
        "start_time": "2022-11-05T09:02:45.675Z"
      },
      {
        "duration": 52,
        "start_time": "2022-11-05T09:03:30.955Z"
      },
      {
        "duration": 51,
        "start_time": "2022-11-05T09:03:35.113Z"
      },
      {
        "duration": 162,
        "start_time": "2022-11-05T09:03:44.647Z"
      },
      {
        "duration": 112,
        "start_time": "2022-11-05T09:03:48.810Z"
      },
      {
        "duration": 117,
        "start_time": "2022-11-05T09:05:51.785Z"
      },
      {
        "duration": 111,
        "start_time": "2022-11-05T09:05:58.034Z"
      },
      {
        "duration": 128,
        "start_time": "2022-11-05T09:07:08.862Z"
      },
      {
        "duration": 130,
        "start_time": "2022-11-05T09:07:16.546Z"
      },
      {
        "duration": 29,
        "start_time": "2022-11-05T09:08:11.657Z"
      },
      {
        "duration": 4,
        "start_time": "2022-11-05T09:08:20.569Z"
      },
      {
        "duration": 5,
        "start_time": "2022-11-05T09:08:25.264Z"
      },
      {
        "duration": 6,
        "start_time": "2022-11-05T09:08:28.231Z"
      },
      {
        "duration": 4,
        "start_time": "2022-11-05T09:08:33.840Z"
      },
      {
        "duration": 120,
        "start_time": "2022-11-05T09:08:41.895Z"
      },
      {
        "duration": 113,
        "start_time": "2022-11-05T09:08:52.520Z"
      },
      {
        "duration": 116,
        "start_time": "2022-11-05T09:09:09.614Z"
      },
      {
        "duration": 130,
        "start_time": "2022-11-05T09:10:00.104Z"
      },
      {
        "duration": 115,
        "start_time": "2022-11-05T09:10:36.735Z"
      },
      {
        "duration": 130,
        "start_time": "2022-11-05T09:10:38.751Z"
      },
      {
        "duration": 243,
        "start_time": "2022-11-05T09:10:54.527Z"
      },
      {
        "duration": 131,
        "start_time": "2022-11-05T09:11:23.423Z"
      },
      {
        "duration": 122,
        "start_time": "2022-11-05T09:11:37.120Z"
      },
      {
        "duration": 108,
        "start_time": "2022-11-05T09:12:13.703Z"
      },
      {
        "duration": 107,
        "start_time": "2022-11-05T09:12:18.055Z"
      },
      {
        "duration": 133,
        "start_time": "2022-11-05T09:12:25.557Z"
      },
      {
        "duration": 135,
        "start_time": "2022-11-05T09:12:51.495Z"
      },
      {
        "duration": 135,
        "start_time": "2022-11-05T09:12:55.183Z"
      },
      {
        "duration": 130,
        "start_time": "2022-11-05T09:13:02.872Z"
      },
      {
        "duration": 144,
        "start_time": "2022-11-05T09:13:12.391Z"
      },
      {
        "duration": 154,
        "start_time": "2022-11-05T09:13:17.399Z"
      },
      {
        "duration": 129,
        "start_time": "2022-11-05T09:13:38.269Z"
      },
      {
        "duration": 137,
        "start_time": "2022-11-05T09:14:16.344Z"
      },
      {
        "duration": 197,
        "start_time": "2022-11-05T09:14:31.424Z"
      },
      {
        "duration": 135,
        "start_time": "2022-11-05T09:14:43.030Z"
      },
      {
        "duration": 141,
        "start_time": "2022-11-05T09:14:57.317Z"
      },
      {
        "duration": 133,
        "start_time": "2022-11-05T09:15:06.287Z"
      },
      {
        "duration": 130,
        "start_time": "2022-11-05T09:15:14.169Z"
      },
      {
        "duration": 133,
        "start_time": "2022-11-05T09:15:26.254Z"
      },
      {
        "duration": 15,
        "start_time": "2022-11-05T09:19:51.604Z"
      },
      {
        "duration": 18,
        "start_time": "2022-11-05T09:22:11.506Z"
      },
      {
        "duration": 13,
        "start_time": "2022-11-05T09:22:32.028Z"
      },
      {
        "duration": 9,
        "start_time": "2022-11-05T09:22:39.331Z"
      },
      {
        "duration": 19,
        "start_time": "2022-11-05T09:23:54.925Z"
      },
      {
        "duration": 41,
        "start_time": "2022-11-05T09:24:04.244Z"
      },
      {
        "duration": 8,
        "start_time": "2022-11-05T09:24:34.587Z"
      },
      {
        "duration": 99,
        "start_time": "2022-11-05T09:24:59.758Z"
      },
      {
        "duration": 12,
        "start_time": "2022-11-05T09:25:05.283Z"
      },
      {
        "duration": 4,
        "start_time": "2022-11-05T09:25:06.320Z"
      },
      {
        "duration": 15,
        "start_time": "2022-11-05T09:25:08.025Z"
      },
      {
        "duration": 16,
        "start_time": "2022-11-05T09:25:52.545Z"
      },
      {
        "duration": 10,
        "start_time": "2022-11-05T09:26:00.121Z"
      },
      {
        "duration": 14,
        "start_time": "2022-11-05T09:26:21.970Z"
      },
      {
        "duration": 13,
        "start_time": "2022-11-05T09:26:28.410Z"
      },
      {
        "duration": 9,
        "start_time": "2022-11-05T09:27:53.817Z"
      },
      {
        "duration": 375,
        "start_time": "2022-11-05T09:27:57.552Z"
      },
      {
        "duration": 28,
        "start_time": "2022-11-05T09:28:03.169Z"
      },
      {
        "duration": 137,
        "start_time": "2022-11-05T09:28:16.139Z"
      },
      {
        "duration": 133,
        "start_time": "2022-11-05T09:28:18.586Z"
      },
      {
        "duration": 7,
        "start_time": "2022-11-05T09:37:25.860Z"
      },
      {
        "duration": 5,
        "start_time": "2022-11-05T09:37:39.877Z"
      },
      {
        "duration": 34,
        "start_time": "2022-11-05T09:37:54.278Z"
      },
      {
        "duration": 14,
        "start_time": "2022-11-05T09:38:20.192Z"
      },
      {
        "duration": 34,
        "start_time": "2022-11-05T09:38:31.278Z"
      },
      {
        "duration": 117,
        "start_time": "2022-11-05T09:41:36.709Z"
      },
      {
        "duration": 190,
        "start_time": "2022-11-05T09:58:32.905Z"
      },
      {
        "duration": 4,
        "start_time": "2022-11-05T10:01:56.085Z"
      },
      {
        "duration": 483,
        "start_time": "2022-11-05T10:01:58.327Z"
      },
      {
        "duration": 598,
        "start_time": "2022-11-05T10:02:06.916Z"
      },
      {
        "duration": 85,
        "start_time": "2022-11-05T10:02:20.208Z"
      },
      {
        "duration": 34,
        "start_time": "2022-11-05T10:02:20.295Z"
      },
      {
        "duration": 14,
        "start_time": "2022-11-05T10:02:20.330Z"
      },
      {
        "duration": 1938,
        "start_time": "2022-11-05T10:02:20.346Z"
      },
      {
        "duration": 9,
        "start_time": "2022-11-05T10:02:22.286Z"
      },
      {
        "duration": 14,
        "start_time": "2022-11-05T10:02:22.297Z"
      },
      {
        "duration": 11,
        "start_time": "2022-11-05T10:02:22.312Z"
      },
      {
        "duration": 21,
        "start_time": "2022-11-05T10:02:22.324Z"
      },
      {
        "duration": 103,
        "start_time": "2022-11-05T10:02:22.347Z"
      },
      {
        "duration": 5,
        "start_time": "2022-11-05T10:02:22.453Z"
      },
      {
        "duration": 14,
        "start_time": "2022-11-05T10:02:22.460Z"
      },
      {
        "duration": 6,
        "start_time": "2022-11-05T10:02:22.475Z"
      },
      {
        "duration": 32,
        "start_time": "2022-11-05T10:02:22.483Z"
      },
      {
        "duration": 2,
        "start_time": "2022-11-05T10:02:22.517Z"
      },
      {
        "duration": 13,
        "start_time": "2022-11-05T10:02:22.522Z"
      },
      {
        "duration": 47,
        "start_time": "2022-11-05T10:02:22.537Z"
      },
      {
        "duration": 4,
        "start_time": "2022-11-05T10:02:22.586Z"
      },
      {
        "duration": 17,
        "start_time": "2022-11-05T10:02:22.592Z"
      },
      {
        "duration": 30,
        "start_time": "2022-11-05T10:02:22.610Z"
      },
      {
        "duration": 4,
        "start_time": "2022-11-05T10:02:22.642Z"
      },
      {
        "duration": 16,
        "start_time": "2022-11-05T10:02:22.648Z"
      },
      {
        "duration": 6,
        "start_time": "2022-11-05T10:02:22.666Z"
      },
      {
        "duration": 351,
        "start_time": "2022-11-05T10:02:22.673Z"
      },
      {
        "duration": 29,
        "start_time": "2022-11-05T10:02:23.025Z"
      },
      {
        "duration": 4,
        "start_time": "2022-11-05T10:02:23.056Z"
      },
      {
        "duration": 12,
        "start_time": "2022-11-05T10:02:23.062Z"
      },
      {
        "duration": 154,
        "start_time": "2022-11-05T10:02:23.075Z"
      },
      {
        "duration": 166,
        "start_time": "2022-11-05T10:02:23.233Z"
      },
      {
        "duration": 151,
        "start_time": "2022-11-05T10:02:23.401Z"
      },
      {
        "duration": 238,
        "start_time": "2022-11-05T10:02:23.554Z"
      },
      {
        "duration": 138,
        "start_time": "2022-11-05T10:02:23.794Z"
      },
      {
        "duration": 144,
        "start_time": "2022-11-05T10:02:23.934Z"
      },
      {
        "duration": 137,
        "start_time": "2022-11-05T10:02:24.080Z"
      },
      {
        "duration": 120,
        "start_time": "2022-11-05T10:02:24.218Z"
      },
      {
        "duration": 175,
        "start_time": "2022-11-05T10:02:24.340Z"
      },
      {
        "duration": 152,
        "start_time": "2022-11-05T10:02:24.518Z"
      },
      {
        "duration": 122,
        "start_time": "2022-11-05T10:02:24.673Z"
      },
      {
        "duration": 153,
        "start_time": "2022-11-05T10:02:24.797Z"
      },
      {
        "duration": 135,
        "start_time": "2022-11-05T10:02:24.952Z"
      },
      {
        "duration": 132,
        "start_time": "2022-11-05T10:02:25.088Z"
      },
      {
        "duration": 10,
        "start_time": "2022-11-05T10:02:32.192Z"
      },
      {
        "duration": 8,
        "start_time": "2022-11-05T10:02:36.957Z"
      },
      {
        "duration": 8,
        "start_time": "2022-11-05T10:03:25.653Z"
      },
      {
        "duration": 143,
        "start_time": "2022-11-05T10:03:28.253Z"
      },
      {
        "duration": 12,
        "start_time": "2022-11-05T10:03:45.805Z"
      },
      {
        "duration": 15,
        "start_time": "2022-11-05T10:08:56.936Z"
      },
      {
        "duration": 154,
        "start_time": "2022-11-05T10:10:20.454Z"
      },
      {
        "duration": 89,
        "start_time": "2022-11-05T10:10:49.707Z"
      },
      {
        "duration": 29,
        "start_time": "2022-11-05T10:10:49.797Z"
      },
      {
        "duration": 17,
        "start_time": "2022-11-05T10:10:49.828Z"
      },
      {
        "duration": 1928,
        "start_time": "2022-11-05T10:10:49.847Z"
      },
      {
        "duration": 9,
        "start_time": "2022-11-05T10:10:51.776Z"
      },
      {
        "duration": 11,
        "start_time": "2022-11-05T10:10:51.786Z"
      },
      {
        "duration": 8,
        "start_time": "2022-11-05T10:10:51.809Z"
      },
      {
        "duration": 28,
        "start_time": "2022-11-05T10:10:51.818Z"
      },
      {
        "duration": 96,
        "start_time": "2022-11-05T10:10:51.848Z"
      },
      {
        "duration": 6,
        "start_time": "2022-11-05T10:10:51.946Z"
      },
      {
        "duration": 29,
        "start_time": "2022-11-05T10:10:51.954Z"
      },
      {
        "duration": 5,
        "start_time": "2022-11-05T10:10:51.984Z"
      },
      {
        "duration": 29,
        "start_time": "2022-11-05T10:10:51.991Z"
      },
      {
        "duration": 16,
        "start_time": "2022-11-05T10:10:52.021Z"
      },
      {
        "duration": 29,
        "start_time": "2022-11-05T10:10:52.039Z"
      },
      {
        "duration": 58,
        "start_time": "2022-11-05T10:10:52.069Z"
      },
      {
        "duration": 4,
        "start_time": "2022-11-05T10:10:52.129Z"
      },
      {
        "duration": 19,
        "start_time": "2022-11-05T10:10:52.135Z"
      },
      {
        "duration": 35,
        "start_time": "2022-11-05T10:10:52.156Z"
      },
      {
        "duration": 5,
        "start_time": "2022-11-05T10:10:52.192Z"
      },
      {
        "duration": 17,
        "start_time": "2022-11-05T10:10:52.199Z"
      },
      {
        "duration": 27,
        "start_time": "2022-11-05T10:10:52.217Z"
      },
      {
        "duration": 397,
        "start_time": "2022-11-05T10:10:52.245Z"
      },
      {
        "duration": 28,
        "start_time": "2022-11-05T10:10:52.645Z"
      },
      {
        "duration": 4,
        "start_time": "2022-11-05T10:10:52.675Z"
      },
      {
        "duration": 6,
        "start_time": "2022-11-05T10:10:52.681Z"
      },
      {
        "duration": 163,
        "start_time": "2022-11-05T10:10:52.688Z"
      },
      {
        "duration": 141,
        "start_time": "2022-11-05T10:10:52.855Z"
      },
      {
        "duration": 152,
        "start_time": "2022-11-05T10:10:52.998Z"
      },
      {
        "duration": 184,
        "start_time": "2022-11-05T10:10:53.152Z"
      },
      {
        "duration": 153,
        "start_time": "2022-11-05T10:10:53.338Z"
      },
      {
        "duration": 150,
        "start_time": "2022-11-05T10:10:53.492Z"
      },
      {
        "duration": 138,
        "start_time": "2022-11-05T10:10:53.644Z"
      },
      {
        "duration": 119,
        "start_time": "2022-11-05T10:10:53.783Z"
      },
      {
        "duration": 138,
        "start_time": "2022-11-05T10:10:53.908Z"
      },
      {
        "duration": 125,
        "start_time": "2022-11-05T10:10:54.048Z"
      },
      {
        "duration": 117,
        "start_time": "2022-11-05T10:10:54.175Z"
      },
      {
        "duration": 168,
        "start_time": "2022-11-05T10:10:54.294Z"
      },
      {
        "duration": 214,
        "start_time": "2022-11-05T10:10:54.464Z"
      },
      {
        "duration": 121,
        "start_time": "2022-11-05T10:10:54.679Z"
      },
      {
        "duration": 153,
        "start_time": "2022-11-05T10:10:54.802Z"
      },
      {
        "duration": 143,
        "start_time": "2022-11-05T10:10:59.142Z"
      },
      {
        "duration": 34,
        "start_time": "2022-11-05T10:12:30.238Z"
      },
      {
        "duration": 127,
        "start_time": "2022-11-05T10:15:59.910Z"
      },
      {
        "duration": 4,
        "start_time": "2022-11-05T10:23:24.867Z"
      },
      {
        "duration": 181,
        "start_time": "2022-11-05T10:24:03.235Z"
      },
      {
        "duration": 165,
        "start_time": "2022-11-05T10:24:13.628Z"
      },
      {
        "duration": 119,
        "start_time": "2022-11-05T10:26:37.673Z"
      },
      {
        "duration": 122,
        "start_time": "2022-11-05T10:27:37.107Z"
      },
      {
        "duration": 39,
        "start_time": "2022-11-05T10:29:36.762Z"
      },
      {
        "duration": 116,
        "start_time": "2022-11-05T10:29:43.642Z"
      },
      {
        "duration": 113,
        "start_time": "2022-11-05T10:30:01.129Z"
      },
      {
        "duration": 114,
        "start_time": "2022-11-05T10:31:51.641Z"
      },
      {
        "duration": 303,
        "start_time": "2022-11-05T10:32:00.754Z"
      },
      {
        "duration": 177,
        "start_time": "2022-11-05T10:34:13.839Z"
      },
      {
        "duration": 184,
        "start_time": "2022-11-05T10:35:40.530Z"
      },
      {
        "duration": 852,
        "start_time": "2022-11-05T10:36:28.703Z"
      },
      {
        "duration": 168,
        "start_time": "2022-11-05T10:36:32.863Z"
      },
      {
        "duration": 166,
        "start_time": "2022-11-05T10:49:10.188Z"
      },
      {
        "duration": 187,
        "start_time": "2022-11-05T10:51:30.531Z"
      },
      {
        "duration": 171,
        "start_time": "2022-11-05T10:51:52.195Z"
      },
      {
        "duration": 9,
        "start_time": "2022-11-05T10:59:44.985Z"
      },
      {
        "duration": 7,
        "start_time": "2022-11-05T11:00:41.929Z"
      },
      {
        "duration": 83,
        "start_time": "2022-11-05T17:00:50.969Z"
      },
      {
        "duration": 14,
        "start_time": "2022-11-05T17:00:53.670Z"
      },
      {
        "duration": 9,
        "start_time": "2022-11-05T17:00:57.389Z"
      },
      {
        "duration": 7,
        "start_time": "2022-11-05T17:01:16.405Z"
      },
      {
        "duration": 8,
        "start_time": "2022-11-05T17:01:18.660Z"
      },
      {
        "duration": 79,
        "start_time": "2022-11-05T17:01:24.880Z"
      },
      {
        "duration": 28,
        "start_time": "2022-11-05T17:01:24.961Z"
      },
      {
        "duration": 29,
        "start_time": "2022-11-05T17:01:24.990Z"
      },
      {
        "duration": 2044,
        "start_time": "2022-11-05T17:01:25.021Z"
      },
      {
        "duration": 9,
        "start_time": "2022-11-05T17:01:27.067Z"
      },
      {
        "duration": 3,
        "start_time": "2022-11-05T17:01:27.078Z"
      },
      {
        "duration": 9,
        "start_time": "2022-11-05T17:01:27.082Z"
      },
      {
        "duration": 31,
        "start_time": "2022-11-05T17:01:27.092Z"
      },
      {
        "duration": 111,
        "start_time": "2022-11-05T17:01:27.125Z"
      },
      {
        "duration": 5,
        "start_time": "2022-11-05T17:01:27.237Z"
      },
      {
        "duration": 15,
        "start_time": "2022-11-05T17:01:27.244Z"
      },
      {
        "duration": 9,
        "start_time": "2022-11-05T17:01:27.260Z"
      },
      {
        "duration": 18,
        "start_time": "2022-11-05T17:01:27.270Z"
      },
      {
        "duration": 5,
        "start_time": "2022-11-05T17:01:27.291Z"
      },
      {
        "duration": 21,
        "start_time": "2022-11-05T17:01:27.298Z"
      },
      {
        "duration": 34,
        "start_time": "2022-11-05T17:01:27.320Z"
      },
      {
        "duration": 5,
        "start_time": "2022-11-05T17:01:27.356Z"
      },
      {
        "duration": 11,
        "start_time": "2022-11-05T17:01:27.363Z"
      },
      {
        "duration": 13,
        "start_time": "2022-11-05T17:01:27.376Z"
      },
      {
        "duration": 22,
        "start_time": "2022-11-05T17:01:27.391Z"
      },
      {
        "duration": 12,
        "start_time": "2022-11-05T17:01:27.415Z"
      },
      {
        "duration": 5,
        "start_time": "2022-11-05T17:01:29.627Z"
      },
      {
        "duration": 2,
        "start_time": "2022-11-05T17:01:41.117Z"
      },
      {
        "duration": 82,
        "start_time": "2022-11-05T17:01:47.525Z"
      },
      {
        "duration": 9,
        "start_time": "2022-11-05T17:01:58.474Z"
      },
      {
        "duration": 7,
        "start_time": "2022-11-05T17:02:24.301Z"
      },
      {
        "duration": 84,
        "start_time": "2022-11-05T17:02:28.391Z"
      },
      {
        "duration": 29,
        "start_time": "2022-11-05T17:02:28.477Z"
      },
      {
        "duration": 15,
        "start_time": "2022-11-05T17:02:28.509Z"
      },
      {
        "duration": 2058,
        "start_time": "2022-11-05T17:02:28.526Z"
      },
      {
        "duration": 10,
        "start_time": "2022-11-05T17:02:30.586Z"
      },
      {
        "duration": 4,
        "start_time": "2022-11-05T17:02:30.608Z"
      },
      {
        "duration": 7,
        "start_time": "2022-11-05T17:02:30.613Z"
      },
      {
        "duration": 25,
        "start_time": "2022-11-05T17:02:30.622Z"
      },
      {
        "duration": 102,
        "start_time": "2022-11-05T17:02:30.648Z"
      },
      {
        "duration": 6,
        "start_time": "2022-11-05T17:02:30.752Z"
      },
      {
        "duration": 17,
        "start_time": "2022-11-05T17:02:30.760Z"
      },
      {
        "duration": 7,
        "start_time": "2022-11-05T17:02:30.778Z"
      },
      {
        "duration": 24,
        "start_time": "2022-11-05T17:02:30.786Z"
      },
      {
        "duration": 2,
        "start_time": "2022-11-05T17:02:30.812Z"
      },
      {
        "duration": 9,
        "start_time": "2022-11-05T17:02:30.816Z"
      },
      {
        "duration": 29,
        "start_time": "2022-11-05T17:02:30.827Z"
      },
      {
        "duration": 3,
        "start_time": "2022-11-05T17:02:30.858Z"
      },
      {
        "duration": 12,
        "start_time": "2022-11-05T17:02:30.863Z"
      },
      {
        "duration": 12,
        "start_time": "2022-11-05T17:02:30.876Z"
      },
      {
        "duration": 32,
        "start_time": "2022-11-05T17:02:30.889Z"
      },
      {
        "duration": 160,
        "start_time": "2022-11-05T17:03:15.804Z"
      },
      {
        "duration": 9,
        "start_time": "2022-11-05T17:04:26.172Z"
      },
      {
        "duration": 94,
        "start_time": "2022-11-05T17:04:41.654Z"
      },
      {
        "duration": 8,
        "start_time": "2022-11-05T17:04:45.012Z"
      },
      {
        "duration": 4,
        "start_time": "2022-11-05T17:05:21.931Z"
      },
      {
        "duration": 7,
        "start_time": "2022-11-05T17:05:27.004Z"
      },
      {
        "duration": 5,
        "start_time": "2022-11-05T17:05:37.601Z"
      },
      {
        "duration": 509,
        "start_time": "2022-11-05T17:05:51.491Z"
      },
      {
        "duration": 8,
        "start_time": "2022-11-05T17:06:14.069Z"
      },
      {
        "duration": 7,
        "start_time": "2022-11-05T17:07:46.691Z"
      },
      {
        "duration": 636,
        "start_time": "2022-11-05T17:08:23.794Z"
      },
      {
        "duration": 86,
        "start_time": "2022-11-05T17:08:38.665Z"
      },
      {
        "duration": 8,
        "start_time": "2022-11-05T17:08:58.139Z"
      },
      {
        "duration": 7,
        "start_time": "2022-11-05T17:09:14.331Z"
      },
      {
        "duration": 62,
        "start_time": "2022-11-05T17:09:18.250Z"
      },
      {
        "duration": 8,
        "start_time": "2022-11-05T17:10:03.221Z"
      },
      {
        "duration": 10,
        "start_time": "2022-11-05T17:10:20.993Z"
      },
      {
        "duration": 15,
        "start_time": "2022-11-05T17:10:35.963Z"
      },
      {
        "duration": 91,
        "start_time": "2022-11-05T17:10:46.802Z"
      },
      {
        "duration": 9,
        "start_time": "2022-11-05T17:10:51.378Z"
      },
      {
        "duration": 8,
        "start_time": "2022-11-05T17:11:11.098Z"
      },
      {
        "duration": 5,
        "start_time": "2022-11-05T17:11:14.261Z"
      },
      {
        "duration": 9,
        "start_time": "2022-11-05T17:11:17.481Z"
      },
      {
        "duration": 31,
        "start_time": "2022-11-05T17:11:21.525Z"
      },
      {
        "duration": 11,
        "start_time": "2022-11-05T17:11:25.625Z"
      },
      {
        "duration": 4,
        "start_time": "2022-11-05T17:14:01.603Z"
      },
      {
        "duration": 4,
        "start_time": "2022-11-05T17:14:13.698Z"
      },
      {
        "duration": 11,
        "start_time": "2022-11-05T17:16:00.690Z"
      },
      {
        "duration": 5,
        "start_time": "2022-11-05T17:16:01.753Z"
      },
      {
        "duration": 8,
        "start_time": "2022-11-05T17:16:15.810Z"
      },
      {
        "duration": 7,
        "start_time": "2022-11-05T17:16:28.224Z"
      },
      {
        "duration": 6,
        "start_time": "2022-11-05T17:16:29.616Z"
      },
      {
        "duration": 6,
        "start_time": "2022-11-05T17:16:31.272Z"
      },
      {
        "duration": 103,
        "start_time": "2022-11-05T17:16:34.368Z"
      },
      {
        "duration": 8,
        "start_time": "2022-11-05T17:16:42.721Z"
      },
      {
        "duration": 11,
        "start_time": "2022-11-05T17:16:44.457Z"
      },
      {
        "duration": 9,
        "start_time": "2022-11-05T17:16:45.503Z"
      },
      {
        "duration": 9,
        "start_time": "2022-11-05T17:17:14.763Z"
      },
      {
        "duration": 9,
        "start_time": "2022-11-05T17:17:16.208Z"
      },
      {
        "duration": 88,
        "start_time": "2022-11-05T17:17:29.952Z"
      },
      {
        "duration": 29,
        "start_time": "2022-11-05T17:17:30.042Z"
      },
      {
        "duration": 14,
        "start_time": "2022-11-05T17:17:30.073Z"
      },
      {
        "duration": 1974,
        "start_time": "2022-11-05T17:17:30.089Z"
      },
      {
        "duration": 9,
        "start_time": "2022-11-05T17:17:32.065Z"
      },
      {
        "duration": 8,
        "start_time": "2022-11-05T17:17:32.076Z"
      },
      {
        "duration": 24,
        "start_time": "2022-11-05T17:17:32.085Z"
      },
      {
        "duration": 18,
        "start_time": "2022-11-05T17:17:32.110Z"
      },
      {
        "duration": 102,
        "start_time": "2022-11-05T17:17:32.130Z"
      },
      {
        "duration": 7,
        "start_time": "2022-11-05T17:17:32.235Z"
      },
      {
        "duration": 198,
        "start_time": "2022-11-05T17:17:32.244Z"
      },
      {
        "duration": 14,
        "start_time": "2022-11-05T17:17:32.444Z"
      },
      {
        "duration": 5,
        "start_time": "2022-11-05T17:17:32.460Z"
      },
      {
        "duration": 12,
        "start_time": "2022-11-05T17:17:32.467Z"
      },
      {
        "duration": 2,
        "start_time": "2022-11-05T17:17:32.481Z"
      },
      {
        "duration": 29,
        "start_time": "2022-11-05T17:17:32.484Z"
      },
      {
        "duration": 31,
        "start_time": "2022-11-05T17:17:32.514Z"
      },
      {
        "duration": 4,
        "start_time": "2022-11-05T17:17:32.546Z"
      },
      {
        "duration": 9,
        "start_time": "2022-11-05T17:17:32.552Z"
      },
      {
        "duration": 9,
        "start_time": "2022-11-05T17:17:32.562Z"
      },
      {
        "duration": 8,
        "start_time": "2022-11-05T17:17:32.572Z"
      },
      {
        "duration": 30,
        "start_time": "2022-11-05T17:17:32.581Z"
      },
      {
        "duration": 30,
        "start_time": "2022-11-05T17:17:32.613Z"
      },
      {
        "duration": 5,
        "start_time": "2022-11-05T17:17:32.645Z"
      },
      {
        "duration": 5,
        "start_time": "2022-11-05T17:17:32.651Z"
      },
      {
        "duration": 4,
        "start_time": "2022-11-05T17:17:32.658Z"
      },
      {
        "duration": 321,
        "start_time": "2022-11-05T17:17:32.664Z"
      },
      {
        "duration": 34,
        "start_time": "2022-11-05T17:17:32.989Z"
      },
      {
        "duration": 3,
        "start_time": "2022-11-05T17:17:33.025Z"
      },
      {
        "duration": 155,
        "start_time": "2022-11-05T17:17:33.029Z"
      },
      {
        "duration": 134,
        "start_time": "2022-11-05T17:17:33.186Z"
      },
      {
        "duration": 155,
        "start_time": "2022-11-05T17:17:33.322Z"
      },
      {
        "duration": 174,
        "start_time": "2022-11-05T17:17:33.478Z"
      },
      {
        "duration": 135,
        "start_time": "2022-11-05T17:17:33.654Z"
      },
      {
        "duration": 140,
        "start_time": "2022-11-05T17:17:33.791Z"
      },
      {
        "duration": 145,
        "start_time": "2022-11-05T17:17:33.933Z"
      },
      {
        "duration": 114,
        "start_time": "2022-11-05T17:17:34.080Z"
      },
      {
        "duration": 147,
        "start_time": "2022-11-05T17:17:34.196Z"
      },
      {
        "duration": 149,
        "start_time": "2022-11-05T17:17:34.345Z"
      },
      {
        "duration": 146,
        "start_time": "2022-11-05T17:17:34.496Z"
      },
      {
        "duration": 142,
        "start_time": "2022-11-05T17:17:34.644Z"
      },
      {
        "duration": 140,
        "start_time": "2022-11-05T17:17:34.788Z"
      },
      {
        "duration": 138,
        "start_time": "2022-11-05T17:17:34.929Z"
      },
      {
        "duration": 2,
        "start_time": "2022-11-05T17:17:35.069Z"
      },
      {
        "duration": 128,
        "start_time": "2022-11-05T17:17:35.072Z"
      },
      {
        "duration": 182,
        "start_time": "2022-11-05T17:17:35.201Z"
      },
      {
        "duration": 171,
        "start_time": "2022-11-05T17:17:35.386Z"
      },
      {
        "duration": 154,
        "start_time": "2022-11-05T17:17:58.865Z"
      },
      {
        "duration": 165,
        "start_time": "2022-11-05T17:18:01.271Z"
      },
      {
        "duration": 87,
        "start_time": "2022-11-05T17:18:42.568Z"
      },
      {
        "duration": 27,
        "start_time": "2022-11-05T17:18:42.656Z"
      },
      {
        "duration": 25,
        "start_time": "2022-11-05T17:18:42.685Z"
      },
      {
        "duration": 2118,
        "start_time": "2022-11-05T17:18:42.713Z"
      },
      {
        "duration": 9,
        "start_time": "2022-11-05T17:18:44.832Z"
      },
      {
        "duration": 22,
        "start_time": "2022-11-05T17:18:44.842Z"
      },
      {
        "duration": 31,
        "start_time": "2022-11-05T17:18:44.866Z"
      },
      {
        "duration": 19,
        "start_time": "2022-11-05T17:18:44.899Z"
      },
      {
        "duration": 90,
        "start_time": "2022-11-05T17:18:44.919Z"
      },
      {
        "duration": 8,
        "start_time": "2022-11-05T17:18:45.012Z"
      },
      {
        "duration": 15,
        "start_time": "2022-11-05T17:18:45.021Z"
      },
      {
        "duration": 9,
        "start_time": "2022-11-05T17:18:45.038Z"
      },
      {
        "duration": 4,
        "start_time": "2022-11-05T17:18:45.049Z"
      },
      {
        "duration": 16,
        "start_time": "2022-11-05T17:18:45.054Z"
      },
      {
        "duration": 4,
        "start_time": "2022-11-05T17:18:45.072Z"
      },
      {
        "duration": 11,
        "start_time": "2022-11-05T17:18:45.078Z"
      },
      {
        "duration": 44,
        "start_time": "2022-11-05T17:18:45.091Z"
      },
      {
        "duration": 4,
        "start_time": "2022-11-05T17:18:45.137Z"
      },
      {
        "duration": 11,
        "start_time": "2022-11-05T17:18:45.142Z"
      },
      {
        "duration": 30,
        "start_time": "2022-11-05T17:18:45.154Z"
      },
      {
        "duration": 26,
        "start_time": "2022-11-05T17:18:45.185Z"
      },
      {
        "duration": 12,
        "start_time": "2022-11-05T17:18:45.213Z"
      },
      {
        "duration": 5,
        "start_time": "2022-11-05T17:18:45.227Z"
      },
      {
        "duration": 306,
        "start_time": "2022-11-05T17:18:45.233Z"
      },
      {
        "duration": 27,
        "start_time": "2022-11-05T17:18:45.541Z"
      },
      {
        "duration": 2,
        "start_time": "2022-11-05T17:18:45.570Z"
      },
      {
        "duration": 149,
        "start_time": "2022-11-05T17:18:45.573Z"
      },
      {
        "duration": 124,
        "start_time": "2022-11-05T17:18:45.726Z"
      },
      {
        "duration": 142,
        "start_time": "2022-11-05T17:18:45.852Z"
      },
      {
        "duration": 135,
        "start_time": "2022-11-05T17:18:45.995Z"
      },
      {
        "duration": 138,
        "start_time": "2022-11-05T17:18:46.132Z"
      },
      {
        "duration": 140,
        "start_time": "2022-11-05T17:18:46.272Z"
      },
      {
        "duration": 137,
        "start_time": "2022-11-05T17:18:46.413Z"
      },
      {
        "duration": 106,
        "start_time": "2022-11-05T17:18:46.552Z"
      },
      {
        "duration": 144,
        "start_time": "2022-11-05T17:18:46.659Z"
      },
      {
        "duration": 129,
        "start_time": "2022-11-05T17:18:46.805Z"
      },
      {
        "duration": 121,
        "start_time": "2022-11-05T17:18:46.936Z"
      },
      {
        "duration": 138,
        "start_time": "2022-11-05T17:18:47.059Z"
      },
      {
        "duration": 212,
        "start_time": "2022-11-05T17:18:47.199Z"
      },
      {
        "duration": 127,
        "start_time": "2022-11-05T17:18:47.412Z"
      },
      {
        "duration": 3,
        "start_time": "2022-11-05T17:18:47.540Z"
      },
      {
        "duration": 149,
        "start_time": "2022-11-05T17:18:47.544Z"
      },
      {
        "duration": 190,
        "start_time": "2022-11-05T17:18:47.694Z"
      },
      {
        "duration": 179,
        "start_time": "2022-11-05T17:18:47.885Z"
      },
      {
        "duration": 244,
        "start_time": "2022-11-05T17:18:48.065Z"
      },
      {
        "duration": 204,
        "start_time": "2022-11-05T17:18:48.509Z"
      },
      {
        "duration": 2,
        "start_time": "2022-11-05T17:19:46.140Z"
      },
      {
        "duration": 5,
        "start_time": "2022-11-05T17:20:00.430Z"
      },
      {
        "duration": 439,
        "start_time": "2022-11-05T17:20:08.416Z"
      },
      {
        "duration": 96,
        "start_time": "2022-11-05T17:20:36.883Z"
      },
      {
        "duration": 37,
        "start_time": "2022-11-05T17:20:36.981Z"
      },
      {
        "duration": 15,
        "start_time": "2022-11-05T17:20:37.020Z"
      },
      {
        "duration": 2109,
        "start_time": "2022-11-05T17:20:37.037Z"
      },
      {
        "duration": 10,
        "start_time": "2022-11-05T17:20:39.149Z"
      },
      {
        "duration": 4,
        "start_time": "2022-11-05T17:20:39.160Z"
      },
      {
        "duration": 6,
        "start_time": "2022-11-05T17:20:39.166Z"
      },
      {
        "duration": 43,
        "start_time": "2022-11-05T17:20:39.174Z"
      },
      {
        "duration": 110,
        "start_time": "2022-11-05T17:20:39.218Z"
      },
      {
        "duration": 8,
        "start_time": "2022-11-05T17:20:39.329Z"
      },
      {
        "duration": 6,
        "start_time": "2022-11-05T17:20:39.339Z"
      },
      {
        "duration": 9,
        "start_time": "2022-11-05T17:20:39.347Z"
      },
      {
        "duration": 4,
        "start_time": "2022-11-05T17:20:39.357Z"
      },
      {
        "duration": 9,
        "start_time": "2022-11-05T17:20:39.364Z"
      },
      {
        "duration": 2,
        "start_time": "2022-11-05T17:20:39.374Z"
      },
      {
        "duration": 34,
        "start_time": "2022-11-05T17:20:39.377Z"
      },
      {
        "duration": 30,
        "start_time": "2022-11-05T17:20:39.413Z"
      },
      {
        "duration": 4,
        "start_time": "2022-11-05T17:20:39.445Z"
      },
      {
        "duration": 8,
        "start_time": "2022-11-05T17:20:39.451Z"
      },
      {
        "duration": 62,
        "start_time": "2022-11-05T17:20:39.460Z"
      },
      {
        "duration": 4,
        "start_time": "2022-11-05T17:20:39.524Z"
      },
      {
        "duration": 5,
        "start_time": "2022-11-05T17:20:39.529Z"
      },
      {
        "duration": 5,
        "start_time": "2022-11-05T17:20:39.536Z"
      },
      {
        "duration": 311,
        "start_time": "2022-11-05T17:20:39.542Z"
      },
      {
        "duration": 26,
        "start_time": "2022-11-05T17:20:39.854Z"
      },
      {
        "duration": 2,
        "start_time": "2022-11-05T17:20:39.882Z"
      },
      {
        "duration": 164,
        "start_time": "2022-11-05T17:20:39.885Z"
      },
      {
        "duration": 138,
        "start_time": "2022-11-05T17:20:40.050Z"
      },
      {
        "duration": 139,
        "start_time": "2022-11-05T17:20:40.190Z"
      },
      {
        "duration": 151,
        "start_time": "2022-11-05T17:20:40.330Z"
      },
      {
        "duration": 142,
        "start_time": "2022-11-05T17:20:40.483Z"
      },
      {
        "duration": 140,
        "start_time": "2022-11-05T17:20:40.627Z"
      },
      {
        "duration": 142,
        "start_time": "2022-11-05T17:20:40.768Z"
      },
      {
        "duration": 121,
        "start_time": "2022-11-05T17:20:40.912Z"
      },
      {
        "duration": 149,
        "start_time": "2022-11-05T17:20:41.035Z"
      },
      {
        "duration": 126,
        "start_time": "2022-11-05T17:20:41.186Z"
      },
      {
        "duration": 120,
        "start_time": "2022-11-05T17:20:41.313Z"
      },
      {
        "duration": 145,
        "start_time": "2022-11-05T17:20:41.434Z"
      },
      {
        "duration": 149,
        "start_time": "2022-11-05T17:20:41.581Z"
      },
      {
        "duration": 125,
        "start_time": "2022-11-05T17:20:41.732Z"
      },
      {
        "duration": 2,
        "start_time": "2022-11-05T17:20:41.861Z"
      },
      {
        "duration": 136,
        "start_time": "2022-11-05T17:20:41.864Z"
      },
      {
        "duration": 407,
        "start_time": "2022-11-05T17:20:42.009Z"
      },
      {
        "duration": 191,
        "start_time": "2022-11-05T17:20:42.418Z"
      },
      {
        "duration": 182,
        "start_time": "2022-11-05T17:20:42.611Z"
      },
      {
        "duration": 185,
        "start_time": "2022-11-05T17:20:42.794Z"
      },
      {
        "duration": 15,
        "start_time": "2022-11-05T17:20:45.225Z"
      },
      {
        "duration": 405,
        "start_time": "2022-11-05T17:23:59.224Z"
      },
      {
        "duration": 143,
        "start_time": "2022-11-05T17:24:05.303Z"
      },
      {
        "duration": 4,
        "start_time": "2022-11-05T17:26:01.382Z"
      },
      {
        "duration": 177,
        "start_time": "2022-11-05T17:26:21.790Z"
      },
      {
        "duration": 2,
        "start_time": "2022-11-05T17:27:38.453Z"
      },
      {
        "duration": 9,
        "start_time": "2022-11-05T17:27:51.980Z"
      },
      {
        "duration": 8,
        "start_time": "2022-11-05T17:29:08.279Z"
      },
      {
        "duration": 9,
        "start_time": "2022-11-05T17:29:14.089Z"
      },
      {
        "duration": 8,
        "start_time": "2022-11-05T17:29:18.277Z"
      },
      {
        "duration": 116,
        "start_time": "2022-11-05T17:29:31.332Z"
      },
      {
        "duration": 11,
        "start_time": "2022-11-05T17:30:34.325Z"
      },
      {
        "duration": 11,
        "start_time": "2022-11-05T17:30:40.999Z"
      },
      {
        "duration": 12,
        "start_time": "2022-11-05T17:30:56.190Z"
      },
      {
        "duration": 47,
        "start_time": "2022-11-05T17:31:06.276Z"
      },
      {
        "duration": 8,
        "start_time": "2022-11-05T17:35:01.348Z"
      },
      {
        "duration": 161,
        "start_time": "2022-11-05T17:35:09.572Z"
      },
      {
        "duration": 174,
        "start_time": "2022-11-05T17:35:23.285Z"
      },
      {
        "duration": 161,
        "start_time": "2022-11-05T17:35:27.929Z"
      },
      {
        "duration": 166,
        "start_time": "2022-11-05T17:35:33.011Z"
      },
      {
        "duration": 136,
        "start_time": "2022-11-05T17:35:41.895Z"
      },
      {
        "duration": 123,
        "start_time": "2022-11-05T17:35:55.774Z"
      },
      {
        "duration": 14,
        "start_time": "2022-11-05T17:36:07.019Z"
      },
      {
        "duration": 161,
        "start_time": "2022-11-05T17:36:11.635Z"
      },
      {
        "duration": 149,
        "start_time": "2022-11-05T17:36:17.514Z"
      },
      {
        "duration": 146,
        "start_time": "2022-11-05T17:36:28.105Z"
      },
      {
        "duration": 136,
        "start_time": "2022-11-05T17:36:32.997Z"
      },
      {
        "duration": 130,
        "start_time": "2022-11-05T17:36:53.491Z"
      },
      {
        "duration": 115,
        "start_time": "2022-11-05T17:37:14.666Z"
      },
      {
        "duration": 198,
        "start_time": "2022-11-05T17:38:01.913Z"
      },
      {
        "duration": 184,
        "start_time": "2022-11-05T17:38:13.177Z"
      },
      {
        "duration": 135,
        "start_time": "2022-11-05T17:38:20.395Z"
      },
      {
        "duration": 259,
        "start_time": "2022-11-05T17:38:38.870Z"
      },
      {
        "duration": 134,
        "start_time": "2022-11-05T17:38:48.436Z"
      },
      {
        "duration": 151,
        "start_time": "2022-11-05T17:39:26.165Z"
      },
      {
        "duration": 153,
        "start_time": "2022-11-05T17:39:55.698Z"
      },
      {
        "duration": 140,
        "start_time": "2022-11-05T17:40:01.387Z"
      },
      {
        "duration": 13,
        "start_time": "2022-11-05T17:40:08.329Z"
      },
      {
        "duration": 14,
        "start_time": "2022-11-05T17:40:14.917Z"
      },
      {
        "duration": 18,
        "start_time": "2022-11-05T17:40:29.593Z"
      },
      {
        "duration": 21,
        "start_time": "2022-11-05T17:40:35.738Z"
      },
      {
        "duration": 87,
        "start_time": "2022-11-05T17:40:51.329Z"
      },
      {
        "duration": 26,
        "start_time": "2022-11-05T17:40:51.418Z"
      },
      {
        "duration": 15,
        "start_time": "2022-11-05T17:40:51.446Z"
      },
      {
        "duration": 2158,
        "start_time": "2022-11-05T17:40:51.462Z"
      },
      {
        "duration": 9,
        "start_time": "2022-11-05T17:40:53.622Z"
      },
      {
        "duration": 3,
        "start_time": "2022-11-05T17:40:53.632Z"
      },
      {
        "duration": 8,
        "start_time": "2022-11-05T17:40:53.637Z"
      },
      {
        "duration": 21,
        "start_time": "2022-11-05T17:40:53.646Z"
      },
      {
        "duration": 115,
        "start_time": "2022-11-05T17:40:53.669Z"
      },
      {
        "duration": 7,
        "start_time": "2022-11-05T17:40:53.786Z"
      },
      {
        "duration": 19,
        "start_time": "2022-11-05T17:40:53.794Z"
      },
      {
        "duration": 8,
        "start_time": "2022-11-05T17:40:53.815Z"
      },
      {
        "duration": 4,
        "start_time": "2022-11-05T17:40:53.824Z"
      },
      {
        "duration": 9,
        "start_time": "2022-11-05T17:40:53.831Z"
      },
      {
        "duration": 2,
        "start_time": "2022-11-05T17:40:53.841Z"
      },
      {
        "duration": 10,
        "start_time": "2022-11-05T17:40:53.845Z"
      },
      {
        "duration": 66,
        "start_time": "2022-11-05T17:40:53.856Z"
      },
      {
        "duration": 5,
        "start_time": "2022-11-05T17:40:53.924Z"
      },
      {
        "duration": 9,
        "start_time": "2022-11-05T17:40:53.931Z"
      },
      {
        "duration": 28,
        "start_time": "2022-11-05T17:40:53.942Z"
      },
      {
        "duration": 4,
        "start_time": "2022-11-05T17:40:53.972Z"
      },
      {
        "duration": 5,
        "start_time": "2022-11-05T17:40:53.977Z"
      },
      {
        "duration": 6,
        "start_time": "2022-11-05T17:40:54.010Z"
      },
      {
        "duration": 311,
        "start_time": "2022-11-05T17:40:54.017Z"
      },
      {
        "duration": 27,
        "start_time": "2022-11-05T17:40:54.330Z"
      },
      {
        "duration": 3,
        "start_time": "2022-11-05T17:40:54.358Z"
      },
      {
        "duration": 13,
        "start_time": "2022-11-05T17:40:54.363Z"
      },
      {
        "duration": 3,
        "start_time": "2022-11-05T17:40:54.378Z"
      },
      {
        "duration": 202,
        "start_time": "2022-11-05T17:40:54.383Z"
      },
      {
        "duration": 155,
        "start_time": "2022-11-05T17:40:54.588Z"
      },
      {
        "duration": 151,
        "start_time": "2022-11-05T17:40:54.745Z"
      },
      {
        "duration": 174,
        "start_time": "2022-11-05T17:40:54.898Z"
      },
      {
        "duration": 137,
        "start_time": "2022-11-05T17:40:55.074Z"
      },
      {
        "duration": 182,
        "start_time": "2022-11-05T17:40:55.213Z"
      },
      {
        "duration": 136,
        "start_time": "2022-11-05T17:40:55.397Z"
      },
      {
        "duration": 119,
        "start_time": "2022-11-05T17:40:55.535Z"
      },
      {
        "duration": 156,
        "start_time": "2022-11-05T17:40:55.656Z"
      },
      {
        "duration": 137,
        "start_time": "2022-11-05T17:40:55.814Z"
      },
      {
        "duration": 129,
        "start_time": "2022-11-05T17:40:55.953Z"
      },
      {
        "duration": 161,
        "start_time": "2022-11-05T17:40:56.084Z"
      },
      {
        "duration": 135,
        "start_time": "2022-11-05T17:40:56.251Z"
      },
      {
        "duration": 135,
        "start_time": "2022-11-05T17:40:56.388Z"
      },
      {
        "duration": 3,
        "start_time": "2022-11-05T17:40:56.524Z"
      },
      {
        "duration": 166,
        "start_time": "2022-11-05T17:40:56.528Z"
      },
      {
        "duration": 184,
        "start_time": "2022-11-05T17:40:56.696Z"
      },
      {
        "duration": 188,
        "start_time": "2022-11-05T17:40:56.882Z"
      },
      {
        "duration": 195,
        "start_time": "2022-11-05T17:40:57.071Z"
      },
      {
        "duration": 200,
        "start_time": "2022-11-05T17:40:57.267Z"
      },
      {
        "duration": 14,
        "start_time": "2022-11-05T17:40:57.468Z"
      },
      {
        "duration": 14,
        "start_time": "2022-11-05T17:41:03.616Z"
      },
      {
        "duration": 18,
        "start_time": "2022-11-05T17:42:06.257Z"
      },
      {
        "duration": 13,
        "start_time": "2022-11-05T17:42:13.040Z"
      },
      {
        "duration": 9,
        "start_time": "2022-11-05T17:42:47.687Z"
      },
      {
        "duration": 145,
        "start_time": "2022-11-05T17:43:16.504Z"
      },
      {
        "duration": 150,
        "start_time": "2022-11-05T17:44:34.032Z"
      },
      {
        "duration": 243,
        "start_time": "2022-11-05T17:44:53.000Z"
      },
      {
        "duration": 405,
        "start_time": "2022-11-05T17:45:10.529Z"
      },
      {
        "duration": 411,
        "start_time": "2022-11-05T17:45:27.034Z"
      },
      {
        "duration": 392,
        "start_time": "2022-11-05T17:45:44.792Z"
      },
      {
        "duration": 400,
        "start_time": "2022-11-05T17:45:53.717Z"
      },
      {
        "duration": 13,
        "start_time": "2022-11-05T17:46:34.128Z"
      },
      {
        "duration": 197,
        "start_time": "2022-11-05T17:46:46.232Z"
      },
      {
        "duration": 182,
        "start_time": "2022-11-05T17:46:48.478Z"
      },
      {
        "duration": 168,
        "start_time": "2022-11-05T17:46:50.814Z"
      },
      {
        "duration": 181,
        "start_time": "2022-11-05T17:46:52.886Z"
      },
      {
        "duration": 137,
        "start_time": "2022-11-05T17:46:58.550Z"
      },
      {
        "duration": 382,
        "start_time": "2022-11-05T17:47:09.630Z"
      },
      {
        "duration": 395,
        "start_time": "2022-11-05T17:47:31.583Z"
      },
      {
        "duration": 439,
        "start_time": "2022-11-05T17:48:25.006Z"
      },
      {
        "duration": 134,
        "start_time": "2022-11-05T17:48:38.663Z"
      },
      {
        "duration": 138,
        "start_time": "2022-11-05T17:49:05.712Z"
      },
      {
        "duration": 30,
        "start_time": "2022-11-05T17:49:33.685Z"
      },
      {
        "duration": 145,
        "start_time": "2022-11-05T17:49:50.302Z"
      },
      {
        "duration": 45,
        "start_time": "2022-11-05T17:50:02.023Z"
      },
      {
        "duration": 31,
        "start_time": "2022-11-05T17:50:07.033Z"
      },
      {
        "duration": 28,
        "start_time": "2022-11-05T17:50:38.760Z"
      },
      {
        "duration": 28,
        "start_time": "2022-11-05T17:51:22.550Z"
      },
      {
        "duration": 3,
        "start_time": "2022-11-05T17:54:13.210Z"
      },
      {
        "duration": 18,
        "start_time": "2022-11-05T17:54:26.233Z"
      },
      {
        "duration": 14,
        "start_time": "2022-11-05T17:54:40.799Z"
      },
      {
        "duration": 16,
        "start_time": "2022-11-05T17:54:50.676Z"
      },
      {
        "duration": 25,
        "start_time": "2022-11-05T17:57:24.265Z"
      },
      {
        "duration": 21,
        "start_time": "2022-11-05T17:58:41.603Z"
      },
      {
        "duration": 44,
        "start_time": "2022-11-05T18:00:17.413Z"
      },
      {
        "duration": 25,
        "start_time": "2022-11-05T18:00:59.195Z"
      },
      {
        "duration": 25,
        "start_time": "2022-11-05T18:01:25.068Z"
      },
      {
        "duration": 24,
        "start_time": "2022-11-05T18:01:41.172Z"
      },
      {
        "duration": 24,
        "start_time": "2022-11-05T18:01:45.963Z"
      },
      {
        "duration": 25,
        "start_time": "2022-11-05T18:01:49.672Z"
      },
      {
        "duration": 26,
        "start_time": "2022-11-05T18:02:04.010Z"
      },
      {
        "duration": 24,
        "start_time": "2022-11-05T18:02:15.889Z"
      },
      {
        "duration": 13,
        "start_time": "2022-11-05T18:07:02.913Z"
      },
      {
        "duration": 21,
        "start_time": "2022-11-05T18:07:07.922Z"
      },
      {
        "duration": 174,
        "start_time": "2022-11-05T18:07:41.493Z"
      },
      {
        "duration": 532,
        "start_time": "2022-11-05T18:08:28.226Z"
      },
      {
        "duration": 140,
        "start_time": "2022-11-05T18:08:37.937Z"
      },
      {
        "duration": 173,
        "start_time": "2022-11-05T18:10:36.546Z"
      },
      {
        "duration": 22,
        "start_time": "2022-11-05T18:10:51.073Z"
      },
      {
        "duration": 178,
        "start_time": "2022-11-05T18:11:00.459Z"
      },
      {
        "duration": 156,
        "start_time": "2022-11-05T18:11:07.379Z"
      },
      {
        "duration": 186,
        "start_time": "2022-11-05T18:11:13.928Z"
      },
      {
        "duration": 147,
        "start_time": "2022-11-05T18:11:37.032Z"
      },
      {
        "duration": 36,
        "start_time": "2022-11-05T18:11:47.853Z"
      },
      {
        "duration": 42,
        "start_time": "2022-11-05T18:12:13.968Z"
      },
      {
        "duration": 35,
        "start_time": "2022-11-05T18:12:21.183Z"
      },
      {
        "duration": 62,
        "start_time": "2022-11-05T18:13:18.595Z"
      },
      {
        "duration": 15,
        "start_time": "2022-11-05T18:15:25.901Z"
      },
      {
        "duration": 60,
        "start_time": "2022-11-05T18:15:35.138Z"
      },
      {
        "duration": 137,
        "start_time": "2022-11-05T18:17:45.583Z"
      },
      {
        "duration": 11,
        "start_time": "2022-11-06T13:23:14.568Z"
      },
      {
        "duration": 9,
        "start_time": "2022-11-06T13:23:16.107Z"
      },
      {
        "duration": 10,
        "start_time": "2022-11-06T13:31:18.515Z"
      },
      {
        "duration": 15,
        "start_time": "2022-11-06T13:31:22.351Z"
      },
      {
        "duration": 13,
        "start_time": "2022-11-06T13:37:40.387Z"
      },
      {
        "duration": 18,
        "start_time": "2022-11-06T13:38:17.998Z"
      },
      {
        "duration": 105,
        "start_time": "2022-11-06T13:38:24.056Z"
      },
      {
        "duration": 4,
        "start_time": "2022-11-06T13:38:34.679Z"
      },
      {
        "duration": 38,
        "start_time": "2022-11-06T13:38:36.838Z"
      },
      {
        "duration": 482,
        "start_time": "2022-11-06T13:39:15.895Z"
      },
      {
        "duration": 34,
        "start_time": "2022-11-06T13:39:20.690Z"
      },
      {
        "duration": 35,
        "start_time": "2022-11-06T13:39:37.674Z"
      },
      {
        "duration": 39,
        "start_time": "2022-11-06T13:39:47.277Z"
      },
      {
        "duration": 34,
        "start_time": "2022-11-06T13:40:10.025Z"
      },
      {
        "duration": 22,
        "start_time": "2022-11-06T13:40:23.270Z"
      },
      {
        "duration": 9,
        "start_time": "2022-11-06T13:41:23.366Z"
      },
      {
        "duration": 16,
        "start_time": "2022-11-06T13:41:24.663Z"
      },
      {
        "duration": 11,
        "start_time": "2022-11-06T13:41:57.609Z"
      },
      {
        "duration": 90,
        "start_time": "2022-11-06T13:42:01.118Z"
      },
      {
        "duration": 9,
        "start_time": "2022-11-06T13:42:10.806Z"
      },
      {
        "duration": 92,
        "start_time": "2022-11-06T13:42:13.506Z"
      },
      {
        "duration": 29,
        "start_time": "2022-11-06T13:42:13.600Z"
      },
      {
        "duration": 16,
        "start_time": "2022-11-06T13:42:13.630Z"
      },
      {
        "duration": 1915,
        "start_time": "2022-11-06T13:42:13.648Z"
      },
      {
        "duration": 8,
        "start_time": "2022-11-06T13:42:15.565Z"
      },
      {
        "duration": 3,
        "start_time": "2022-11-06T13:42:15.575Z"
      },
      {
        "duration": 6,
        "start_time": "2022-11-06T13:42:15.580Z"
      },
      {
        "duration": 37,
        "start_time": "2022-11-06T13:42:15.588Z"
      },
      {
        "duration": 101,
        "start_time": "2022-11-06T13:42:15.627Z"
      },
      {
        "duration": 8,
        "start_time": "2022-11-06T13:42:15.730Z"
      },
      {
        "duration": 7,
        "start_time": "2022-11-06T13:42:15.739Z"
      },
      {
        "duration": 11,
        "start_time": "2022-11-06T13:42:15.747Z"
      },
      {
        "duration": 5,
        "start_time": "2022-11-06T13:42:15.760Z"
      },
      {
        "duration": 42,
        "start_time": "2022-11-06T13:42:15.768Z"
      },
      {
        "duration": 3,
        "start_time": "2022-11-06T13:42:15.812Z"
      },
      {
        "duration": 13,
        "start_time": "2022-11-06T13:42:15.816Z"
      },
      {
        "duration": 34,
        "start_time": "2022-11-06T13:42:15.830Z"
      },
      {
        "duration": 4,
        "start_time": "2022-11-06T13:42:15.866Z"
      },
      {
        "duration": 19,
        "start_time": "2022-11-06T13:42:15.872Z"
      },
      {
        "duration": 44,
        "start_time": "2022-11-06T13:42:15.892Z"
      },
      {
        "duration": 5,
        "start_time": "2022-11-06T13:42:15.937Z"
      },
      {
        "duration": 5,
        "start_time": "2022-11-06T13:42:15.943Z"
      },
      {
        "duration": 5,
        "start_time": "2022-11-06T13:42:15.949Z"
      },
      {
        "duration": 325,
        "start_time": "2022-11-06T13:42:15.956Z"
      },
      {
        "duration": 33,
        "start_time": "2022-11-06T13:42:16.283Z"
      },
      {
        "duration": 4,
        "start_time": "2022-11-06T13:42:16.317Z"
      },
      {
        "duration": 11,
        "start_time": "2022-11-06T13:42:16.322Z"
      },
      {
        "duration": 14,
        "start_time": "2022-11-06T13:42:17.668Z"
      },
      {
        "duration": 9,
        "start_time": "2022-11-06T13:42:24.349Z"
      },
      {
        "duration": 87,
        "start_time": "2022-11-06T13:42:49.873Z"
      },
      {
        "duration": 28,
        "start_time": "2022-11-06T13:42:49.962Z"
      },
      {
        "duration": 23,
        "start_time": "2022-11-06T13:42:49.991Z"
      },
      {
        "duration": 1899,
        "start_time": "2022-11-06T13:42:50.016Z"
      },
      {
        "duration": 10,
        "start_time": "2022-11-06T13:42:51.918Z"
      },
      {
        "duration": 6,
        "start_time": "2022-11-06T13:42:51.930Z"
      },
      {
        "duration": 22,
        "start_time": "2022-11-06T13:42:51.937Z"
      },
      {
        "duration": 32,
        "start_time": "2022-11-06T13:42:51.960Z"
      },
      {
        "duration": 92,
        "start_time": "2022-11-06T13:42:51.993Z"
      },
      {
        "duration": 8,
        "start_time": "2022-11-06T13:42:52.087Z"
      },
      {
        "duration": 18,
        "start_time": "2022-11-06T13:42:52.096Z"
      },
      {
        "duration": 358,
        "start_time": "2022-11-06T13:42:52.115Z"
      },
      {
        "duration": 5,
        "start_time": "2022-11-06T13:42:52.474Z"
      },
      {
        "duration": 11,
        "start_time": "2022-11-06T13:42:52.482Z"
      },
      {
        "duration": 18,
        "start_time": "2022-11-06T13:42:52.495Z"
      },
      {
        "duration": 21,
        "start_time": "2022-11-06T13:42:52.514Z"
      },
      {
        "duration": 31,
        "start_time": "2022-11-06T13:42:52.537Z"
      },
      {
        "duration": 4,
        "start_time": "2022-11-06T13:42:52.570Z"
      },
      {
        "duration": 22,
        "start_time": "2022-11-06T13:42:52.576Z"
      },
      {
        "duration": 34,
        "start_time": "2022-11-06T13:42:52.599Z"
      },
      {
        "duration": 5,
        "start_time": "2022-11-06T13:42:52.634Z"
      },
      {
        "duration": 9,
        "start_time": "2022-11-06T13:42:52.641Z"
      },
      {
        "duration": 15,
        "start_time": "2022-11-06T13:42:52.652Z"
      },
      {
        "duration": 313,
        "start_time": "2022-11-06T13:42:52.669Z"
      },
      {
        "duration": 33,
        "start_time": "2022-11-06T13:42:52.984Z"
      },
      {
        "duration": 4,
        "start_time": "2022-11-06T13:42:53.019Z"
      },
      {
        "duration": 21,
        "start_time": "2022-11-06T13:42:53.024Z"
      },
      {
        "duration": 12,
        "start_time": "2022-11-06T13:42:53.047Z"
      },
      {
        "duration": 3,
        "start_time": "2022-11-06T13:42:53.061Z"
      },
      {
        "duration": 150,
        "start_time": "2022-11-06T13:42:53.065Z"
      },
      {
        "duration": 143,
        "start_time": "2022-11-06T13:42:53.217Z"
      },
      {
        "duration": 152,
        "start_time": "2022-11-06T13:42:53.361Z"
      },
      {
        "duration": 152,
        "start_time": "2022-11-06T13:42:53.514Z"
      },
      {
        "duration": 151,
        "start_time": "2022-11-06T13:42:53.668Z"
      },
      {
        "duration": 147,
        "start_time": "2022-11-06T13:42:53.820Z"
      },
      {
        "duration": 142,
        "start_time": "2022-11-06T13:42:53.968Z"
      },
      {
        "duration": 122,
        "start_time": "2022-11-06T13:42:54.112Z"
      },
      {
        "duration": 154,
        "start_time": "2022-11-06T13:42:54.236Z"
      },
      {
        "duration": 171,
        "start_time": "2022-11-06T13:42:54.392Z"
      },
      {
        "duration": 132,
        "start_time": "2022-11-06T13:42:54.566Z"
      },
      {
        "duration": 146,
        "start_time": "2022-11-06T13:42:54.709Z"
      },
      {
        "duration": 139,
        "start_time": "2022-11-06T13:42:54.856Z"
      },
      {
        "duration": 127,
        "start_time": "2022-11-06T13:42:54.997Z"
      },
      {
        "duration": 143,
        "start_time": "2022-11-06T13:42:55.126Z"
      },
      {
        "duration": 183,
        "start_time": "2022-11-06T13:42:55.271Z"
      },
      {
        "duration": 177,
        "start_time": "2022-11-06T13:42:55.455Z"
      },
      {
        "duration": 163,
        "start_time": "2022-11-06T13:42:55.633Z"
      },
      {
        "duration": 180,
        "start_time": "2022-11-06T13:42:55.798Z"
      },
      {
        "duration": 153,
        "start_time": "2022-11-06T13:42:55.979Z"
      },
      {
        "duration": 408,
        "start_time": "2022-11-06T13:42:56.134Z"
      },
      {
        "duration": 31,
        "start_time": "2022-11-06T13:43:48.917Z"
      },
      {
        "duration": 23,
        "start_time": "2022-11-06T13:44:17.734Z"
      },
      {
        "duration": 135,
        "start_time": "2022-11-06T13:50:29.289Z"
      },
      {
        "duration": 136,
        "start_time": "2022-11-06T13:50:47.179Z"
      },
      {
        "duration": 133,
        "start_time": "2022-11-06T13:50:56.189Z"
      },
      {
        "duration": 126,
        "start_time": "2022-11-06T13:51:13.928Z"
      },
      {
        "duration": 134,
        "start_time": "2022-11-06T13:51:21.164Z"
      },
      {
        "duration": 34,
        "start_time": "2022-11-06T14:03:01.432Z"
      },
      {
        "duration": 102,
        "start_time": "2022-11-06T14:04:26.599Z"
      },
      {
        "duration": 44,
        "start_time": "2022-11-06T14:04:37.230Z"
      },
      {
        "duration": 87,
        "start_time": "2022-11-06T14:04:47.846Z"
      },
      {
        "duration": 28,
        "start_time": "2022-11-06T14:04:47.935Z"
      },
      {
        "duration": 17,
        "start_time": "2022-11-06T14:04:47.965Z"
      },
      {
        "duration": 1903,
        "start_time": "2022-11-06T14:04:47.985Z"
      },
      {
        "duration": 19,
        "start_time": "2022-11-06T14:04:49.891Z"
      },
      {
        "duration": 3,
        "start_time": "2022-11-06T14:04:49.911Z"
      },
      {
        "duration": 7,
        "start_time": "2022-11-06T14:04:49.916Z"
      },
      {
        "duration": 19,
        "start_time": "2022-11-06T14:04:49.924Z"
      },
      {
        "duration": 113,
        "start_time": "2022-11-06T14:04:49.945Z"
      },
      {
        "duration": 8,
        "start_time": "2022-11-06T14:04:50.060Z"
      },
      {
        "duration": 6,
        "start_time": "2022-11-06T14:04:50.069Z"
      },
      {
        "duration": 11,
        "start_time": "2022-11-06T14:04:50.076Z"
      },
      {
        "duration": 23,
        "start_time": "2022-11-06T14:04:50.088Z"
      },
      {
        "duration": 8,
        "start_time": "2022-11-06T14:04:50.114Z"
      },
      {
        "duration": 2,
        "start_time": "2022-11-06T14:04:50.124Z"
      },
      {
        "duration": 13,
        "start_time": "2022-11-06T14:04:50.127Z"
      },
      {
        "duration": 32,
        "start_time": "2022-11-06T14:04:50.142Z"
      },
      {
        "duration": 4,
        "start_time": "2022-11-06T14:04:50.176Z"
      },
      {
        "duration": 32,
        "start_time": "2022-11-06T14:04:50.181Z"
      },
      {
        "duration": 29,
        "start_time": "2022-11-06T14:04:50.215Z"
      },
      {
        "duration": 5,
        "start_time": "2022-11-06T14:04:50.246Z"
      },
      {
        "duration": 8,
        "start_time": "2022-11-06T14:04:50.252Z"
      },
      {
        "duration": 8,
        "start_time": "2022-11-06T14:04:50.262Z"
      },
      {
        "duration": 306,
        "start_time": "2022-11-06T14:04:50.272Z"
      },
      {
        "duration": 32,
        "start_time": "2022-11-06T14:04:50.580Z"
      },
      {
        "duration": 3,
        "start_time": "2022-11-06T14:04:50.614Z"
      },
      {
        "duration": 13,
        "start_time": "2022-11-06T14:04:50.619Z"
      },
      {
        "duration": 9,
        "start_time": "2022-11-06T14:04:50.633Z"
      },
      {
        "duration": 5,
        "start_time": "2022-11-06T14:04:50.643Z"
      },
      {
        "duration": 148,
        "start_time": "2022-11-06T14:04:50.650Z"
      },
      {
        "duration": 9,
        "start_time": "2022-11-06T14:06:52.807Z"
      },
      {
        "duration": 132,
        "start_time": "2022-11-06T14:06:55.997Z"
      },
      {
        "duration": 126,
        "start_time": "2022-11-06T14:07:23.669Z"
      },
      {
        "duration": 125,
        "start_time": "2022-11-06T14:07:30.061Z"
      },
      {
        "duration": 533,
        "start_time": "2022-11-06T14:07:42.512Z"
      },
      {
        "duration": 133,
        "start_time": "2022-11-06T14:07:52.510Z"
      },
      {
        "duration": 125,
        "start_time": "2022-11-06T14:07:57.319Z"
      },
      {
        "duration": 140,
        "start_time": "2022-11-06T14:08:09.753Z"
      },
      {
        "duration": 151,
        "start_time": "2022-11-06T14:08:24.552Z"
      },
      {
        "duration": 151,
        "start_time": "2022-11-06T14:08:55.698Z"
      },
      {
        "duration": 164,
        "start_time": "2022-11-06T14:09:35.693Z"
      },
      {
        "duration": 172,
        "start_time": "2022-11-06T14:09:41.503Z"
      },
      {
        "duration": 146,
        "start_time": "2022-11-06T14:09:53.885Z"
      },
      {
        "duration": 135,
        "start_time": "2022-11-06T14:09:58.364Z"
      },
      {
        "duration": 144,
        "start_time": "2022-11-06T14:10:02.903Z"
      },
      {
        "duration": 137,
        "start_time": "2022-11-06T14:10:11.532Z"
      },
      {
        "duration": 127,
        "start_time": "2022-11-06T14:10:20.796Z"
      },
      {
        "duration": 127,
        "start_time": "2022-11-06T14:10:23.917Z"
      },
      {
        "duration": 156,
        "start_time": "2022-11-06T14:10:48.605Z"
      },
      {
        "duration": 183,
        "start_time": "2022-11-06T14:10:53.508Z"
      },
      {
        "duration": 126,
        "start_time": "2022-11-06T14:11:10.534Z"
      },
      {
        "duration": 128,
        "start_time": "2022-11-06T14:11:16.728Z"
      },
      {
        "duration": 122,
        "start_time": "2022-11-06T14:12:55.645Z"
      },
      {
        "duration": 117,
        "start_time": "2022-11-06T14:13:06.580Z"
      },
      {
        "duration": 126,
        "start_time": "2022-11-06T14:13:14.699Z"
      },
      {
        "duration": 148,
        "start_time": "2022-11-06T14:13:18.395Z"
      },
      {
        "duration": 140,
        "start_time": "2022-11-06T14:13:28.279Z"
      },
      {
        "duration": 129,
        "start_time": "2022-11-06T14:13:33.541Z"
      },
      {
        "duration": 122,
        "start_time": "2022-11-06T14:13:38.672Z"
      },
      {
        "duration": 118,
        "start_time": "2022-11-06T14:13:53.003Z"
      },
      {
        "duration": 134,
        "start_time": "2022-11-06T14:14:03.614Z"
      },
      {
        "duration": 137,
        "start_time": "2022-11-06T14:15:23.890Z"
      },
      {
        "duration": 133,
        "start_time": "2022-11-06T14:15:28.594Z"
      },
      {
        "duration": 167,
        "start_time": "2022-11-06T14:15:32.788Z"
      },
      {
        "duration": 131,
        "start_time": "2022-11-06T14:15:43.710Z"
      },
      {
        "duration": 173,
        "start_time": "2022-11-06T14:15:56.065Z"
      },
      {
        "duration": 138,
        "start_time": "2022-11-06T14:16:09.413Z"
      },
      {
        "duration": 158,
        "start_time": "2022-11-06T14:16:18.605Z"
      },
      {
        "duration": 141,
        "start_time": "2022-11-06T14:16:30.042Z"
      },
      {
        "duration": 135,
        "start_time": "2022-11-06T14:16:38.079Z"
      },
      {
        "duration": 160,
        "start_time": "2022-11-06T14:16:44.613Z"
      },
      {
        "duration": 153,
        "start_time": "2022-11-06T14:16:51.177Z"
      },
      {
        "duration": 146,
        "start_time": "2022-11-06T14:16:56.810Z"
      },
      {
        "duration": 127,
        "start_time": "2022-11-06T14:18:42.665Z"
      },
      {
        "duration": 131,
        "start_time": "2022-11-06T14:18:47.599Z"
      },
      {
        "duration": 132,
        "start_time": "2022-11-06T14:18:55.594Z"
      },
      {
        "duration": 106,
        "start_time": "2022-11-06T14:19:02.330Z"
      },
      {
        "duration": 127,
        "start_time": "2022-11-06T14:19:11.251Z"
      },
      {
        "duration": 144,
        "start_time": "2022-11-06T14:20:50.497Z"
      },
      {
        "duration": 144,
        "start_time": "2022-11-06T14:20:56.172Z"
      },
      {
        "duration": 127,
        "start_time": "2022-11-06T14:21:33.478Z"
      },
      {
        "duration": 35,
        "start_time": "2022-11-06T14:22:19.465Z"
      },
      {
        "duration": 129,
        "start_time": "2022-11-06T14:23:59.689Z"
      },
      {
        "duration": 145,
        "start_time": "2022-11-06T14:24:04.243Z"
      },
      {
        "duration": 137,
        "start_time": "2022-11-06T14:24:35.089Z"
      },
      {
        "duration": 116,
        "start_time": "2022-11-06T14:24:41.399Z"
      },
      {
        "duration": 123,
        "start_time": "2022-11-06T14:24:45.776Z"
      },
      {
        "duration": 132,
        "start_time": "2022-11-06T14:24:58.083Z"
      },
      {
        "duration": 122,
        "start_time": "2022-11-06T14:25:01.896Z"
      },
      {
        "duration": 186,
        "start_time": "2022-11-06T14:25:05.896Z"
      },
      {
        "duration": 125,
        "start_time": "2022-11-06T14:25:12.736Z"
      },
      {
        "duration": 40,
        "start_time": "2022-11-06T14:25:45.621Z"
      },
      {
        "duration": 37,
        "start_time": "2022-11-06T14:25:48.711Z"
      },
      {
        "duration": 38,
        "start_time": "2022-11-06T14:25:50.994Z"
      },
      {
        "duration": 37,
        "start_time": "2022-11-06T14:25:53.609Z"
      },
      {
        "duration": 37,
        "start_time": "2022-11-06T14:25:58.408Z"
      },
      {
        "duration": 43,
        "start_time": "2022-11-06T14:26:03.622Z"
      },
      {
        "duration": 36,
        "start_time": "2022-11-06T14:26:30.608Z"
      },
      {
        "duration": 131,
        "start_time": "2022-11-06T14:28:02.462Z"
      },
      {
        "duration": 122,
        "start_time": "2022-11-06T14:29:02.774Z"
      },
      {
        "duration": 145,
        "start_time": "2022-11-06T14:29:17.238Z"
      },
      {
        "duration": 144,
        "start_time": "2022-11-06T14:29:26.942Z"
      },
      {
        "duration": 141,
        "start_time": "2022-11-06T14:29:57.177Z"
      },
      {
        "duration": 95,
        "start_time": "2022-11-06T14:30:09.320Z"
      },
      {
        "duration": 28,
        "start_time": "2022-11-06T14:30:09.417Z"
      },
      {
        "duration": 15,
        "start_time": "2022-11-06T14:30:09.447Z"
      },
      {
        "duration": 2521,
        "start_time": "2022-11-06T14:30:09.464Z"
      },
      {
        "duration": 22,
        "start_time": "2022-11-06T14:30:11.987Z"
      },
      {
        "duration": 4,
        "start_time": "2022-11-06T14:30:12.010Z"
      },
      {
        "duration": 9,
        "start_time": "2022-11-06T14:30:12.016Z"
      },
      {
        "duration": 28,
        "start_time": "2022-11-06T14:30:12.026Z"
      },
      {
        "duration": 105,
        "start_time": "2022-11-06T14:30:12.056Z"
      },
      {
        "duration": 7,
        "start_time": "2022-11-06T14:30:12.164Z"
      },
      {
        "duration": 12,
        "start_time": "2022-11-06T14:30:12.173Z"
      },
      {
        "duration": 12,
        "start_time": "2022-11-06T14:30:12.186Z"
      },
      {
        "duration": 5,
        "start_time": "2022-11-06T14:30:12.208Z"
      },
      {
        "duration": 9,
        "start_time": "2022-11-06T14:30:12.215Z"
      },
      {
        "duration": 2,
        "start_time": "2022-11-06T14:30:12.226Z"
      },
      {
        "duration": 10,
        "start_time": "2022-11-06T14:30:12.230Z"
      },
      {
        "duration": 34,
        "start_time": "2022-11-06T14:30:12.242Z"
      },
      {
        "duration": 5,
        "start_time": "2022-11-06T14:30:12.277Z"
      },
      {
        "duration": 9,
        "start_time": "2022-11-06T14:30:12.308Z"
      },
      {
        "duration": 33,
        "start_time": "2022-11-06T14:30:12.319Z"
      },
      {
        "duration": 5,
        "start_time": "2022-11-06T14:30:12.353Z"
      },
      {
        "duration": 5,
        "start_time": "2022-11-06T14:30:12.359Z"
      },
      {
        "duration": 8,
        "start_time": "2022-11-06T14:30:12.366Z"
      },
      {
        "duration": 319,
        "start_time": "2022-11-06T14:30:12.376Z"
      },
      {
        "duration": 29,
        "start_time": "2022-11-06T14:30:12.697Z"
      },
      {
        "duration": 4,
        "start_time": "2022-11-06T14:30:12.727Z"
      },
      {
        "duration": 16,
        "start_time": "2022-11-06T14:30:12.733Z"
      },
      {
        "duration": 14,
        "start_time": "2022-11-06T14:30:12.752Z"
      },
      {
        "duration": 10,
        "start_time": "2022-11-06T14:30:12.768Z"
      },
      {
        "duration": 59,
        "start_time": "2022-11-06T14:30:12.781Z"
      },
      {
        "duration": 3,
        "start_time": "2022-11-06T14:30:12.842Z"
      },
      {
        "duration": 148,
        "start_time": "2022-11-06T14:30:12.846Z"
      },
      {
        "duration": 162,
        "start_time": "2022-11-06T14:30:12.995Z"
      },
      {
        "duration": 159,
        "start_time": "2022-11-06T14:30:13.158Z"
      },
      {
        "duration": 143,
        "start_time": "2022-11-06T14:30:13.318Z"
      },
      {
        "duration": 136,
        "start_time": "2022-11-06T14:30:13.463Z"
      },
      {
        "duration": 163,
        "start_time": "2022-11-06T14:30:13.608Z"
      },
      {
        "duration": 113,
        "start_time": "2022-11-06T14:30:13.773Z"
      },
      {
        "duration": 155,
        "start_time": "2022-11-06T14:31:04.473Z"
      },
      {
        "duration": 163,
        "start_time": "2022-11-06T14:31:18.072Z"
      },
      {
        "duration": 149,
        "start_time": "2022-11-06T14:32:21.886Z"
      },
      {
        "duration": 157,
        "start_time": "2022-11-06T14:32:37.989Z"
      },
      {
        "duration": 141,
        "start_time": "2022-11-06T14:32:47.880Z"
      },
      {
        "duration": 130,
        "start_time": "2022-11-06T14:32:57.326Z"
      },
      {
        "duration": 121,
        "start_time": "2022-11-06T14:33:10.662Z"
      },
      {
        "duration": 127,
        "start_time": "2022-11-06T14:33:28.029Z"
      },
      {
        "duration": 152,
        "start_time": "2022-11-06T14:37:46.076Z"
      },
      {
        "duration": 130,
        "start_time": "2022-11-06T14:40:00.645Z"
      },
      {
        "duration": 129,
        "start_time": "2022-11-06T14:40:13.647Z"
      },
      {
        "duration": 116,
        "start_time": "2022-11-06T14:41:31.938Z"
      },
      {
        "duration": 130,
        "start_time": "2022-11-06T14:41:46.710Z"
      },
      {
        "duration": 118,
        "start_time": "2022-11-06T14:42:43.675Z"
      },
      {
        "duration": 125,
        "start_time": "2022-11-06T14:42:55.411Z"
      },
      {
        "duration": 122,
        "start_time": "2022-11-06T14:43:03.595Z"
      },
      {
        "duration": 44,
        "start_time": "2022-11-06T14:46:55.207Z"
      },
      {
        "duration": 112,
        "start_time": "2022-11-06T14:48:07.591Z"
      },
      {
        "duration": 119,
        "start_time": "2022-11-06T14:48:28.866Z"
      },
      {
        "duration": 112,
        "start_time": "2022-11-06T14:48:42.491Z"
      },
      {
        "duration": 166,
        "start_time": "2022-11-06T14:49:21.417Z"
      },
      {
        "duration": 47,
        "start_time": "2022-11-06T14:50:08.982Z"
      },
      {
        "duration": 171,
        "start_time": "2022-11-06T14:51:27.809Z"
      },
      {
        "duration": 144,
        "start_time": "2022-11-06T14:54:38.588Z"
      },
      {
        "duration": 8,
        "start_time": "2022-11-06T14:55:04.329Z"
      },
      {
        "duration": 282,
        "start_time": "2022-11-06T14:55:22.540Z"
      },
      {
        "duration": 181,
        "start_time": "2022-11-06T14:55:34.577Z"
      },
      {
        "duration": 13,
        "start_time": "2022-11-06T14:55:58.839Z"
      },
      {
        "duration": 152,
        "start_time": "2022-11-06T14:56:03.027Z"
      },
      {
        "duration": 123,
        "start_time": "2022-11-06T14:59:01.063Z"
      },
      {
        "duration": 131,
        "start_time": "2022-11-06T14:59:11.839Z"
      },
      {
        "duration": 117,
        "start_time": "2022-11-06T14:59:15.863Z"
      },
      {
        "duration": 142,
        "start_time": "2022-11-06T14:59:22.559Z"
      },
      {
        "duration": 140,
        "start_time": "2022-11-06T14:59:26.456Z"
      },
      {
        "duration": 122,
        "start_time": "2022-11-06T14:59:51.136Z"
      },
      {
        "duration": 134,
        "start_time": "2022-11-06T14:59:59.415Z"
      },
      {
        "duration": 13,
        "start_time": "2022-11-06T15:05:43.515Z"
      },
      {
        "duration": 13,
        "start_time": "2022-11-06T15:06:08.277Z"
      },
      {
        "duration": 12,
        "start_time": "2022-11-06T15:06:19.237Z"
      },
      {
        "duration": 14,
        "start_time": "2022-11-06T15:06:26.580Z"
      },
      {
        "duration": 62,
        "start_time": "2022-11-09T18:19:19.100Z"
      },
      {
        "duration": 493,
        "start_time": "2022-11-09T18:19:24.895Z"
      },
      {
        "duration": 21,
        "start_time": "2022-11-09T18:19:28.206Z"
      },
      {
        "duration": 2604,
        "start_time": "2022-11-09T18:19:30.526Z"
      },
      {
        "duration": 8,
        "start_time": "2022-11-09T18:19:57.018Z"
      },
      {
        "duration": 126,
        "start_time": "2022-11-09T18:20:41.340Z"
      },
      {
        "duration": 2080,
        "start_time": "2022-11-09T18:20:45.076Z"
      },
      {
        "duration": 2,
        "start_time": "2022-11-09T18:24:28.784Z"
      },
      {
        "duration": 70,
        "start_time": "2022-11-09T18:24:45.794Z"
      },
      {
        "duration": 8,
        "start_time": "2022-11-09T18:25:00.430Z"
      },
      {
        "duration": 8,
        "start_time": "2022-11-09T18:25:50.376Z"
      },
      {
        "duration": 74,
        "start_time": "2022-11-09T18:26:58.032Z"
      },
      {
        "duration": 10,
        "start_time": "2022-11-09T18:28:15.872Z"
      },
      {
        "duration": 81,
        "start_time": "2022-11-09T18:30:44.220Z"
      },
      {
        "duration": 31,
        "start_time": "2022-11-09T18:30:44.303Z"
      },
      {
        "duration": 34,
        "start_time": "2022-11-09T18:30:44.335Z"
      },
      {
        "duration": 2061,
        "start_time": "2022-11-09T18:30:44.372Z"
      },
      {
        "duration": 19,
        "start_time": "2022-11-09T18:30:46.436Z"
      },
      {
        "duration": 3,
        "start_time": "2022-11-09T18:30:46.457Z"
      },
      {
        "duration": 9,
        "start_time": "2022-11-09T18:30:46.461Z"
      },
      {
        "duration": 19,
        "start_time": "2022-11-09T18:30:46.472Z"
      },
      {
        "duration": 151,
        "start_time": "2022-11-09T18:30:46.493Z"
      },
      {
        "duration": 18,
        "start_time": "2022-11-09T18:30:46.647Z"
      },
      {
        "duration": 8,
        "start_time": "2022-11-09T18:30:46.667Z"
      },
      {
        "duration": 13,
        "start_time": "2022-11-09T18:30:46.677Z"
      },
      {
        "duration": 7,
        "start_time": "2022-11-09T18:30:46.691Z"
      },
      {
        "duration": 18,
        "start_time": "2022-11-09T18:30:46.699Z"
      },
      {
        "duration": 4,
        "start_time": "2022-11-09T18:30:46.718Z"
      },
      {
        "duration": 12,
        "start_time": "2022-11-09T18:30:46.755Z"
      },
      {
        "duration": 47,
        "start_time": "2022-11-09T18:30:46.770Z"
      },
      {
        "duration": 13,
        "start_time": "2022-11-09T18:48:24.959Z"
      },
      {
        "duration": 13,
        "start_time": "2022-11-09T18:49:27.675Z"
      },
      {
        "duration": 18,
        "start_time": "2022-11-09T18:49:35.753Z"
      },
      {
        "duration": 12,
        "start_time": "2022-11-09T19:20:26.500Z"
      },
      {
        "duration": 8,
        "start_time": "2022-11-09T19:20:57.308Z"
      },
      {
        "duration": 27,
        "start_time": "2022-11-09T19:21:03.364Z"
      },
      {
        "duration": 29,
        "start_time": "2022-11-09T19:21:29.026Z"
      },
      {
        "duration": 32,
        "start_time": "2022-11-09T19:21:44.597Z"
      },
      {
        "duration": 36,
        "start_time": "2022-11-09T19:22:25.252Z"
      },
      {
        "duration": 37,
        "start_time": "2022-11-09T19:22:34.604Z"
      },
      {
        "duration": 30,
        "start_time": "2022-11-09T19:22:39.564Z"
      },
      {
        "duration": 30,
        "start_time": "2022-11-09T19:24:29.515Z"
      },
      {
        "duration": 48,
        "start_time": "2022-11-09T19:24:42.975Z"
      },
      {
        "duration": 96,
        "start_time": "2022-11-09T19:24:53.244Z"
      },
      {
        "duration": 770,
        "start_time": "2022-11-09T19:27:21.251Z"
      },
      {
        "duration": 58,
        "start_time": "2022-11-09T19:27:22.024Z"
      },
      {
        "duration": 22,
        "start_time": "2022-11-09T19:27:22.085Z"
      },
      {
        "duration": 2521,
        "start_time": "2022-11-09T19:27:22.109Z"
      },
      {
        "duration": 15,
        "start_time": "2022-11-09T19:27:24.632Z"
      },
      {
        "duration": 22,
        "start_time": "2022-11-09T19:27:24.649Z"
      },
      {
        "duration": 18,
        "start_time": "2022-11-09T19:27:24.674Z"
      },
      {
        "duration": 34,
        "start_time": "2022-11-09T19:27:24.694Z"
      },
      {
        "duration": 111,
        "start_time": "2022-11-09T19:27:24.730Z"
      },
      {
        "duration": 23,
        "start_time": "2022-11-09T19:27:24.843Z"
      },
      {
        "duration": 10,
        "start_time": "2022-11-09T19:27:24.869Z"
      },
      {
        "duration": 11,
        "start_time": "2022-11-09T19:27:24.881Z"
      },
      {
        "duration": 9,
        "start_time": "2022-11-09T19:27:24.893Z"
      },
      {
        "duration": 13,
        "start_time": "2022-11-09T19:27:24.907Z"
      },
      {
        "duration": 3,
        "start_time": "2022-11-09T19:27:24.921Z"
      },
      {
        "duration": 16,
        "start_time": "2022-11-09T19:27:24.961Z"
      },
      {
        "duration": 46,
        "start_time": "2022-11-09T19:27:24.979Z"
      },
      {
        "duration": 8,
        "start_time": "2022-11-09T19:27:57.231Z"
      },
      {
        "duration": 47,
        "start_time": "2022-11-09T19:27:57.241Z"
      },
      {
        "duration": 5,
        "start_time": "2022-11-09T19:27:57.290Z"
      },
      {
        "duration": 5,
        "start_time": "2022-11-09T19:27:57.297Z"
      },
      {
        "duration": 8,
        "start_time": "2022-11-09T19:27:57.303Z"
      },
      {
        "duration": 310,
        "start_time": "2022-11-09T19:27:57.312Z"
      },
      {
        "duration": 55,
        "start_time": "2022-11-09T19:27:57.624Z"
      },
      {
        "duration": 5,
        "start_time": "2022-11-09T19:27:57.681Z"
      },
      {
        "duration": 23,
        "start_time": "2022-11-09T19:27:57.688Z"
      },
      {
        "duration": 12,
        "start_time": "2022-11-09T19:27:57.713Z"
      },
      {
        "duration": 13,
        "start_time": "2022-11-09T19:27:57.727Z"
      },
      {
        "duration": 41,
        "start_time": "2022-11-09T19:27:57.742Z"
      },
      {
        "duration": 2,
        "start_time": "2022-11-09T19:27:57.784Z"
      },
      {
        "duration": 156,
        "start_time": "2022-11-09T19:27:57.788Z"
      },
      {
        "duration": 228,
        "start_time": "2022-11-09T19:27:57.945Z"
      },
      {
        "duration": 145,
        "start_time": "2022-11-09T19:27:58.175Z"
      },
      {
        "duration": 157,
        "start_time": "2022-11-09T19:27:58.321Z"
      },
      {
        "duration": 137,
        "start_time": "2022-11-09T19:27:58.479Z"
      },
      {
        "duration": 156,
        "start_time": "2022-11-09T19:27:58.618Z"
      },
      {
        "duration": 162,
        "start_time": "2022-11-09T19:27:58.775Z"
      },
      {
        "duration": 131,
        "start_time": "2022-11-09T19:27:58.939Z"
      },
      {
        "duration": 161,
        "start_time": "2022-11-09T19:27:59.071Z"
      },
      {
        "duration": 154,
        "start_time": "2022-11-09T19:27:59.236Z"
      },
      {
        "duration": 145,
        "start_time": "2022-11-09T19:27:59.391Z"
      },
      {
        "duration": 162,
        "start_time": "2022-11-09T19:27:59.538Z"
      },
      {
        "duration": 218,
        "start_time": "2022-11-09T19:27:59.702Z"
      },
      {
        "duration": 140,
        "start_time": "2022-11-09T19:27:59.922Z"
      },
      {
        "duration": 122,
        "start_time": "2022-11-09T19:28:00.072Z"
      },
      {
        "duration": 180,
        "start_time": "2022-11-09T19:28:00.195Z"
      },
      {
        "duration": 182,
        "start_time": "2022-11-09T19:28:00.377Z"
      },
      {
        "duration": 168,
        "start_time": "2022-11-09T19:28:00.569Z"
      },
      {
        "duration": 199,
        "start_time": "2022-11-09T19:28:00.739Z"
      },
      {
        "duration": 164,
        "start_time": "2022-11-09T19:28:00.940Z"
      },
      {
        "duration": 379,
        "start_time": "2022-11-09T19:28:01.105Z"
      },
      {
        "duration": 22,
        "start_time": "2022-11-09T19:28:01.486Z"
      },
      {
        "duration": 708,
        "start_time": "2022-11-09T19:28:27.781Z"
      },
      {
        "duration": 31,
        "start_time": "2022-11-09T19:28:28.491Z"
      },
      {
        "duration": 14,
        "start_time": "2022-11-09T19:28:28.524Z"
      },
      {
        "duration": 2113,
        "start_time": "2022-11-09T19:28:28.555Z"
      },
      {
        "duration": 9,
        "start_time": "2022-11-09T19:28:30.671Z"
      },
      {
        "duration": 20,
        "start_time": "2022-11-09T19:28:30.682Z"
      },
      {
        "duration": 32,
        "start_time": "2022-11-09T19:28:30.703Z"
      },
      {
        "duration": 29,
        "start_time": "2022-11-09T19:28:30.737Z"
      },
      {
        "duration": 104,
        "start_time": "2022-11-09T19:28:30.769Z"
      },
      {
        "duration": 10,
        "start_time": "2022-11-09T19:28:30.875Z"
      },
      {
        "duration": 38,
        "start_time": "2022-11-09T19:28:30.887Z"
      },
      {
        "duration": 19,
        "start_time": "2022-11-09T19:28:30.927Z"
      },
      {
        "duration": 37,
        "start_time": "2022-11-09T19:28:30.947Z"
      },
      {
        "duration": 23,
        "start_time": "2022-11-09T19:28:30.986Z"
      },
      {
        "duration": 17,
        "start_time": "2022-11-09T19:28:31.011Z"
      },
      {
        "duration": 75,
        "start_time": "2022-11-09T19:28:31.029Z"
      },
      {
        "duration": 60,
        "start_time": "2022-11-09T19:28:31.106Z"
      },
      {
        "duration": 5,
        "start_time": "2022-11-09T19:28:31.169Z"
      },
      {
        "duration": 13,
        "start_time": "2022-11-09T19:28:31.175Z"
      },
      {
        "duration": 29,
        "start_time": "2022-11-09T19:28:31.190Z"
      },
      {
        "duration": 5,
        "start_time": "2022-11-09T19:28:31.220Z"
      },
      {
        "duration": 8,
        "start_time": "2022-11-09T19:28:31.227Z"
      },
      {
        "duration": 23,
        "start_time": "2022-11-09T19:28:31.237Z"
      },
      {
        "duration": 302,
        "start_time": "2022-11-09T19:28:31.261Z"
      },
      {
        "duration": 29,
        "start_time": "2022-11-09T19:28:31.564Z"
      },
      {
        "duration": 4,
        "start_time": "2022-11-09T19:28:31.594Z"
      },
      {
        "duration": 22,
        "start_time": "2022-11-09T19:28:31.600Z"
      },
      {
        "duration": 22,
        "start_time": "2022-11-09T19:28:31.623Z"
      },
      {
        "duration": 15,
        "start_time": "2022-11-09T19:28:31.647Z"
      },
      {
        "duration": 70,
        "start_time": "2022-11-09T19:28:31.664Z"
      },
      {
        "duration": 2,
        "start_time": "2022-11-09T19:28:31.736Z"
      },
      {
        "duration": 151,
        "start_time": "2022-11-09T19:28:31.740Z"
      },
      {
        "duration": 252,
        "start_time": "2022-11-09T19:28:31.893Z"
      },
      {
        "duration": 157,
        "start_time": "2022-11-09T19:28:32.147Z"
      },
      {
        "duration": 173,
        "start_time": "2022-11-09T19:28:32.306Z"
      },
      {
        "duration": 194,
        "start_time": "2022-11-09T19:28:32.481Z"
      },
      {
        "duration": 163,
        "start_time": "2022-11-09T19:28:32.677Z"
      },
      {
        "duration": 170,
        "start_time": "2022-11-09T19:28:32.841Z"
      },
      {
        "duration": 131,
        "start_time": "2022-11-09T19:28:33.012Z"
      },
      {
        "duration": 175,
        "start_time": "2022-11-09T19:28:33.144Z"
      },
      {
        "duration": 162,
        "start_time": "2022-11-09T19:28:33.323Z"
      },
      {
        "duration": 159,
        "start_time": "2022-11-09T19:28:33.487Z"
      },
      {
        "duration": 159,
        "start_time": "2022-11-09T19:28:33.648Z"
      },
      {
        "duration": 217,
        "start_time": "2022-11-09T19:28:33.809Z"
      },
      {
        "duration": 136,
        "start_time": "2022-11-09T19:28:34.028Z"
      },
      {
        "duration": 121,
        "start_time": "2022-11-09T19:28:34.166Z"
      },
      {
        "duration": 185,
        "start_time": "2022-11-09T19:28:34.288Z"
      },
      {
        "duration": 196,
        "start_time": "2022-11-09T19:28:34.474Z"
      },
      {
        "duration": 173,
        "start_time": "2022-11-09T19:28:34.671Z"
      },
      {
        "duration": 185,
        "start_time": "2022-11-09T19:28:34.846Z"
      },
      {
        "duration": 152,
        "start_time": "2022-11-09T19:28:35.033Z"
      },
      {
        "duration": 421,
        "start_time": "2022-11-09T19:28:35.187Z"
      },
      {
        "duration": 23,
        "start_time": "2022-11-09T19:28:35.610Z"
      },
      {
        "duration": 6,
        "start_time": "2022-11-09T19:28:42.169Z"
      },
      {
        "duration": 87,
        "start_time": "2022-11-09T19:28:49.093Z"
      },
      {
        "duration": 30,
        "start_time": "2022-11-09T19:28:49.181Z"
      },
      {
        "duration": 16,
        "start_time": "2022-11-09T19:28:49.213Z"
      },
      {
        "duration": 2096,
        "start_time": "2022-11-09T19:28:49.230Z"
      },
      {
        "duration": 11,
        "start_time": "2022-11-09T19:28:51.328Z"
      },
      {
        "duration": 8,
        "start_time": "2022-11-09T19:28:51.354Z"
      },
      {
        "duration": 21,
        "start_time": "2022-11-09T19:28:51.364Z"
      },
      {
        "duration": 21,
        "start_time": "2022-11-09T19:28:51.387Z"
      },
      {
        "duration": 90,
        "start_time": "2022-11-09T19:28:51.410Z"
      },
      {
        "duration": 8,
        "start_time": "2022-11-09T19:28:51.502Z"
      },
      {
        "duration": 7,
        "start_time": "2022-11-09T19:28:51.511Z"
      },
      {
        "duration": 15,
        "start_time": "2022-11-09T19:28:51.519Z"
      },
      {
        "duration": 14,
        "start_time": "2022-11-09T19:28:51.556Z"
      },
      {
        "duration": 17,
        "start_time": "2022-11-09T19:28:51.571Z"
      },
      {
        "duration": 6,
        "start_time": "2022-11-09T19:28:51.590Z"
      },
      {
        "duration": 13,
        "start_time": "2022-11-09T19:28:51.598Z"
      },
      {
        "duration": 32,
        "start_time": "2022-11-09T19:28:51.613Z"
      },
      {
        "duration": 18,
        "start_time": "2022-11-09T19:28:51.647Z"
      },
      {
        "duration": 6,
        "start_time": "2022-11-09T19:29:02.482Z"
      },
      {
        "duration": 4,
        "start_time": "2022-11-09T19:29:13.737Z"
      },
      {
        "duration": 87,
        "start_time": "2022-11-09T19:29:20.785Z"
      },
      {
        "duration": 31,
        "start_time": "2022-11-09T19:29:30.977Z"
      },
      {
        "duration": 94,
        "start_time": "2022-11-09T19:30:09.074Z"
      },
      {
        "duration": 40,
        "start_time": "2022-11-09T19:30:12.040Z"
      },
      {
        "duration": 16,
        "start_time": "2022-11-09T19:30:15.462Z"
      },
      {
        "duration": 18,
        "start_time": "2022-11-09T19:30:33.279Z"
      },
      {
        "duration": 5,
        "start_time": "2022-11-09T19:31:05.240Z"
      },
      {
        "duration": 1250,
        "start_time": "2022-11-09T19:31:15.486Z"
      },
      {
        "duration": 46,
        "start_time": "2022-11-09T19:31:29.527Z"
      },
      {
        "duration": 1314,
        "start_time": "2022-11-09T19:32:01.535Z"
      },
      {
        "duration": 1162,
        "start_time": "2022-11-09T19:32:33.469Z"
      },
      {
        "duration": 25,
        "start_time": "2022-11-09T19:32:54.742Z"
      },
      {
        "duration": 16,
        "start_time": "2022-11-09T19:33:03.238Z"
      },
      {
        "duration": 9,
        "start_time": "2022-11-09T19:33:49.957Z"
      },
      {
        "duration": 1124,
        "start_time": "2022-11-09T19:33:56.366Z"
      },
      {
        "duration": 1128,
        "start_time": "2022-11-09T19:34:13.702Z"
      },
      {
        "duration": 1085,
        "start_time": "2022-11-09T19:34:23.390Z"
      },
      {
        "duration": 6,
        "start_time": "2022-11-09T19:34:36.253Z"
      },
      {
        "duration": 6,
        "start_time": "2022-11-09T19:34:42.518Z"
      },
      {
        "duration": 7,
        "start_time": "2022-11-09T19:34:52.109Z"
      },
      {
        "duration": 4,
        "start_time": "2022-11-09T19:34:57.140Z"
      },
      {
        "duration": 4,
        "start_time": "2022-11-09T19:35:01.157Z"
      },
      {
        "duration": 4,
        "start_time": "2022-11-09T19:35:06.932Z"
      },
      {
        "duration": 1616,
        "start_time": "2022-11-09T19:35:15.941Z"
      },
      {
        "duration": 15,
        "start_time": "2022-11-09T19:35:39.002Z"
      },
      {
        "duration": 70,
        "start_time": "2022-11-09T19:36:17.660Z"
      },
      {
        "duration": 4,
        "start_time": "2022-11-09T19:36:21.526Z"
      },
      {
        "duration": 33,
        "start_time": "2022-11-09T19:37:46.832Z"
      },
      {
        "duration": 31,
        "start_time": "2022-11-09T19:37:51.334Z"
      },
      {
        "duration": 61,
        "start_time": "2022-11-09T19:38:00.853Z"
      },
      {
        "duration": 5,
        "start_time": "2022-11-09T19:38:45.478Z"
      },
      {
        "duration": 37,
        "start_time": "2022-11-09T19:38:50.118Z"
      },
      {
        "duration": 40,
        "start_time": "2022-11-09T19:39:11.584Z"
      },
      {
        "duration": 68,
        "start_time": "2022-11-09T19:41:34.611Z"
      },
      {
        "duration": 8,
        "start_time": "2022-11-09T19:46:43.992Z"
      },
      {
        "duration": 15,
        "start_time": "2022-11-09T19:47:11.842Z"
      },
      {
        "duration": 174,
        "start_time": "2022-11-09T19:50:57.082Z"
      },
      {
        "duration": 13,
        "start_time": "2022-11-09T19:51:16.152Z"
      },
      {
        "duration": 11,
        "start_time": "2022-11-09T19:51:39.663Z"
      },
      {
        "duration": 11,
        "start_time": "2022-11-09T19:51:52.887Z"
      },
      {
        "duration": 151,
        "start_time": "2022-11-09T19:51:58.819Z"
      },
      {
        "duration": 27,
        "start_time": "2022-11-09T19:51:58.972Z"
      },
      {
        "duration": 16,
        "start_time": "2022-11-09T19:51:59.001Z"
      },
      {
        "duration": 2052,
        "start_time": "2022-11-09T19:51:59.018Z"
      },
      {
        "duration": 8,
        "start_time": "2022-11-09T19:52:01.072Z"
      },
      {
        "duration": 29,
        "start_time": "2022-11-09T19:52:01.082Z"
      },
      {
        "duration": 57,
        "start_time": "2022-11-09T19:52:01.113Z"
      },
      {
        "duration": 35,
        "start_time": "2022-11-09T19:52:01.172Z"
      },
      {
        "duration": 95,
        "start_time": "2022-11-09T19:52:01.209Z"
      },
      {
        "duration": 7,
        "start_time": "2022-11-09T19:52:01.306Z"
      },
      {
        "duration": 8,
        "start_time": "2022-11-09T19:52:01.315Z"
      },
      {
        "duration": 19,
        "start_time": "2022-11-09T19:52:01.325Z"
      },
      {
        "duration": 12,
        "start_time": "2022-11-09T19:52:01.346Z"
      },
      {
        "duration": 16,
        "start_time": "2022-11-09T19:52:01.360Z"
      },
      {
        "duration": 3,
        "start_time": "2022-11-09T19:52:01.377Z"
      },
      {
        "duration": 21,
        "start_time": "2022-11-09T19:52:01.381Z"
      },
      {
        "duration": 36,
        "start_time": "2022-11-09T19:52:01.403Z"
      },
      {
        "duration": 5,
        "start_time": "2022-11-09T19:52:01.441Z"
      },
      {
        "duration": 70,
        "start_time": "2022-11-09T19:52:01.447Z"
      },
      {
        "duration": 8,
        "start_time": "2022-11-09T19:52:01.519Z"
      },
      {
        "duration": 58,
        "start_time": "2022-11-09T19:52:01.529Z"
      },
      {
        "duration": 6,
        "start_time": "2022-11-09T19:52:01.588Z"
      },
      {
        "duration": 16,
        "start_time": "2022-11-09T19:52:01.596Z"
      },
      {
        "duration": 8,
        "start_time": "2022-11-09T19:52:01.614Z"
      },
      {
        "duration": 364,
        "start_time": "2022-11-09T19:52:01.624Z"
      },
      {
        "duration": 28,
        "start_time": "2022-11-09T19:52:01.990Z"
      },
      {
        "duration": 4,
        "start_time": "2022-11-09T19:52:02.019Z"
      },
      {
        "duration": 36,
        "start_time": "2022-11-09T19:52:02.026Z"
      },
      {
        "duration": 9,
        "start_time": "2022-11-09T19:52:02.064Z"
      },
      {
        "duration": 15,
        "start_time": "2022-11-09T19:52:02.074Z"
      },
      {
        "duration": 13,
        "start_time": "2022-11-09T19:52:02.696Z"
      },
      {
        "duration": 11,
        "start_time": "2022-11-09T19:52:20.199Z"
      },
      {
        "duration": 4,
        "start_time": "2022-11-09T19:52:23.206Z"
      },
      {
        "duration": 10,
        "start_time": "2022-11-09T19:52:29.590Z"
      },
      {
        "duration": 11,
        "start_time": "2022-11-09T19:52:30.615Z"
      },
      {
        "duration": 14,
        "start_time": "2022-11-09T19:52:31.630Z"
      },
      {
        "duration": 10,
        "start_time": "2022-11-09T19:52:33.136Z"
      },
      {
        "duration": 4,
        "start_time": "2022-11-09T19:52:34.086Z"
      },
      {
        "duration": 4,
        "start_time": "2022-11-09T19:52:35.360Z"
      },
      {
        "duration": 13,
        "start_time": "2022-11-09T19:53:37.575Z"
      },
      {
        "duration": 4,
        "start_time": "2022-11-09T19:53:38.551Z"
      },
      {
        "duration": 8,
        "start_time": "2022-11-09T19:53:42.711Z"
      },
      {
        "duration": 130,
        "start_time": "2022-11-09T19:53:45.405Z"
      },
      {
        "duration": 38,
        "start_time": "2022-11-09T19:53:45.537Z"
      },
      {
        "duration": 13,
        "start_time": "2022-11-09T19:53:45.577Z"
      },
      {
        "duration": 2015,
        "start_time": "2022-11-09T19:53:45.592Z"
      },
      {
        "duration": 9,
        "start_time": "2022-11-09T19:53:47.608Z"
      },
      {
        "duration": 9,
        "start_time": "2022-11-09T19:53:47.619Z"
      },
      {
        "duration": 9,
        "start_time": "2022-11-09T19:53:47.630Z"
      },
      {
        "duration": 32,
        "start_time": "2022-11-09T19:53:47.641Z"
      },
      {
        "duration": 97,
        "start_time": "2022-11-09T19:53:47.674Z"
      },
      {
        "duration": 9,
        "start_time": "2022-11-09T19:53:47.774Z"
      },
      {
        "duration": 8,
        "start_time": "2022-11-09T19:53:47.784Z"
      },
      {
        "duration": 10,
        "start_time": "2022-11-09T19:53:47.794Z"
      },
      {
        "duration": 9,
        "start_time": "2022-11-09T19:53:47.806Z"
      },
      {
        "duration": 15,
        "start_time": "2022-11-09T19:53:47.816Z"
      },
      {
        "duration": 3,
        "start_time": "2022-11-09T19:53:47.856Z"
      },
      {
        "duration": 13,
        "start_time": "2022-11-09T19:53:47.860Z"
      },
      {
        "duration": 35,
        "start_time": "2022-11-09T19:53:47.875Z"
      },
      {
        "duration": 4,
        "start_time": "2022-11-09T19:53:47.912Z"
      },
      {
        "duration": 74,
        "start_time": "2022-11-09T19:53:47.918Z"
      },
      {
        "duration": 8,
        "start_time": "2022-11-09T19:53:47.993Z"
      },
      {
        "duration": 28,
        "start_time": "2022-11-09T19:53:48.002Z"
      },
      {
        "duration": 5,
        "start_time": "2022-11-09T19:53:48.032Z"
      },
      {
        "duration": 23,
        "start_time": "2022-11-09T19:53:48.038Z"
      },
      {
        "duration": 5,
        "start_time": "2022-11-09T19:53:48.063Z"
      },
      {
        "duration": 263,
        "start_time": "2022-11-09T19:53:48.070Z"
      },
      {
        "duration": 34,
        "start_time": "2022-11-09T19:53:48.335Z"
      },
      {
        "duration": 4,
        "start_time": "2022-11-09T19:53:48.370Z"
      },
      {
        "duration": 21,
        "start_time": "2022-11-09T19:53:48.377Z"
      },
      {
        "duration": 8,
        "start_time": "2022-11-09T19:53:48.400Z"
      },
      {
        "duration": 18,
        "start_time": "2022-11-09T19:53:48.410Z"
      },
      {
        "duration": 13,
        "start_time": "2022-11-09T19:53:48.429Z"
      },
      {
        "duration": 4,
        "start_time": "2022-11-09T19:54:02.332Z"
      },
      {
        "duration": 147,
        "start_time": "2022-11-09T19:55:40.678Z"
      },
      {
        "duration": 141,
        "start_time": "2022-11-09T19:57:40.366Z"
      },
      {
        "duration": 140,
        "start_time": "2022-11-09T19:58:52.751Z"
      },
      {
        "duration": 141,
        "start_time": "2022-11-09T19:59:00.479Z"
      },
      {
        "duration": 119,
        "start_time": "2022-11-09T19:59:03.510Z"
      },
      {
        "duration": 132,
        "start_time": "2022-11-09T19:59:12.008Z"
      },
      {
        "duration": 295,
        "start_time": "2022-11-09T19:59:32.464Z"
      },
      {
        "duration": 71,
        "start_time": "2022-11-09T20:00:52.909Z"
      },
      {
        "duration": 138,
        "start_time": "2022-11-09T20:00:58.277Z"
      },
      {
        "duration": 162,
        "start_time": "2022-11-09T20:01:13.638Z"
      },
      {
        "duration": 128,
        "start_time": "2022-11-09T20:01:28.477Z"
      },
      {
        "duration": 130,
        "start_time": "2022-11-09T20:01:33.157Z"
      },
      {
        "duration": 138,
        "start_time": "2022-11-09T20:01:36.393Z"
      },
      {
        "duration": 144,
        "start_time": "2022-11-09T20:01:47.228Z"
      },
      {
        "duration": 151,
        "start_time": "2022-11-09T20:02:01.589Z"
      },
      {
        "duration": 33,
        "start_time": "2022-11-09T20:06:53.972Z"
      },
      {
        "duration": 51,
        "start_time": "2022-11-09T20:07:08.368Z"
      },
      {
        "duration": 23,
        "start_time": "2022-11-09T20:08:43.771Z"
      },
      {
        "duration": 140,
        "start_time": "2022-11-09T20:09:03.803Z"
      },
      {
        "duration": 182,
        "start_time": "2022-11-09T20:09:24.220Z"
      },
      {
        "duration": 18,
        "start_time": "2022-11-09T20:09:39.819Z"
      },
      {
        "duration": 166,
        "start_time": "2022-11-09T20:09:51.179Z"
      },
      {
        "duration": 20,
        "start_time": "2022-11-09T20:10:42.306Z"
      },
      {
        "duration": 155,
        "start_time": "2022-11-09T20:10:56.235Z"
      },
      {
        "duration": 191,
        "start_time": "2022-11-09T20:11:50.187Z"
      },
      {
        "duration": 165,
        "start_time": "2022-11-09T20:13:17.404Z"
      },
      {
        "duration": 161,
        "start_time": "2022-11-09T20:13:20.922Z"
      },
      {
        "duration": 191,
        "start_time": "2022-11-09T20:13:43.889Z"
      },
      {
        "duration": 132,
        "start_time": "2022-11-09T20:14:29.587Z"
      }
    ],
    "kernelspec": {
      "display_name": "Python 3 (ipykernel)",
      "language": "python",
      "name": "python3"
    },
    "language_info": {
      "codemirror_mode": {
        "name": "ipython",
        "version": 3
      },
      "file_extension": ".py",
      "mimetype": "text/x-python",
      "name": "python",
      "nbconvert_exporter": "python",
      "pygments_lexer": "ipython3",
      "version": "3.9.5"
    },
    "toc": {
      "base_numbering": 1,
      "nav_menu": {},
      "number_sections": true,
      "sideBar": true,
      "skip_h1_title": true,
      "title_cell": "Table of Contents",
      "title_sidebar": "Contents",
      "toc_cell": false,
      "toc_position": {},
      "toc_section_display": true,
      "toc_window_display": false
    },
    "colab": {
      "provenance": [],
      "toc_visible": true
    }
  },
  "nbformat": 4,
  "nbformat_minor": 0
}